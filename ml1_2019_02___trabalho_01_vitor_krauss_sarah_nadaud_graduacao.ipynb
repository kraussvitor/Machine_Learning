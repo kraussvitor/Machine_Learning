{
  "nbformat": 4,
  "nbformat_minor": 0,
  "metadata": {
    "colab": {
      "name": "Copy of ml1_2019-02_-_trabalho_01.ipynb",
      "provenance": [],
      "collapsed_sections": []
    },
    "kernelspec": {
      "display_name": "Python 3",
      "language": "python",
      "name": "python3"
    },
    "language_info": {
      "codemirror_mode": {
        "name": "ipython",
        "version": 3
      },
      "file_extension": ".py",
      "mimetype": "text/x-python",
      "name": "python",
      "nbconvert_exporter": "python",
      "pygments_lexer": "ipython3",
      "version": "3.7.3"
    }
  },
  "cells": [
    {
      "cell_type": "markdown",
      "metadata": {
        "colab_type": "text",
        "id": "keYX526jcgPL"
      },
      "source": [
        "# Instruções para o trabalho\n",
        "\n",
        "Esse é o nosso primeiro trabalho! Peço por favor que LEIAM ATENTAMENTE as instruções abaixo. Trabalhos que descumpram as regras abaixo terão a avaliação penalizada, podendo ser desconsiderados, dependendo da gravidade da falha.\n",
        "\n",
        "## Entrega:\n",
        "* O trabalho deve ser enviado a mim por e-mail no endereço hugo@dme.ufrj.br até às 23h59' do dia 17/10/2019.\n",
        "* O assunto da mensagem deve, obrigatoriamente, ser no seguinte formato: \"ML1 2019-02 - Trabalho 01 - Primeiro Nome Último Nome, Primeiro Nome Último Nome - Graduação ou Mestrado\".\n",
        "* Para baixar o notebook no Google Colab, clique em \"File\" e depois \"Download .ipynb\". Esse é o arquivo que me deve ser enviado.\n",
        "* O nome do notebook salvo deve seguir o mesmo padrão que o assunto do e-mail.\n",
        "* Caso seja necessário carregar conjuntos de dados, eles também devem ser enviados a mim na mesma mensagem. Nesse caso, todos os arquivos deverão estar em um único arquivo .zip.\n",
        "\n",
        "## Identificação:\n",
        "* Abaixo há um campo específico para sua identificação. Explicite se você é da Graduação ou Mestrado.\n",
        "* Alunos de Graduação podem fazer o trabalho até em dupla, porém o trabalho é individual para alunos de Mestrado.\n",
        "\n",
        "## Estrutura do trabalho\n",
        "* O trabalho consiste em questões teóricas e práticas comuns a ambos os níveis (Graduação e Mestrado), e um bloco de questões extras para alunos de Mestrado.\n",
        "* Alunos de Graduação devem resolver obrigatoriamente o bloco de questões teóricas e práticas comuns, enquanto que alunos de Mestrado devem resolver, adicionalmente, as questões extras.\n",
        "* Recomendo fortemente que façam o trabalho no Google Colab, pois também o usarei para corrigi-lo. Assim, evitaremos problemas do código rodar com vocês e não rodar comigo (mais detalhes abaixo).\n",
        "* Se você preferir, pode trabalhar nas questões práticas em notebooks separados desse aqui, porém a entrega deve ser feita obrigatoriamente nesse documento, com os códigos nos campos adequados. Lembre-se de verificar se o código todo está rodando antes de me enviar o trabalho!\n",
        "\n",
        "## Avaliação:\n",
        "* Irei rodar no Google Colab o notebook a mim enviado, de modo a evitar incompatibilidades de versões de pacotes nas nossas máquinas.\n",
        "* O código terá que rodar corretamente para ser avaliado. Você pode simular isso na sua máquina, ao término do trabalho, clicando em \"Runtime\" e em seguida em \"Restart runtime...\" e depois rodar o seu trabalho todo. Esse procedimento limpa toda a memória e emula o processo que farei na minha máquina. A menos de alguma bizarrice muito louca de baixíssima probabilidade, se assim rodou com você, irá rodar comigo também.\n",
        "* Alunos de Mestrado, além das questões extras, terão uma avaliação mais criteriosa nas questões comuns.\n",
        "* Caso alunos da Graduação resolvam questões extras, poderão ganhar um bônus na nota final, dependendo da solução apresentada.\n",
        "* A cooperação entre grupos é não só permitida como também estimulada. Porém, cada grupo deve ter seu próprio código, e estarei atento para qualquer irregularidade.\n",
        "* NÃO TENTEM ME ENGANAR! Da mesma forma que sou totalmente transparente ao informar quando não sei realizar uma tarefa computacional e preciso buscar ajuda na Internet, espero o mesmo de vocês: caso precisem recorrer a um código pronto da Internet ou colaborar com outro grupo para contornar algum problema, implicando em uma grande similaridade no código, SEJAM EXPLÍCITOS NISSO! Essa atitude NÃO será punida! Porém, um copia-e-cola descarado será severamente punido.\n",
        "* Da mesma forma, se algum bloco do código de vocês funciona mas vocês não sabem o porque, SEJAM EXPLICITOS NISSO! Isso também NÃO será punido. Eu quero saber exatamente como está a fluência de vocês com programação, bem como com contornar problemas.\n",
        "* Quanto às questões teóricas, vale o mesmo: eu prefiro ler uma tentativa honesta porém incompleta (e talvez até errada) de uma prova do que um copia-e-cola de qualquer referência ou página da Internet. Essa atitude será severamente punida.\n",
        "* Sejam explícitos nas referências que precisaram recorrer para as questões tanto teóricas quanto práticas, se for necessário alguma.\n",
        "\n",
        "### Em suma, sua nota vai ser melhor se você me mostrar um trabalho menos completo porém totalmente honesto e transparente do que um trabalho perfeito construído à base de desonestidade. O que importa é o esforço e aprendizado de vocês, não códigos/demonstrações perfeitas copiadas descaradamente. Além de, obviamente, o aprendizado sair extremamente prejudicado nesse segundo cenário.\n",
        "\n",
        "## Escrita do trabalho:\n",
        "* As questões teóricas devem ser respondidas nos respectivos espaços adequados abaixo, em $\\LaTeX$. Não aceitarei questões manuscritas.\n",
        "* As questões práticas também têm um espaço respectivo para sua resolução.\n",
        "* O código de vocês DEVE estar devidamente comentado, organizado e legível! A sintaxe do Python permite a criação de códigos muito legíveis por humanos, explorem isso!\n",
        "* Evite usar nomes obscuros de variáveis, e prefira nomes um pouco mais longos porém mais explicativos.\n",
        "* Para evitar problemas no meio do trabalho, importe logo no começo, no espaço adequado, os pacotes que precisará para as questões práticas. Não coloque blocos no meio do trabalho importando pacotes.\n",
        "\n",
        "\n",
        "## Bom trabalho!"
      ]
    },
    {
      "cell_type": "markdown",
      "metadata": {
        "colab_type": "text",
        "id": "eIQgfptsdLhk"
      },
      "source": [
        "# Identificação\n",
        "\n",
        "Nome(s), curso(s) e DRE(s):\n",
        "\n",
        "Vitor Mazal Krauss, Matemática Aplicada, 116060726.\n",
        "Sarah Nadaud, Matemática Aplicada , 115049890.\n",
        "\n",
        "Nível que deseja(m) ser avaliado(s):\n",
        "\n",
        "Graduação."
      ]
    },
    {
      "cell_type": "code",
      "metadata": {
        "colab_type": "code",
        "id": "hTeqPGY5e4mP",
        "colab": {}
      },
      "source": [
        "# Carregue aqui todos os pacotes que precisar\n",
        "import numpy as np\n",
        "import matplotlib.pyplot as plt\n",
        "import matplotlib\n",
        "from sklearn import feature_extraction, model_selection, naive_bayes, metrics,discriminant_analysis\n",
        "import sklearn\n",
        "from matplotlib.colors import ListedColormap\n",
        "from google.colab import files\n",
        "import pandas as pd\n",
        "import io \n",
        "from sklearn.neighbors import KernelDensity"
      ],
      "execution_count": 0,
      "outputs": []
    },
    {
      "cell_type": "markdown",
      "metadata": {
        "colab_type": "text",
        "id": "hZ072eMWc7q1"
      },
      "source": [
        "# Questões teóricas"
      ]
    },
    {
      "cell_type": "markdown",
      "metadata": {
        "colab_type": "text",
        "id": "Jq-FjWuUIX_c"
      },
      "source": [
        "## T1) A desigualdade de Hoeffding\n",
        "\n",
        "O objetivo dessa questão é você mostrar a Desigualdade de Hoeffding: Sejam $W_1, \\dots, W_m$ variáveis aleatórias independentes, com $W_i$ tomando valores em $(a_i, b_i)$. Temos então que $$\\mathbb{P}(|\\overline{W}_m - \\mathbb{E}[\\overline{W}_m]| > \\delta) \\leq 2\\exp\\left(-2m^2\\delta^2/\\sum_{i = 1}^{m} (b_i - a_i)^2\\right).$$\n",
        "\n",
        "Para isso, você pode usar livremente (sem prová-lo) o Lema de Hoeffding: Seja $W$ uma variável aleatória de média zero assumindo valores no intervalo $(a, b)$. Então $$\\mathbb{E}[e^{tW}] \\leq \\exp\\left(\\frac{1}{8}t^2(b - a)^2\\right).$$ Com base nisso, use a cota de Chernoff na variável aleatória $\\overline{W}_m - \\mathbb{E}[\\overline{W}_m]$ para obter o resultado desejado.\n",
        "\n",
        "Se você quiser, provar o Lema de Hoeffding pode valer um bônus :-) Caso você tente e consiga com outra constante que não $1/8$, não tem problema. O importante é sua tentativa ser honesta."
      ]
    },
    {
      "cell_type": "markdown",
      "metadata": {
        "colab_type": "text",
        "id": "hWBU1USp2HFd"
      },
      "source": [
        "-- Escreva aqui a sua resolução --\n",
        "\n",
        "\n",
        "Em primeiro lugar, temos das propriedades básicas do valor absoluto que $\\forall \\delta \\in \\mathbb{R}$,\n",
        "\n",
        "\n",
        "$$ \\vert \\overline{W}_{m} - \\mathbb{E}[\\overline{W}_{m}] \\vert > \\delta \\iff \\langle \\overline{W}_{m} - \\mathbb{E}[\\overline{W}_{m}] > \\delta \\rangle \\lor \\langle -(\\overline{W}_{m} - \\mathbb{E}[\\overline{W}_{m}]) > \\delta \\rangle $$\n",
        "\n",
        "\n",
        "e que $\\forall t > 0$,\n",
        "\n",
        "\n",
        "$$ \\vert \\overline{W}_{m} - \\mathbb{E}[\\overline{W}_{m}] \\vert > \\delta \\iff t\\vert \\overline{W}_{m} - \\mathbb{E}[\\overline{W}_{m}] \\vert > t\\delta  $$\n",
        "\n",
        "\n",
        "Seja $t>0$ arbitrário. Então temos que \n",
        "\n",
        "$$ \\mathbb{P}(\\vert \\overline{W}_{m} - \\mathbb{E}[\\overline{W}_{m}] \\vert > \\delta) = \\mathbb{P}(t\\vert \\overline{W}_{m} - \\mathbb{E}[\\overline{W}_{m}] \\vert > t\\delta)  = \\mathbb{P}(t(\\overline{W}_{m} - \\mathbb{E}[\\overline{W}_{m}]) > t\\delta) + \\mathbb{P}(-t(\\overline{W}_{m} - \\mathbb{E}[\\overline{W}_{m}]) > t\\delta) $$\n",
        "\n",
        "\n",
        "Vamos olhar para os dois termos nesta última igualdade.\n",
        "\n",
        "Sabemos que se $a,b \\in \\mathbb{R}, a>0 \\land b>0$ então $a<b \\iff e^a < e^b$.\n",
        "\n",
        "Seja $\\delta \\geq 0$. Para o primeiro termo temos \n",
        "\n",
        "$$ \\mathbb{P}(t(\\overline{W}_{m} - \\mathbb{E}[\\overline{W}_{m}]) > t\\delta) = \\mathbb{P}(\\exp\\{ t(\\overline{W}_{m} - \\mathbb{E}[\\overline{W}_{m}]) \\} > \\exp\\{ t\\delta \\} ) \\leq \\frac{\\mathbb{E}[\\exp\\{t(\\overline{W}_{m} - \\mathbb{E}[\\overline{W}_{m}])\\}]}{\\exp\\{t\\delta\\}} $$\n",
        "\n",
        "onde usamos a desigualdade de Markov para obter a desigualdade. \n",
        "\n",
        "Similarmente para o segundo termo temos \n",
        "\n",
        "$$ \\mathbb{P}(-t(\\overline{W}_{m} - \\mathbb{E}[\\overline{W}_{m}]) > t\\delta) = \\mathbb{P}(\\exp\\{-t(\\overline{W}_{m} - \\mathbb{E}[\\overline{W}_{m}]) \\} > \\exp\\{ t\\delta \\} ) \\leq \\frac{\\mathbb{E}[\\exp\\{-t(\\overline{W}_{m} - \\mathbb{E}[\\overline{W}_{m}]) \\}]}{\\exp\\{t\\delta\\}} $$\n",
        "\n",
        "Consideremos a variável aleatória $\\vert \\overline{W}_{m} - \\mathbb{E}[\\overline{W}_{m}]\\vert$.\n",
        "\n",
        "Primeiro, observe que\n",
        "\n",
        "$$ \\mathbb{E}[\\overline{W}_{m} - \\mathbb{E}[\\overline{W}_{m}]] = \\mathbb{E}[\\overline{W}_{m}] - \\mathbb{E}[\\mathbb{E}[\\overline{W}_{m}]] = \\mathbb{E}[\\overline{W}_{m}] - \\mathbb{E}[\\overline{W}_{m}] = 0 $$\n",
        "\n",
        "Logo\n",
        "\n",
        "$$  $$\n",
        "\n",
        "Note que para cada $i=1, \\ldots, m, W_i \\in (a_i, b_i)$ e, portanto,\n",
        "\n",
        "$$\\frac{t}{m}(W_i - \\mathbb{E}[W_i]) \\in \\Bigg(\\frac{t(a_i - \\mathbb{E}[W_i])}{m}, \\frac{t(b_i - \\mathbb{E}[W_i])}{m}\\Bigg)$$\n",
        "\n",
        "Além disso, para cada $i=1, \\ldots, m$,\n",
        "\n",
        "$$ \\mathbb{E}[W_i - \\mathbb{E}[W_i]] = \\mathbb{E}[W_i] - \\mathbb{E}[\\mathbb{E}[W_i]] = \\mathbb{E}[W_i] - \\mathbb{E}[W_i] = 0 $$\n",
        "\n",
        "Logo para cada $i$ podemos usar o lema de Hoeffding, o que nos dá que \n",
        "\n",
        "$$ \\mathbb{E}[\\exp\\{ \\frac{t}{m}(W_i - \\mathbb{E}[W_i]) \\}] \\leq \\exp\\Big\\{\\frac{1}{8} \\frac{t^2}{m^2} (b_i - a_i)^2\\Big\\} $$\n",
        "\n",
        "Agora, vemos que\n",
        "\n",
        "$$ \\mathbb{E}[\\exp\\{ t(\\overline{W}_{m} - \\mathbb{E}[\\overline{W}_{m}]) \\}] = \\mathbb{E}\\Big[\\exp\\Big\\{ \\frac{t}{m} \\sum_{i=1}^{m} W_i - \\mathbb{E}[W_i] \\Big\\} \\Big] = \\mathbb{E}\\Big[ \\prod_{i=1}^{m} \\exp\\Big\\{ \\frac{t}{m} (W_i - \\mathbb{E}[W_i]) \\Big\\} \\Big] $$\n",
        "\n",
        "e usando a hipótese de independência, temos \n",
        "\n",
        "$$ \\mathbb{E}\\Big[ \\prod_{i=1}^{m} \\exp\\Big\\{ \\frac{t}{m} (W_i - \\mathbb{E}[W_i]) \\Big\\} \\Big] = \\prod_{i=1}^{m} \\mathbb{E}\\Big[ \\exp\\Big\\{ \\frac{t}{m} (W_i - \\mathbb{E}[W_i]) \\Big\\} \\Big] \\leq \\prod_{i=1}^{m} \\exp\\Big\\{\\frac{1}{8} \\frac{t^2}{m^2} (b_i - a_i)^2\\Big\\} = \\exp\\Big\\{ \\frac{1}{8} \\frac{t^2}{m^2} \\sum_{i=1}^{m} (b_i - a_i)^2 \\Big\\}  $$\n",
        "\n",
        "Daí, \n",
        "\n",
        "$$ \\mathbb{P}(t(\\overline{W}_{m} - \\mathbb{E}[\\overline{W}_{m}]) > t\\delta) \\leq \\frac{\\mathbb{E}[\\exp\\{t(\\overline{W}_{m} - \\mathbb{E}[\\overline{W}_{m}])\\}]}{\\exp\\{t\\delta\\}} \\leq \\frac{\\exp\\Big\\{ \\frac{1}{8} \\frac{t^2}{m^2} \\sum_{i=1}^{m} (b_i - a_i)^2 \\Big\\}}{\\exp\\{t\\delta\\}} = \\exp\\Big\\{ \\frac{1}{8} \\frac{t^2}{m^2} \\sum_{i=1}^{m} (b_i - a_i)^2 - t\\delta \\Big\\}  $$\n",
        "\n",
        "Assim, temos uma cota superior para cada valor de $t$. Para escolhermos a menor cota superior, basta minimizar o expoente(em função de $t$).\n",
        "\n",
        "Defina $g(t) = \\frac{1}{8} \\frac{t^2}{m^2} \\sum_{i=1}^{m} (b_i - a_i)^2 - t\\delta $\n",
        "\n",
        "Daí $g'(t) = \\frac{1}{4} \\frac{t}{m^2} \\sum_{i=1}^{m} (b_i - a_i)^2 - \\delta$\n",
        "\n",
        "Logo para $t^* = \\frac{4\\delta m^2}{\\sum_{i=1}^{m} (b_i - a_i)^2}$ temos $g'(t^*) = 0$. Note também que $t^* > 0$(lembre que tínhamos suposto $t>0$)\n",
        "\n",
        "E $g''(t) = \\frac{1}{4m^2} \\sum_{i=1}^{m} (b_i - a_i)^2 > 0, \\forall t$, logo temos, de fato, um ponto de mínimo. \n",
        "\n",
        "Note que $g(t^*) = \\frac{-2 \\delta^2 m^2}{\\sum_{i=1}^{m} (b_i - a_i)^2}$ \n",
        "\n",
        "Substituindo $g(t^*)$ no expoente ficamos com \n",
        "\n",
        "$$ \\mathbb{P}(t(\\overline{W}_{m} - \\mathbb{E}[\\overline{W}_{m}]) > t\\delta) \\leq \\exp\\Bigg\\{ \\frac{-2 \\delta^2 m^2}{\\sum_{i=1}^{m} (b_i - a_i)^2}\\Bigg\\}  $$\n",
        "\n",
        "Agora note que para cada $i=1,\\ldots, m$, como $W_i \\in (a_i, b_i)$, então \n",
        "\n",
        "$$ \\frac{-t}{m}(W_i - \\mathbb{E}[W_i]) \\in \\Bigg( \\frac{-t(b_i - \\mathbb{E}[W_i])}{m} \\frac{-t(a_i - \\mathbb{E}[W_i]}{m} \\Bigg)  $$\n",
        "\n",
        "Como $\\mathbb{E}[W_i - \\mathbb{E}[W_i]] = 0$ então usamos novamente o Lema de Hoeffding e obtemos que \n",
        "\n",
        "$$ \\mathbb{E}[\\exp\\{ \\frac{-t}{m}(W_i - \\mathbb{E}[W_i]) \\}] \\leq \\exp\\Big\\{\\frac{1}{8} \\frac{t^2}{m^2} (a_i - b_i)^2\\Big\\} = \\exp\\Big\\{\\frac{1}{8} \\frac{t^2}{m^2} (b_i - a_i)^2\\Big\\}  $$\n",
        "\n",
        "De forma similar ao caso anterior, obtemos que \n",
        "\n",
        "$$ \\mathbb{P}(-t(\\overline{W}_{m} - \\mathbb{E}[\\overline{W}_{m}]) > t\\delta) \\leq \\exp\\Bigg\\{ \\frac{-2 \\delta^2 m^2}{\\sum_{i=1}^{m} (b_i - a_i)^2}\\Bigg\\} $$\n",
        "\n",
        "Daí, finalmente, \n",
        "\n",
        "$$\\mathbb{P}(\\vert\\overline{W}_{m} - \\mathbb{E}[\\overline{W}_{m}]\\vert  > \\delta) = \\mathbb{P}(t\\vert\\overline{W}_{m} - \\mathbb{E}[\\overline{W}_{m}]\\vert > t\\delta) = \\mathbb{P}(t(\\overline{W}_{m} - \\mathbb{E}[\\overline{W}_{m}]) > t\\delta) + \\mathbb{P}(-t(\\overline{W}_{m} - \\mathbb{E}[\\overline{W}_{m}]) > t\\delta) \\leq \\exp\\Bigg\\{ \\frac{-2 \\delta^2 m^2}{\\sum_{i=1}^{m} (b_i - a_i)^2}\\Bigg\\} + \\exp\\Bigg\\{ \\frac{-2 \\delta^2 m^2}{\\sum_{i=1}^{m} (b_i - a_i)^2}\\Bigg\\} = 2 \\exp\\Bigg\\{ \\frac{-2 \\delta^2 m^2}{\\sum_{i=1}^{m} (b_i - a_i)^2}\\Bigg\\} $$"
      ]
    },
    {
      "cell_type": "markdown",
      "metadata": {
        "colab_type": "text",
        "id": "WLYwmgcQ2G-c"
      },
      "source": [
        "## T2) LDA e QDA no caso de $p = 1$\n",
        "\n",
        "Em aula vimos as regras de decisão para os classificadores LDA e QDA quando a dimensão da variável preditora é um valor de $p$ qualquer. Particularize aqueles resultados para $p = 1$, e diga ao que os adjetivos \"linear\" e \"quadrático\" se referem nesse cenário específico."
      ]
    },
    {
      "cell_type": "markdown",
      "metadata": {
        "colab_type": "text",
        "id": "MNh9uvze2zRS"
      },
      "source": [
        "-- Escreva aqui a sua resolução --\n",
        "\n",
        "No caso do LDA o critério de decisão é\n",
        "\n",
        "$$ \\mathrm{arg}\\max_k p_k(x) = \\mathrm{arg}\\max_k \\frac{\\pi_k \\frac{1}{\\sqrt{2\\pi}\\sigma} \\exp\\{ \\frac{-1}{2\\sigma^2} (x-\\mu_k)^2 \\}}{\\sum_{i \\in K} \\pi_i \\frac{1}{\\sqrt{2\\pi}\\sigma} \\exp\\{ \\frac{-1}{2\\sigma^2} (x-\\mu_i)^2 \\} } $$\n",
        "\n",
        "ou seja, a observação $x$ é associada à classe $k$ que maximiza $p_k(x)$. \n",
        "\n",
        "Primeiramente, observe que o termo divisor não depende de $k$. Com efeito, o termo divisor é igual para todo $k = 1, \\ldots, K$. Assim, para maximizar $p_k(x)$ basta maximizar $\\pi_k \\frac{1}{\\sqrt{2\\pi}\\sigma} \\exp\\{ \\frac{-1}{2\\sigma^2} (x-\\mu_k)^2 \\}$.\n",
        "\n",
        "Seja $d_k(x) = \\pi_k \\frac{1}{\\sqrt{2\\pi}\\sigma} \\exp\\{ \\frac{-1}{2\\sigma^2} (x-\\mu_k)^2 \\}$\n",
        "\n",
        "Nesta expressão, é claro que os termos exponenciais são positivos. Além disso, os termos $\\pi_k$ são estimados do conjunto de treino pela proporção de indivíduos da classe $k$ neste conjunto. Logo $\\pi_i \\geq 0, \\forall i$. Portanto $p_k(x) \\geq 0, \\forall i = 1, \\ldots, K$ e podemos considerar seu logaritmo.\n",
        "\n",
        "Observe que para maximizar $d_k(x)$ basta maximizar $\\log(d_k(x))$ \n",
        "\n",
        "Daí, note que\n",
        "\n",
        "$$ \\log(d_k(x)) = \\log \\Big( \\pi_k \\frac{1}{\\sqrt{2\\pi}\\sigma} \\exp\\{ \\frac{-1}{2\\sigma^2} (x-\\mu_k)^2  \\Big) = \\log(\\pi_k) + \\log\\big(\\frac{1}{\\sqrt{2\\pi}\\sigma}\\big) - \\frac{1}{2\\sigma^2} (x-\\mu_k)^2 = \\log(\\pi_k) + \\log\\big(\\frac{1}{\\sqrt{2\\pi}\\sigma}\\big) - \\frac{x^2}{2\\sigma^2} + x \\frac{\\mu_k}{\\sigma^2} - \\frac{\\mu_{k}^{2}}{2\\sigma^2}  $$\n",
        "\n",
        "Como queremos maximizar $d_k(x)$ como função de $k$, basta maximizar apenas os termos que dependem de $k$. Qualquer termo que não depende de $k$ \n",
        "pode ser desconsiderado. Neste caso vamos desconsiderar $\\log\\big(\\frac{1}{\\sqrt{2\\pi}\\sigma}\\big)$ e $\\frac{x^2}{2\\sigma^2}$. Assim, para maximizar $log(d_k(x))$ basta maximizar \n",
        "\n",
        "$$  \\hat{d_k}(x) =  \\log(\\pi_k) + x \\frac{\\mu_k}{\\sigma^2} - \\frac{\\mu_{k}^{2}}{2\\sigma^2}$$\n",
        "\n",
        "Assim, podemos ver que a dependência do critério de decisão do LDA na variável regressora $x$ é linear, através do termo $x\\frac{\\mu_k}{\\sigma^2}$, e, por isso, recebe em seu nome o adjetivo \"linear\".\n",
        "\n",
        "\n",
        "Já para o QDA o critério de decisão é \n",
        "\n",
        "$$ \\mathrm{arg}\\max_k p_k(x) = \\mathrm{arg}\\max_k \\frac{\\pi_k \\frac{1}{\\sqrt{2\\pi}\\sigma_k} \\exp\\{ \\frac{-1}{2\\sigma_k^2} (x-\\mu_k)^2 \\}}{\\sum_{i \\in K} \\pi_i \\frac{1}{\\sqrt{2\\pi}\\sigma_i} \\exp\\{ \\frac{-1}{2\\sigma_i^2} (x-\\mu_i)^2 \\} }  $$\n",
        "\n",
        "Novamente, o termo divisor não depende de $k$ e, logo, para maximizar $p_k(x)$ basta maximizar $\\pi_k \\frac{1}{\\sqrt{2\\pi}\\sigma_k} \\exp\\{ \\frac{-1}{2\\sigma_k^2} (x-\\mu_k)^2 \\} = e_k(x)$\n",
        "\n",
        "Evidentemente, o termo exponencial em $e_k(x)$ é positivo, assim como $\\pi_k$ é positivo, uma vez que é uma proporção amostral. Aqui $\\sigma_k$ é uma estimativa para a variância da distribuição das variáveis regressoras em cada classe. Sendo uma (estimativa de) variância, temos que $\\sigma_k \\geq 0, \\forall i = 1, \\ldots, K$. Assim, $e_k(x) \\geq 0, \\forall i = 1, \\ldots, K$ e podemos considerar seu logaritmo. \n",
        "\n",
        "Observe que para maximizar $e_k(x)$ basta maximizar $\\log e_k(x)$.\n",
        "\n",
        "Daí, observe que \n",
        "\n",
        "$$ \\log e_k(x) = \\log \\Bigg( \\pi_k \\frac{1}{\\sqrt{2\\pi}\\sigma_k} \\exp\\{ \\frac{-1}{2\\sigma_k^2} (x-\\mu_k)^2 \\} \\Bigg) = \\log(\\pi_k) + \\log\\Big(\\frac{1}{\\sqrt{2\\pi}\\sigma_k}\\Big) - \\frac{1}{2\\sigma_k^2}(x-\\mu_k)^2 = \\log(\\pi_k) + \\log\\Big(\\frac{1}{\\sqrt{2\\pi}\\sigma_k}\\Big) - \\frac{x^2}{2\\sigma_k^2} + x\\frac{\\mu_k}{\\sigma^2} - \\frac{\\mu_k^2}{2\\sigma_k^2} $$\n",
        "\n",
        "Neste caso, note que todos os termos dependem de $k$ e, portanto, devemos considerar todos os termos. \n",
        "\n",
        "Assim, para maximizar $p_k(x)$ basta maximizar \n",
        "\n",
        "$$ \\log(\\pi_k) + \\log\\Big(\\frac{1}{\\sqrt{2\\pi}\\sigma_k}\\Big) - \\frac{x^2}{2\\sigma_k^2} + x\\frac{\\mu_k}{\\sigma^2} - \\frac{\\mu_k^2}{2\\sigma_k^2} $$\n",
        "\n",
        "Aqui podemos ver a dependência do (critério de decisão do) QDA na variável regressora através do termo $\\frac{-x^2}{2\\sigma_k^2}$, que é quadrático em $x$. Esta dependência em um termo quadrático de $x$ dá ao QDA o adjetivo \"quadrático\"."
      ]
    },
    {
      "cell_type": "markdown",
      "metadata": {
        "colab_type": "text",
        "id": "Ziv1Fvgd3veG"
      },
      "source": [
        "## T3) Uma outra função risco\n",
        "\n",
        "Encontre o classificador que minimiza a função risco abaixo: $$\\widetilde{R}(g) = \\mathbb{E}[\\alpha_0\\mathbb{I}(Y \\neq g(\\mathbf{X}) \\text{ e } Y = 0) + \\alpha_1\\mathbb{I}(Y \\neq g(\\mathbf{X}) \\text{ e } Y = 1)]$$\n",
        "\n",
        "-- Resolução --\n",
        "\n",
        "Queremos minimizar $\\widetilde{R}(g)$.\n",
        "\n",
        "Observe que \n",
        "\n",
        "$$\\widetilde{R}(g) = \\mathbb{E}[\\alpha_0\\mathbb{I}(Y \\neq g(\\mathbf{X}) \\land Y = 0) + \\alpha_1\\mathbb{I}(Y \\neq g(\\mathbf{X}) \\land Y = 1)] = \\mathbb{E}\\big[\\mathbb{E}[\\alpha_0\\mathbb{I}(Y \\neq g(\\mathbf{X}) \\land Y = 0) + \\alpha_1\\mathbb{I}(Y \\neq g(\\mathbf{X}) \\land Y = 1) \\mid \\mathbf{X}]\\big] = \\mathbb{E}\\big[ \\alpha_0 \\mathbb{E}[\\mathbb{I}(Y \\neq g(\\mathbf{X}) \\land Y = 0) \\mid \\mathbf{X} ] + \\alpha_1 \\mathbb{E}[\\mathbb{I}(Y \\neq g(\\mathbf{X}) \\land Y = 1) \\mid \\mathbf{X}] \\big] = \\mathbb{E}\\big[ \\alpha_0 \\mathbb{P}(Y \\neq g(\\mathbf{X}) \\land Y = 0 \\mid \\mathbf{X}) + \\alpha_1 \\mathbb{P} (Y \\neq g(\\mathbf{X}) \\land Y = 1 \\mid \\mathbf{X})  \\big]  $$\n",
        "\n",
        "Repare que $g(\\mathbf{X})$ é $\\mathbf{X}$-mensurável e que na última expressão o valor esperado é tomado sob a distribuição de $Y$. Para minimizar este valor esperado basta minimizar a seguinte função\n",
        "\n",
        "$$ h(x) = \n",
        "\\begin{cases}\n",
        "\\alpha_0 \\mathbb{P}(Y = 0 \\mid \\mathbf{X}=x) \\text{ se } g(x) = 1 \\\\\n",
        "\\alpha_1 \\mathbb{P}(Y = 1 \\mid \\mathbf{X}=x) \\text{ se } g(x) = 0\\\\\n",
        "\\end{cases}\n",
        "$$\n",
        "\n",
        "para cada valor de $x$. \n",
        "\n",
        "Note que \n",
        "\n",
        "$$ h(x) = \n",
        "\\begin{cases}\n",
        "\\alpha_0(\\mathbb{P}(Y = 0 \\mid \\mathbf{X}=x)) \\text{ se } g(x) = 1 \\\\\n",
        "\\alpha_1(1 - \\mathbb{P}(Y = 0 \\mid \\mathbf{X}=x)) \\text{ se } g(x) = 0\\\\\n",
        "\\end{cases}\n",
        "$$\n",
        "\n",
        "Logo $g(x)$ deve ser igual a $1$ se \n",
        "$$ \\alpha_0\\mathbb{P}(Y = 0 \\mid \\mathbf{X}=x) < \\alpha_1(1 - \\mathbb{P}(Y = 0 \\mid \\mathbf{X}=x)) $$\n",
        "\n",
        "e deve ser igual a $0$ se \n",
        "\n",
        "$$\\alpha_0\\mathbb{P}(Y = 0 \\mid \\mathbf{X}=x) > \\alpha_1(1 - \\mathbb{P}(Y = 0 \\mid \\mathbf{X}=x)) $$\n",
        "\n",
        "Mas \n",
        "\n",
        "$$ \\alpha_0\\mathbb{P}(Y = 0 \\mid \\mathbf{X}=x) < \\alpha_1(1 - \\mathbb{P}(Y = 0 \\mid \\mathbf{X}=x)) \\iff \\mathbb{P}(Y = 0 \\mid \\mathbf{X}=x) < \\frac{\\alpha_1}{\\alpha_0 + \\alpha_1}  $$\n",
        "\n",
        "e \n",
        "\n",
        "$$ \\alpha_0\\mathbb{P}(Y = 0 \\mid \\mathbf{X}=x) > \\alpha_1(1 - \\mathbb{P}(Y = 0 \\mid \\mathbf{X}=x)) \\iff \\mathbb{P}(Y = 0 \\mid \\mathbf{X}=x) > \\frac{\\alpha_1}{\\alpha_0 + \\alpha_1} $$\n",
        "\n",
        "Portanto o classificador que minimiza $\\widetilde{R}(g)$ é \n",
        "\n",
        "$$ g(x) = \n",
        "\\begin{cases}\n",
        "1 \\text{ se } \\mathbb{P}(Y = 0 \\mid \\mathbf{X}=x) < \\frac{\\alpha_1}{\\alpha_0 + \\alpha_1} \\\\\n",
        "0 \\text{ se } \\mathbb{P}(Y = 0 \\mid \\mathbf{X}=x) > \\frac{\\alpha_1}{\\alpha_0 + \\alpha_1}\n",
        "\\end{cases}\n",
        "$$\n",
        "\n",
        "Note também que em muitos casos, principalmente situações práticas, $\\mathbb{P}(Y = 0 \\mid \\mathbf{X}=x)$ deve ser estimado. Para isso, podemos usar, por exemplo, regressão logística.  \n",
        "\n"
      ]
    },
    {
      "cell_type": "markdown",
      "metadata": {
        "colab_type": "text",
        "id": "DHj1gECVc_tu"
      },
      "source": [
        "# Questões práticas"
      ]
    },
    {
      "cell_type": "markdown",
      "metadata": {
        "colab_type": "text",
        "id": "9fGOJq5D6rYC"
      },
      "source": [
        "## P1) Comparação de classificadores com dados artificiais\n",
        "\n",
        "O objetivo dessa questão é comparar alguns classificadores vistos até então, com um conjunto de dados artificial onde somos capazes de calcular resultados teóricos. Sendo 100% honesto, essa questão é um misto de prática e teoria."
      ]
    },
    {
      "cell_type": "markdown",
      "metadata": {
        "colab_type": "text",
        "id": "HbsYrVoot2qT"
      },
      "source": [
        "a) Gere um conjunto de dados com 100 observações em cada classe, de modo que $\\mathbf{X} | (Y = 0) \\sim \\mathcal{N}(\\mu_0, \\Sigma_0)$ e $\\mathbf{X} | (Y = 1) \\sim \\mathcal{N}(\\mu_1, \\Sigma_1)$, onde $\\mu_0 = [-2 ~~ -2]^T$, $\\mu_1 = [2 ~~ 2]^T$, $\\displaystyle \\Sigma_0 = \\begin{bmatrix} 3 & -1 \\\\ -1 & 3 \\end{bmatrix}$ e $\\displaystyle \\Sigma_1 = \\begin{bmatrix} 3 & 1 \\\\ 1 & 3 \\end{bmatrix}$. Plote esse conjunto de dados e separe 50 observações de cada classe para ser o seu conjunto de treinamento e outras 50 para ser o seu conjunto de teste.\n",
        "\n",
        "Caso você queira garantir reproducibilidade, na célula onde você gerar os dados e separá-los em conjuntos de treinamento e teste, logo acima dos respectivos comandos, use \"np.random.seed(5)\". Assim poderei ver exatamente o mesmo conjunto de dados ao rodar o código de vocês. Note que:\n",
        "* O escopo do comando acima é somente uma célula, de modo que todas as outras escolhas aleatórias no trabalho todo não serão afetadas por ele;\n",
        "* O número 5 não tem nada de especial, além de ser meu inteiro favorito :-) use o inteiro que quiser!"
      ]
    },
    {
      "cell_type": "code",
      "metadata": {
        "colab_type": "code",
        "id": "rDU4QYwvvpVE",
        "outputId": "c0f1055d-b5e8-4970-ba6b-008a75fb9f8e",
        "colab": {
          "base_uri": "https://localhost:8080/",
          "height": 281
        }
      },
      "source": [
        "# Gerando o conjunto das observações\n",
        "np.random.seed(247)\n",
        "μ0 = [-2 , -2]\n",
        "μ1 = [2 , 2]\n",
        "Σ0 = [[3 , -1],[-1 , 3]]\n",
        "Σ1 = [[3 , 1], [1 , 3]]\n",
        "X0 = np.random.multivariate_normal(μ0, Σ0, 100)\n",
        "X0_labels = [0]*(100)\n",
        "X1 = np.random.multivariate_normal(μ1, Σ1, 100)\n",
        "X1_labels = [1]*(100)\n",
        "\n",
        "x00 , x01 = X0.T\n",
        "x10 , x11 = X1.T\n",
        "\n",
        "plt.plot(x00,x01,'o',label = 'category 0')\n",
        "plt.plot(x10,x11,'o',label = 'category 1')\n",
        "plt.title(\"Scatter plot da amostra\")\n",
        "plt.legend()\n",
        "plt.show()"
      ],
      "execution_count": 0,
      "outputs": [
        {
          "output_type": "display_data",
          "data": {
            "image/png": "[encoded data removed]",
            "text/plain": [
              "<Figure size 432x288 with 1 Axes>"
            ]
          },
          "metadata": {
            "tags": []
          }
        }
      ]
    },
    {
      "cell_type": "code",
      "metadata": {
        "id": "UFrhcw-qYEkf",
        "colab_type": "code",
        "colab": {}
      },
      "source": [
        "# Particionando os conjuntos de cada classe em conjunto de teste e de treino\n",
        "X0_train, X0_test, X0_train_labels, X0_test_labels =  model_selection.train_test_split(X0,X0_labels,test_size = 0.5, random_state=10)\n",
        "X1_train, X1_test, X1_train_labels, X1_test_labels =  model_selection.train_test_split(X1,X1_labels,test_size = 0.5, random_state=56)\n",
        "X_train = np.concatenate((X0_train, X1_train),axis=0) # unindo os conjuntos de treino de cada classe para gerar um único conjunto de treino\n",
        "X_test = np.concatenate((X0_test, X1_test),axis=0) # igualmente para o conjunto de teste\n",
        "X_train_labels = np.concatenate((X0_train_labels, X1_train_labels),axis=0) # e para os labels...\n",
        "X_test_labels = np.concatenate((X0_test_labels, X1_test_labels),axis=0)"
      ],
      "execution_count": 0,
      "outputs": []
    },
    {
      "cell_type": "markdown",
      "metadata": {
        "colab_type": "text",
        "id": "JX1N15hMt2mt"
      },
      "source": [
        "b) Mostre quem é a regra de decisão relativa ao classificador de Bayes nesse cenário e calcule o risco desse classificador."
      ]
    },
    {
      "cell_type": "markdown",
      "metadata": {
        "colab_type": "text",
        "id": "R59O7xOSxlpO"
      },
      "source": [
        "-- Escreva aqui a sua resolução --\n",
        "\n",
        "Dado $X=x$ a regra de decisão do classificador de Bayes é \n",
        "$$ g(x) = \n",
        "\\begin{cases} \n",
        "0 \\text{ se } \\mathbb{P}(Y=0 \\mid \\mathbf{X}=x) > \\mathbb{P}(Y=1 \\mid \\mathbf{X}=x)\\\\\n",
        "1 \\text{ se } \\mathbb{P}(Y=0 \\mid \\mathbf{X}=x) < \\mathbb{P}(Y=1 \\mid \\mathbf{X}=x)\\\\\n",
        "\\end{cases}$$\n",
        "\n",
        "Como, neste caso, para cada $k$, $\\mathbf{X} \\mid Y=k$ é uma variável aleatória contínua, seja $f_k(x)$ a função densidade de $X \\mid Y=k$. Além disso, seja $p(k) = \\mathbb{P}(Y=k)$. Daí, usando o Teorema de Bayes, temos:\n",
        "\n",
        "$$ \\mathbb{P}(Y=k \\mid \\mathbf{X}=x) = \\frac{\\int_{ \\{k\\} } f_j(x)  p(j)dj}{\\int_{ \\{0,1\\} } f_k(x)  p(k)dk} = \\frac{f_k(x) \\frac{1}{2}}{\\sum_{i=0}^{1} f_i(x)\\frac{1}{2}} = \\frac{f_k(x)}{\\sum_{i=0}^{1} f_i(x)} $$\n",
        "\n",
        "Note que o termo no denominador não depende de $k$. De fato, para determinar o valor de $k$ que maximiza $\\mathbb{P}(Y=k \\mid \\mathbf{X}=x)$ basta olhar para o termo no numerador. Assim, a regra de decisão do classificador de Bayes se torna\n",
        "\n",
        "$$ g(x) = \n",
        "\\begin{cases} \n",
        "0 \\text{ se } f_0(x) > f_1(x)\\\\\n",
        "1 \\text{ se } f_0(x) < f_1(x)\\\\\n",
        "\\end{cases}$$\n",
        "\n",
        "ou seja, basta comparar o valor das densidades condicionais dadas as duas possíveis classes.\n",
        "\n",
        "No Bayes Ingênuo Normal, supomos que, se $\\mathbf{X} = (\\mathbf{x}_1, \\mathbf{x}_2)$, então $\\mathbf{x}_1 \\mid Y=k$ e $\\mathbf{x}_2 \\mid Y=k$ são independentes e que $\\mathbf{x}_i \\mid Y=k \\sim \\mathcal{N}(\\mu_{k,i}, \\sigma_{k,i})$. Daí, se $f_{k,i}$ é a função de densidade de $\\mathbf{x}_i \\mid Y=k$ e $x=(x_1, x_2)$, então $f_k(x) = f_{k,1}(x_1) * f_{k,2}(x_2)$.\n",
        "\n",
        "Usando que $f_{k,i}(x_i) = \\frac{1}{\\sqrt{2\\pi} \\sigma_{k,i}} \\exp \\Big\\{ \\frac{-1}{2\\sigma_{k,i}^{2}}(x_i - \\mu_{k,i})^2 \\Big\\} $ obtemos que \n",
        "\n",
        "$$ f_k(x) = \\frac{1}{2\\pi \\sigma_{k,1} \\sigma_{k,2}} \\exp \\Big\\{ -\\frac{1}{2\\sigma_{k,1}^{2}}(x_1 - \\mu_{k,1})^2 - \\frac{1}{2\\sigma_{k,2}^{2}}(x_i - \\mu_{k,2})^2\\Big\\}  $$\n",
        "\n",
        "Logo \n",
        "\n",
        "$$ f_0(x) > f_1(x) \\iff \\frac{1}{2\\pi \\sigma_{0,1} \\sigma_{0,2}} \\exp \\Big\\{ -\\frac{1}{2\\sigma_{0,1}^{2}}(x_1 - \\mu_{0,1})^2 - \\frac{1}{2\\sigma_{0,2}^{2}}(x_i - \\mu_{0,2})^2\\Big\\} > \\frac{1}{2\\pi \\sigma_{1,1} \\sigma_{1,2}} \\exp \\Big\\{ -\\frac{1}{2\\sigma_{1,1}^{2}}(x_1 - \\mu_{1,1})^2 - \\frac{1}{2\\sigma_{1,2}^{2}}(x_i - \\mu_{1,2})^2\\Big\\} \\iff \n",
        "\\log\\Big(\\frac{1}{\\sigma_{0,1}}\\Big) + \\log\\Big(\\frac{1}{\\sigma_{0,2}}\\Big) - \\frac{1}{2\\sigma_{0,1}^{2}}(x_1 - \\mu_{0,1})^2 - \\frac{1}{2\\sigma_{0,2}^{2}}(x_i - \\mu_{0,2})^2 > \\log\\Big(\\frac{1}{\\sigma_{1,1}}\\Big) + \\log\\Big(\\frac{1}{\\sigma_{1,2}}\\Big) - \\frac{1}{2\\sigma_{1,1}^{2}}(x_1 - \\mu_{1,1})^2 - \\frac{1}{2\\sigma_{1,2}^{2}}(x_i - \\mu_{1,2})^2 $$\n",
        "\n",
        "Agora vamos calcular as estimativas $\\mu_{k,i}$ e $\\sigma_{k,i}$."
      ]
    },
    {
      "cell_type": "code",
      "metadata": {
        "id": "nBSHWKHJM7s-",
        "colab_type": "code",
        "outputId": "0be2245f-437b-41be-9a5b-361582b6a683",
        "colab": {
          "base_uri": "https://localhost:8080/",
          "height": 156
        }
      },
      "source": [
        "# Calculando as estimativas para cada classe\n",
        "# Cada observação tem duas componentes. Consideramos a média e variância em cada componente. Fazemos isso especificando o axis como 0\n",
        "class_zero_mean = np.mean(X0_train, axis=0)\n",
        "class_zero_var = np.var(X0_train, axis=0)\n",
        "class_one_mean = np.mean(X1_train, axis=0)\n",
        "class_one_var = np.var(X1_train, axis=0)\n",
        "μ01 = class_zero_mean[0]\n",
        "μ02 = class_zero_mean[1]\n",
        "μ11 = class_one_mean[0]\n",
        "μ12 = class_one_mean[1]\n",
        "σ01 = class_zero_var[0]\n",
        "σ02 = class_zero_var[1]\n",
        "σ11 = class_one_var[0]\n",
        "σ12 = class_one_var[1]\n",
        "print(\"μ01 = %1.3f\" %(μ01,))\n",
        "print(\"μ02 = %1.3f\" %(μ02,))\n",
        "print(\"μ11 = %1.3f\" %(μ11,))\n",
        "print(\"μ12 = %1.3f\" %(μ12,))\n",
        "print(\"σ01^2 = %1.3f\" %(σ01,))\n",
        "print(\"σ02^2 = %1.3f\" %(σ02,))\n",
        "print(\"σ11^2 = %1.3f\" %(σ11,))\n",
        "print(\"σ12^2 = %1.3f\" %(σ12,))"
      ],
      "execution_count": 0,
      "outputs": [
        {
          "output_type": "stream",
          "text": [
            "μ01 = -2.099\n",
            "μ02 = -2.530\n",
            "μ11 = 1.833\n",
            "μ12 = 1.766\n",
            "σ01^2 = 2.763\n",
            "σ02^2 = 2.285\n",
            "σ11^2 = 3.035\n",
            "σ12^2 = 3.248\n"
          ],
          "name": "stdout"
        }
      ]
    },
    {
      "cell_type": "markdown",
      "metadata": {
        "id": "NfVZQKcqQbLU",
        "colab_type": "text"
      },
      "source": [
        "Substituindo estes valores obtemos a regra de decisão do Bayes Ingênuo\n",
        "\n",
        "$$ f_0(x) > f_1(x) \\iff x_{1}^{2} + 84.0812x_{1} + 13.4923x_{2}^{2} + 58.7789x_{2} + 104.438 < 0$$\n",
        "\n",
        "A fronteira de decisão é uma elipse. \n",
        "\n",
        "O risco do classificador é \n",
        "\n",
        "$$R(g) = \\mathbb{E}[\\mathbb{I}(g(\\mathbf{X}) \\neq Y)] = \\mathbb{E}\\big[ \\mathbb{E} [\\mathbb{I}(g(\\mathbf{X}) \\neq Y)\\mid Y]  \\big] = \\mathbb{P}(g(\\mathbf{X}) \\neq Y)\\mid Y=0) + \\mathbb{P}(g(\\mathbf{X}) \\neq Y)\\mid Y=1) = \\mathbb{P}(\\mathbf{X} \\in S_1 \\mid Y=0) + \\mathbb{P}(\\mathbf{X} \\in S_0 \\mid Y=1)$$\n",
        "\n",
        "onde $$S_0 = \\{(x_1, x_2) \\in \\mathbb{R} \\mid x_{1}^{2} + 84.0812x_{1} + 13.4923x_{2}^{2} + 58.7789x_{2} + 104.438 < 0\\}$$\n",
        "$$S_1 = \\{(x_1, x_2) \\in \\mathbb{R} \\mid x_{1}^{2} + 84.0812x_{1} + 13.4923x_{2}^{2} + 58.7789x_{2} + 104.438 > 0\\}$$\n",
        "\n",
        "Para calcular o risco de forma analítica, precisamos calcular integrais duplas das densidades de $\\mathbf{X} | (Y = 0) \\sim \\mathcal{N}(\\mu_0, \\Sigma_0)$ em $S_1$ e de $\\mathbf{X} | (Y = 1) \\sim \\mathcal{N}(\\mu_1, \\Sigma_1)$ em $S_0$. Fazer isso analiticamente é uma tarefa difícil. \n",
        "\n",
        "Uma alternativa, baseada na Lei dos Grandes Números, é considerar uma estimativa de Monte Carlo, que consiste de aproximar $\\mathbb{E}[\\mathbb{I}(g(\\mathbf{X}) \\neq Y)]$ por $\\frac{1}{n} \\sum_{i=1}^{n} \\mathbb{I}(g({x}_i) \\neq Y)$ onde os ${x}_i$ são gerados aleatóriamente segundo a distribuição de $\\mathbf{X} \\mid Y$\n",
        "\n",
        "Como neste caso, pela maneira que os dados foram gerados, $\\mathbb{P}(Y=0) = \\mathbb{P}(Y=1)$, vamos gerar o mesmo número de pontos segunda cada uma das densidades."
      ]
    },
    {
      "cell_type": "code",
      "metadata": {
        "id": "Zu_Hhp-2E7Kg",
        "colab_type": "code",
        "outputId": "6a37ed25-aa04-41b8-d87a-678a65121dda",
        "colab": {
          "base_uri": "https://localhost:8080/",
          "height": 35
        }
      },
      "source": [
        "#Estimativa de Monte Carlo para o Risco do Classificador\n",
        "def classifier(x):\n",
        "  p = x[0]**2 + 84.0812*x[0] + 13.4923*x[1]**2 + 58.7789*x[1] + 104.438\n",
        "  if(p <= 0): \n",
        "    return 0\n",
        "  else:\n",
        "    return 1\n",
        "  \n",
        "M = int(1e+6)\n",
        "soma = 0\n",
        "np.random.seed(198)\n",
        "zero_samples = np.random.multivariate_normal(mean=μ0, cov=Σ0, size=M)\n",
        "one_samples = np.random.multivariate_normal(mean=μ1, cov=Σ1, size=M)\n",
        "for x in zero_samples:\n",
        "  soma += classifier(x)\n",
        "for x in one_samples:\n",
        "  soma += (1 - classifier(x))\n",
        "estimate = soma/(2*M)\n",
        "print(\"Estimativa para o risco do classificador de Bayes = %1.4f\" %(estimate,))  "
      ],
      "execution_count": 0,
      "outputs": [
        {
          "output_type": "stream",
          "text": [
            "Estimativa para o risco do classificador de Bayes = 0.1492\n"
          ],
          "name": "stdout"
        }
      ]
    },
    {
      "cell_type": "markdown",
      "metadata": {
        "id": "7E4K1YmEIoiF",
        "colab_type": "text"
      },
      "source": [
        "Assim, obtemos uma estimativa para o risco do estimador de $0.1492$. Observe que o risco do estimador é igual a probabilidade de uma observação $x$ de classe $0$ estar na região $S_1$ mais a probabilidade de observação $x$ de classe $1$ estar na região $S_0$.\n",
        "\n",
        "Como conhecemos a verdadeira estrutura probabilística dos dados, podemos também fazer uma estimativa de Monte Carlo para o risco mínimo de um classificador neste cenário.\n",
        "\n",
        "Vamos desenvolver melhor as formas das reais densidades condicionais:\n",
        "- para $Y=0$ temos:\n",
        "$$|\\Sigma_0|= 9 - 1 = 8 \\\\\n",
        "f_0(x) = \\frac{1}{2\\pi\\sqrt{8}}\\exp\\Big\\{ {\\frac{-1}{2}\\langle x-\\mu_0\\rangle^T}\\Sigma_0^{-1}\\langle x-\\mu_0\\rangle\\Big\\}$$\n",
        "$$f_0(x) = \\frac{1}{2\\pi\\sqrt{8}}\\exp\\Big\\{{\\frac{-1}{2}\\Big(\\langle x_1+2,x_2+2 \\rangle ^T}\\begin{bmatrix} \n",
        "  3 & -1 \\\\ \n",
        "  -1 & 3 \\\\ \n",
        "  \\end{bmatrix}^{-1}\\langle x_1+2,x_2+2\\rangle\\Big)\\Big\\}$$\n",
        "  \n",
        "$$f_0(x) = \\frac{1}{2\\pi\\sqrt{8}}\\exp\\Big\\{{\\frac{-1}{16}\\Big(\\langle x_1+2,x_2+2\\rangle ^T}\\begin{bmatrix} \n",
        "  3 & 1 \\\\ \n",
        "  1 & 3 \\\\ \n",
        "  \\end{bmatrix}\\langle x_1+2,x_2+2\\rangle\\Big)\\Big\\}$$\n",
        "\n",
        "$$f_0(x) = \\frac{1}{2\\pi\\sqrt{8}}\\exp\\Big\\{{\\frac{-1}{16}\\Big(\\langle x_1+2,x_2+2\\rangle ^T}\\begin{bmatrix} \n",
        "  3(x_1+2) + x_2+2 \\\\ \n",
        "  x_1+2 + 3(x_2+2) \\\\ \n",
        "  \\end{bmatrix}\\Big)\\Big\\} $$\n",
        "  \n",
        "$$f_0(x) = \\frac{1}{2\\pi\\sqrt{8}}\\exp\\Big\\{{\\frac{-1}{16}\\Big( 3(x_1 +2)^2 + 2(x_2 + 2)(x_1 + 2) +3(x_2+2)^2 \\Big)}\\Big\\}$$\n",
        "\n",
        " - para $Y=1$ temos :  \n",
        " $$|\\Sigma_1|= 9 - 1 = 8 \\\\\n",
        "f_1(x) = \\frac{1}{2\\pi\\sqrt{8}}\\exp\\Big\\{{\\frac{-1}{2}\\Big(\\langle x-\\mu_1\\rangle^T}\\Sigma_1^{-1}\\langle x-\\mu_1\\rangle \\Big) \\Big\\}$$\n",
        "$$f_1(x) = \\frac{1}{2\\pi\\sqrt{8}}\\exp\\Big\\{{\\frac{-1}{2}\\Big(\\langle x_1-2,x_2-2 \\rangle ^T}\\begin{bmatrix} \n",
        "  3 & 1 \\\\ \n",
        "  1 & 3 \\\\ \n",
        "  \\end{bmatrix}^{-1}\\langle x_1-2,x_2-2\\rangle \\Big) \\Big\\}$$\n",
        "  \n",
        "$$f_1(x) = \\frac{1}{2\\pi\\sqrt{8}}\\exp\\Big\\{{\\frac{-1}{16}\\Big(\\langle x_1-2,x_2-2\\rangle ^T}\\begin{bmatrix} \n",
        "  3 & -1 \\\\ \n",
        "  -1 & 3 \\\\ \n",
        "  \\end{bmatrix}\\langle x_1-2,x_2-2\\rangle \\Big) \\Big\\}$$\n",
        "\n",
        "$$f_1(x) = \\frac{1}{2\\pi\\sqrt{8}}\\exp\\Big\\{{\\frac{-1}{16}\\Big(\\langle x_1-2,x_2-2\\rangle ^T}\\begin{bmatrix} \n",
        "  3(x_1-2) - (x_2-2 )\\\\ \n",
        "  -(x_1-2) + 3(x_2-2) \\\\ \n",
        "  \\end{bmatrix} \\Big) \\Big\\} $$\n",
        "  \n",
        "$$f_1(x) = \\frac{1}{2\\pi\\sqrt{8}}\\exp\\Big\\{{\\frac{-1}{16}\\Big( 3(x_1 -2)^2 - 2(x_2 - 2)(x_1 - 2) +3(x_2-2)^2 } \\Big)\\Big\\}$$\n",
        "\n",
        "Agora, como as constantes $\\frac{1}{2\\pi\\sqrt{8}}$ e $\\frac{-1}{16}$ aparecem em ambas as expressões, basta comparar as expressões dentro das exponenciais que dependem de $x$.\n",
        "\n",
        "Assim, temos que\n",
        "\n",
        "$$f_0(x) > f_1(x) \\iff 3(x_1 +2)^2 + 2(x_2 + 2)(x_1 + 2) +3(x_2+2)^2 < 3(x_1 -2)^2 - 2(x_2 - 2)(x_1 - 2) +3(x_2-2)^2 \\iff (x_1 + 6)x_2 < -6x_1 - 4 $$\n",
        "\n",
        "Novamente a integração necessária para calcular o risco analiticamente é difícil e usamos uma aproximação de Monte Carlo."
      ]
    },
    {
      "cell_type": "code",
      "metadata": {
        "id": "rMQWA9CPd7XX",
        "colab_type": "code",
        "outputId": "6c2b2468-680e-423c-d720-010a7461dcff",
        "colab": {
          "base_uri": "https://localhost:8080/",
          "height": 35
        }
      },
      "source": [
        "#Estimativa de Monte Carlo para o risco mínimo do classificador\n",
        "def classifier(x):\n",
        "  p0 = (x[0] + 6)*x[1]\n",
        "  p1 = -6*x[0] - 4\n",
        "  if(p0 < p1): \n",
        "    return 0\n",
        "  else:\n",
        "    return 1\n",
        "  \n",
        "M = int(1e+6)\n",
        "soma = 0\n",
        "np.random.seed(198)\n",
        "zero_samples = np.random.multivariate_normal(mean=μ0, cov=Σ0, size=M)\n",
        "one_samples = np.random.multivariate_normal(mean=μ1, cov=Σ1, size=M)\n",
        "for x in zero_samples:\n",
        "  soma += classifier(x)\n",
        "for x in one_samples:\n",
        "  soma += (1 - classifier(x))\n",
        "estimate = soma/(2*M)\n",
        "print(\"Estimativa para o risco minimo = %1.4f\" %(estimate,))"
      ],
      "execution_count": 0,
      "outputs": [
        {
          "output_type": "stream",
          "text": [
            "Estimativa para o risco minimo = 0.0466\n"
          ],
          "name": "stdout"
        }
      ]
    },
    {
      "cell_type": "markdown",
      "metadata": {
        "colab_type": "text",
        "id": "97HJbHogt2i3"
      },
      "source": [
        "\n",
        "c) Valendo-se da estrutura probabilística utilizada para construir esses dados (em geral indisponível em cenários reais porém passível de inferência a partir de uma análise exploratória), disserte sobre quão razoável é usar os seguintes classificadores nesse contexto, bem como seus prós e contras.\n",
        "* Bayes ingênuo Normal\n",
        "* LDA\n",
        "* QDA\n",
        "* Regressão logística\n",
        "\n",
        "Note que essa é uma análise teórica feita com base no modelo probabilístico dos dados, e deve ser feita antes de qualquer teste com qualquer classificador, para que entendamos melhor como eles deveriam se comportar. Não tem problema se a sua análise preliminar não bater com algum resultado obtido mais abaixo. Caso isso aconteça, tente compreender o que levou a esse comportamento."
      ]
    },
    {
      "cell_type": "markdown",
      "metadata": {
        "colab_type": "text",
        "id": "e1QYsbb-t2c8"
      },
      "source": [
        "-- Escreva aqui a sua resolução --\n",
        "\n",
        "Pela forma como os dados foram gerados, vamos verificar os prós e contras de cada classificador.\n",
        "\n",
        "\n",
        " - Bayes Ingênuo Normal:\n",
        " \n",
        "Como foi visto acima, no Bayes Ingênuo Normal, o classificador faz sua escolha baseado no valor de $\\mathbb{P}(Y = k \\mid \\mathbf{X} = x)$. Usando o Teorema de Bayes, temos que \n",
        " \n",
        "$$ \\mathbb{P}(Y = k \\mid \\mathbf{X} = x) = \\frac{\\mathbb{P}(\\mathbf{X} = x \\mid Y = k) \\mathbb{P}(Y=k)}{\\sum_{i} \\mathbb{P}(\\mathbf{X} = x \\mid Y = i) \\mathbb{P}(Y=i)  }  $$\n",
        "\n",
        "Em um cenário prático, usariamos o conjunto de treino para estimar $\\mathbb{P}(\\mathbf{X} = x \\mid Y = k)$ e $\\mathbb{P}(Y=k)$. Uma possibilidade para estimar de $\\mathbb{P}(Y=k)$ é considerar a proporção amostral da classe $k$ no conjunto. Na construção destes dados, usamos $\\mathbb{P}(Y=0) = \\mathbb{P}(Y=1) = \\frac{1}{2}$, pois geramos 100 observações de cada classe. Quando geramos o conjunto de treino, colocamos nele exatamente 50 observações de cada classe. Assim, neste caso, as estimativas de $\\mathbb{P}(Y=k)$ usando as proporções amostrais vão resultar no seu valor exato.\n",
        "\n",
        "Quanto as estimativas de $\\mathbb{P}(\\mathbf{X} = x \\mid Y = k)$, consideramos, para cada classe, as médias amostrais $\\mathbf{\\mu}_{k,i}$ e as variâncias amostrais $\\sigma_{k,i}$ em cada coordenada $i$ como parâmetros para a distribuição $\\mathbf{X}_i \\mid Y = k \\sim \\mathcal{N}(\\mathbf{\\mu}_{k,i},  \\sigma_{k,i})$. Aqui vemos um problema na hipótese de independência entre as coordenadas de $\\mathbf{X}$. Ao supor independência entre as coordenadas, estamos supondo que a covariância entre as coordenadas é zero. Contudo, nós conhecemos as matrizes de covariância e sabemos que as covariâncias são diferentes de zero.\n",
        "\n",
        "Além disso, por construção, temos 50 observações para cada classe. Tratando-se de variáveis aleatórias bidimensionais e não limitadas, um número pequeno de observações para cada classe pode não gerar estimativas boas para os parâmetros das distribuições condicionais em cada classe. No caso destes dados, um ponto positivo é que a maior parte da massa de probabilidade de cada uma das densidades condicionais está concentrado em uma área relativamente pequena do plano(sem ser muito preciso nas definições, o 'typical set' das distribuções é pequeno). Com isso, espera-se que seja necessário um número menor de observações para fazer estimativas razoáveis.\n",
        "\n",
        "Em suma, ainda acreditamos que o conjunto de treino gerado vai proporcionar estimativas razoáveis para $\\mathbb{P}(Y = k \\mid \\mathbf{X} = x)$. \n",
        " \n",
        " - LDA:\n",
        " \n",
        "No LDA, usamos novamente a relação \n",
        "\n",
        "$$ \\mathbb{P}(Y = k \\mid \\mathbf{X} = x) = \\frac{\\mathbb{P}(\\mathbf{X} = x \\mid Y = k) \\mathbb{P}(Y=k)}{\\sum_{i} \\mathbb{P}(\\mathbf{X} = x \\mid Y = i) \\mathbb{P}(Y=i)  }  $$\n",
        "\n",
        "e vamos buscar estimar $\\mathbb{P}(\\mathbf{X} = x \\mid Y = k)$ e $\\mathbb{P}(Y=k)$. \n",
        "\n",
        "As estimativas de $\\mathbb{P}(Y=k)$ são feitas de maneira semelhante ao Bayes Ingênuo e, como vimos acima, para estes dados, vão resultar nos valores exatos destas probabilidades. \n",
        "\n",
        "Para as estimativas de  $\\mathbb{P}(\\mathbf{X} = x \\mid Y = k)$, o LDA assume que $\\mathbf{X} \\mid Y = k \\sim \\mathcal{N}(\\mu_k, \\Sigma)$. Para cada classe $k$, estimaremos e $u_k$. Quanto a matriz de covariância $\\Sigma$, o LDA assume que esta matriz é a mesma para qualquer classe e $\\Sigma$ é estimada a partir de toda o conjunto de teste, sem separação de classes. Como conhecemos as verdadeiras matrizes de covariância das quais os dados foram gerados, vemos que o principal problema do LDA está aqui. As matrizes de covariância de cada classe são diferentes. Por outro lado, uma melhora que o LDA proporciona é que não há a hipótese de independência entre as coordenadas de $\\mathbf{X}$, uma vez que sabemos que elas não são independentes. Apesar de estimar apenas uma matriz de covariância para todas as classes, sem a hipótese de independência esta matriz pode, pelo menos, incorporar parte desta covariância.\n",
        "\n",
        "Novamente, tratando-se de variáveis bidimensionais e não limitadas, o LDA também pode sofrer com pouco número de observações. \n",
        "\n",
        "Assim, o LDA um modelo parece ser um modelo bem razoável para este conjunto de dados e um pouco mais promissor que o Bayes Ingênuo.\n",
        "\n",
        " - QDA: \n",
        " \n",
        "Assim, como o Bayes Ingênuo e o QDA, vamos fazer uso da relação \n",
        "\n",
        "$$ \\mathbb{P}(Y = k \\mid \\mathbf{X} = x) = \\frac{\\mathbb{P}(\\mathbf{X} = x \\mid Y = k) \\mathbb{P}(Y=k)}{\\sum_{i} \\mathbb{P}(\\mathbf{X} = x \\mid Y = i) \\mathbb{P}(Y=i)  }  $$\n",
        "\n",
        "e buscar estimativas para estas probabilidades.\n",
        "\n",
        "A diferença entre o QDA e o LDA está na hipótese de que $\\mathbf{X} \\mid Y = k \\sim \\mathcal{N}(\\mu_k, \\Sigma_k)$, ou seja, no QDA, assumimos também que a matriz de covariância depende das classes $k$. Assim, para cada classe $k$, vamos estimar $\\mu_k$ e $\\Sigma_k$ a partir das observações desta classe. Conhecendo a estrutura probabilística dos dados, vamos que a vantagem do QDA sobre os outros métodos está justamente aqui. Nós conhecemos a estrutura probabilística destes dados e sabemos que cada classe tem uma matriz de covariância distinta. O QDA incorpora justamente isso. \n",
        "\n",
        "A vulnerabilidade do QDA neste caso está, assim como os outros métodos, em uma quantidade pequena de observações. Observe que como o QDA estima $\\Sigma_k$ para cada classe $k$, o número de observações nas quais esta estimativa está baseada é menor se comparada ao LDA. No LDA, $\\Sigma$ foi estimado a partir de 100 observações. No QDA, cada $\\Sigma_k$ é estimado a partir de 50 observações. \n",
        "\n",
        "Considerando que o 'typical set' das distribuições é relativamente pequeno, acreditamos que as estimativas feitas pelo QDA serão bem razoáveis e que este, dentre os quatro modelos, é o mais coerente com a estrutura probabilística dos dados.\n",
        " \n",
        " \n",
        " - Regressão logistica:\n",
        "\n",
        "Lembramos que a regressão logística busca modelar $\\mathbb{P}(Y=k \\mid \\mathbf{X}=x)$ através da relação:\n",
        "\n",
        "$$ \\mathbb{P}(Y=k \\mid \\mathbf{X}=x) = \\frac{ \\exp\\{b_0 + \\beta_1x_1 + \\beta_2 x_2\\} }{1+\\exp\\{b_0 + \\beta_1x_1 + \\beta_2 x_2\\}} $$\n",
        "\n",
        "Olhando para os \"log-odds\", este modelo nos dá\n",
        "\n",
        "$$ \\log \\Bigg( \\frac{\\mathbb{P}(Y=k \\mid \\mathbf{X}=x)}{1-\\mathbb{P}(Y=k \\mid \\mathbf{X}=x)} \\Bigg) = b_0 + \\beta_1x_1 + \\beta_2 x_2 $$\n",
        "\n",
        "Como detemos da estrutura probabilística da construção dos dados, podemos deduzir a verdadeira forma de $\\mathbb{P}(Y=k \\mid \\mathbf{X}=x)$. Temos que \n",
        "\n",
        "$$ \\mathbb{P}(Y=k \\mid \\mathbf{X}=x) = \\frac{\\mathbb{P}(Y=k \\land \\mathbf{X}=x)}{\\mathbb{P}(\\mathbf{X}=x)} = \\frac{\\mathbb{P}(\\mathbf{X}=x \\mid Y=k)\\mathbb{P}(Y=k)}{\\mathbb{P}(\\mathbf{X}=x)} = \\frac{1}{Z} \\int_{\\{x\\}} f(x \\mid k) p(k) dx = \\frac{1}{Z} \\exp \\Big\\{ \\frac{-1}{2} \\langle x - \\mu^k \\rangle^T \\Sigma^{-1} \\langle x - \\mu^k \\rangle \\Big\\} = \\frac{1}{Z} \\exp \\Big\\{ \\frac{-1}{2} \\langle x_1 - \\mu_{1}^{k}, x_2 - \\mu_{2}^{k}  \\rangle^T \\Sigma^{-1} \\langle x_1 - \\mu_{1}^{k}, x_2 - \\mu_{2}^{k} \\rangle \\Big\\} = \\frac{1}{Z} \\exp \\Big\\{ \\frac{-1}{2} \\Big( x_1 \\big[ -2\\sigma_{11}^{k}\\mu_{1}^{k} -  ( \\sigma_{12}^{k} + \\sigma_{21}^{k}) \\mu_{2}^{k} \\big] + x_2 \\big[ -2\\sigma_{22}^{k}\\mu_{2}^{k} -  ( \\sigma_{12}^{k} + \\sigma_{21}^{k}) \\mu_{1}^{k} \\big] + e\\big( x, \\mu, \\Sigma \\big) \\Big)\\Big\\} = \\frac{1}{Z} \\exp \\Big\\{ e\\big( x, \\mu, \\Sigma \\big) + \\beta_1' x_1 + \\beta_2' x_2 \\Big\\} $$\n",
        "\n",
        "onde $e\\big( x, \\mu, \\Sigma \\big)$ é uma função que depende de $x, \\mu, \\Sigma$ que inclui os termos mistos e quadráticos em $x$ e onde  $\\beta_1' = \\sigma_{11}^{k}\\mu_{1}^{k} + \\frac{1}{2}  ( \\sigma_{12}^{k} + \\sigma_{21}^{k}) \\mu_{2}^{k}$ e $\\beta_2' = \\sigma_{22}^{k}\\mu_{2}^{k} + \\frac{1}{2}  ( \\sigma_{12}^{k} + \\sigma_{21}^{k}) \\mu_{1}^{k}$.\n",
        "\n",
        "Daí temos que \n",
        "\n",
        "$$ \\log\\big( \\mathbb{P}(Y=k \\mid \\mathbf{X}=x) \\big) = \\log\\Big(\\frac{1}{Z}\\Big) + e\\big( x, \\mu, \\Sigma \\big) + \\beta_1' x_1 + \\beta_2' x_2 = b_0'\\big( x, \\mu, \\Sigma \\big) + \\beta_1' x_1 + \\beta_2' x_2$$\n",
        "\n",
        "Há uma relação natural entre \"odds\" e probabilidades para variáveis aleatórias de Bernoulli. Esta relação fica clara se olharmos para probabilidades sob a perspectiva frequentista. Pela Lei dos Grandes Números, para uma sequência de variáveis de Bernoulli independentes, a proporção amostral de uma classe converge para a probabilidade desta classe. Assim, se $p=\\frac{1}{5}$, esperamos, em média, uma ocorrência desta classe a cada cinco observações. Tomando os \"odds\", obtemos $\\frac{p}{1-p} = \\frac{1}{4}$, que tem o significado de que, em média, esperamos que a cada uma observação desta classe, veremos quatro da outra. Note a similaridade entre estas duas interpretações/intuições.\n",
        "Assim, para este cenário, estamos buscando aproximar a probabilidade real, que é ditada pela regra $b_0'\\big( x, \\mu, \\Sigma \\big) + \\beta_1' x_1 + \\beta_2' x_2$, pelo modelo $b_0 + \\beta_1x_1 + \\beta_2 x_2$. A diferença entre a regra e o modelo são apenas os termos quadráticos e mistos em $x_1$ e $x_2$. Porém, não é incomum em inferência que utilizemos modelos mais simples, dispensando termos deste tipo, e ainda obtenhamos bons modelos. Dentre os quatro modelos citados aqui, a regressão logística parece ser a menos coerente com a estrutura probabilística dos dados(que num cenário real não conheceriámos). Contudo, ela ainda nos parece ser razoável para este cenário. \n",
        "\n"
      ]
    },
    {
      "cell_type": "markdown",
      "metadata": {
        "colab_type": "text",
        "id": "THtoOJyDt2VO"
      },
      "source": [
        "c) Ajuste os quatro modelos de classificadores acima ao conjunto de treinamento e compare os resultados obtidos no conjunto de teste, utilizando as métricas que vimos em sala que você julgar pertinente. Disserte sobre os resultados obtidos, enfatizando o classificador que você adotaria após essa análise. Note que nesse ponto a sua decisão NÃO deve ser pautada pelo modelo probabilístico usado para gerar os dados, pois estamos fingindo que eles não estão disponíveis!\n",
        "\n",
        "A fim de enriquecer sua análise, você pode plotar as fronteiras de decisão dos classificadores, além disso te ajudar a ter uma boa intuição sobre como os modelos estão funcionando.\n",
        "\n",
        "Nesse ponto, gostaria que vocês mantivessem o valor de corte do classificador em $0,5$; ou seja, uma observação $\\mathbf{x}$ é alocada na classe $y$ se e somente se $\\mathbb{P}(Y = y | \\mathbf{X} = \\mathbf{x}) > 0,5$. A razão para isso é que o objetivo desse item é aferir o desempenho da melhor aproximação do classificador de Bayes, assumindo qualquer um dos modelos acima."
      ]
    },
    {
      "cell_type": "code",
      "metadata": {
        "id": "kRxG9pSjPvgU",
        "colab_type": "code",
        "colab": {}
      },
      "source": [
        "#função para calcular as metricas\n",
        "def metricas(y_test,y_test_pred):\n",
        "  '''Funcao para calcular algumas metricas de um classificador'''\n",
        "  cm = metrics.confusion_matrix(y_test , y_test_pred)\n",
        "  VN = cm[0][0]\n",
        "  VP = cm[1][1]\n",
        "  FN = cm[1][0]\n",
        "  FP = cm[0][1]\n",
        "  espe = VN/(VN+FP)\n",
        "  sens = VP/(VP+FN)\n",
        "  prec = VP/(VP + FP)\n",
        "  perto = (VN + VP)/(VN + VP + FP + FN)\n",
        "  print('A especifidade encontrada foi de %1.3f' %(espe,))\n",
        "  print('A sensibilidade encontrada foi de %1.3f' %(sens,))\n",
        "  print('A precisão encontrada foi de %1.3f' %(prec,))"
      ],
      "execution_count": 0,
      "outputs": []
    },
    {
      "cell_type": "code",
      "metadata": {
        "id": "qdo1G0M_0nvc",
        "colab_type": "code",
        "colab": {}
      },
      "source": [
        "# Função para plotar as fronterias de decisão\n",
        "def plot_decision_boundaries(classifier, xmax, ymax, name, N=1000):\n",
        "  '''Funcao para plotar a fronteira de decisao de um classificador do sklearn no caso bidimensional'''\n",
        "  x = np.linspace(-1*xmax, xmax, N)\n",
        "  y = np.linspace(-1*xmax, xmax, N)\n",
        "  xx, yy = np.meshgrid(x, y) # criamos uma grid do plano\n",
        "  Z = classifier.predict(np.c_[xx.ravel(), yy.ravel()]) # chamamos o classificador em cada ponto da grid\n",
        "  Z = Z.reshape(xx.shape)\n",
        "  colorsList = [(0., 0.7, 0.8),(1.0, 0.7, 0.2)] # escolhendo as cores\n",
        "  CustomCmap = matplotlib.colors.ListedColormap(colorsList)\n",
        "  plt.contourf(xx, yy, Z, alpha=0.8, cmap=CustomCmap)\n",
        "  plt.plot(x00,x01,'o',label = 'category 0')\n",
        "  plt.plot(x10,x11,'x',label = 'category 1')\n",
        "  plt.title(\"Fronteira de Decisão do \" + name)"
      ],
      "execution_count": 0,
      "outputs": []
    },
    {
      "cell_type": "code",
      "metadata": {
        "colab_type": "code",
        "id": "nyebEu7T1qHW",
        "colab": {}
      },
      "source": [
        "# Naive Bayes Normal\n",
        "clf = naive_bayes.GaussianNB()\n",
        "clf.fit(X_train, X_train_labels)\n",
        "NB_y_test_pred = clf.predict(X_test)\n",
        "NB_y_test_pred_proba =  clf.predict_proba(X_test)"
      ],
      "execution_count": 0,
      "outputs": []
    },
    {
      "cell_type": "code",
      "metadata": {
        "id": "S1xKSC6AncE1",
        "colab_type": "code",
        "outputId": "f3b44274-78cf-4024-e68b-30479020a2e7",
        "colab": {
          "base_uri": "https://localhost:8080/",
          "height": 351
        }
      },
      "source": [
        "print(\"Score do Bayes Ingênuo %1.3f = \" %clf.score(X_test,X_test_labels))\n",
        "metricas(X_test_labels,NB_y_test_pred)\n",
        "plot_decision_boundaries(clf, 10, 10, \"Bayes Ingênuo\")"
      ],
      "execution_count": 0,
      "outputs": [
        {
          "output_type": "stream",
          "text": [
            "Score do Bayes Ingênuo 0.960 = \n",
            "A especifidade encontrada foi de 0.960\n",
            "A sensibilidade encontrada foi de 0.960\n",
            "A precisão encontrada foi de 0.960\n"
          ],
          "name": "stdout"
        },
        {
          "output_type": "display_data",
          "data": {
            "image/png": "[encoded data removed]",
            "text/plain": [
              "<Figure size 432x288 with 1 Axes>"
            ]
          },
          "metadata": {
            "tags": []
          }
        }
      ]
    },
    {
      "cell_type": "code",
      "metadata": {
        "id": "Vnd7ev_wa-nQ",
        "colab_type": "code",
        "colab": {}
      },
      "source": [
        "# LDA\n",
        "lda = discriminant_analysis.LinearDiscriminantAnalysis(store_covariance = True)\n",
        "lda.fit(X_train, X_train_labels)\n",
        "LDA_y_test_pred = lda.predict(X_test)"
      ],
      "execution_count": 0,
      "outputs": []
    },
    {
      "cell_type": "code",
      "metadata": {
        "id": "3GCUyq31osTb",
        "colab_type": "code",
        "outputId": "6bf27b7b-29d1-4d4b-ea2f-40ce79c4aeaa",
        "colab": {
          "base_uri": "https://localhost:8080/",
          "height": 351
        }
      },
      "source": [
        "print(\"Score do LDA %1.3f = \" %lda.score(X_test,X_test_labels))\n",
        "metricas(X_test_labels,LDA_y_test_pred)\n",
        "plot_decision_boundaries(lda, 10, 10, \"LDA\")"
      ],
      "execution_count": 0,
      "outputs": [
        {
          "output_type": "stream",
          "text": [
            "Score do LDA 0.940 = \n",
            "A especifidade encontrada foi de 0.960\n",
            "A sensibilidade encontrada foi de 0.920\n",
            "A precisão encontrada foi de 0.958\n"
          ],
          "name": "stdout"
        },
        {
          "output_type": "display_data",
          "data": {
            "image/png": "[encoded data removed]",
            "text/plain": [
              "<Figure size 432x288 with 1 Axes>"
            ]
          },
          "metadata": {
            "tags": []
          }
        }
      ]
    },
    {
      "cell_type": "code",
      "metadata": {
        "id": "b22bhN_7PR-M",
        "colab_type": "code",
        "colab": {}
      },
      "source": [
        "#QDA\n",
        "qda = discriminant_analysis.QuadraticDiscriminantAnalysis(store_covariance = True)\n",
        "qda.fit(X_train,X_train_labels)\n",
        "QDA_y_test_pred = qda.predict(X_test)"
      ],
      "execution_count": 0,
      "outputs": []
    },
    {
      "cell_type": "code",
      "metadata": {
        "id": "XyClXdnKZyQT",
        "colab_type": "code",
        "outputId": "97fc5e10-9c95-4c15-fe0e-d2b527d02c10",
        "colab": {
          "base_uri": "https://localhost:8080/",
          "height": 351
        }
      },
      "source": [
        "print(\"Score do QDA %1.3f = \" %qda.score(X_test,X_test_labels))\n",
        "metricas(X_test_labels,QDA_y_test_pred)\n",
        "plot_decision_boundaries(qda, 10, 10, \"QDA\")"
      ],
      "execution_count": 0,
      "outputs": [
        {
          "output_type": "stream",
          "text": [
            "Score do QDA 0.970 = \n",
            "A especifidade encontrada foi de 0.960\n",
            "A sensibilidade encontrada foi de 0.980\n",
            "A precisão encontrada foi de 0.961\n"
          ],
          "name": "stdout"
        },
        {
          "output_type": "display_data",
          "data": {
            "image/png": "[encoded data removed]",
            "text/plain": [
              "<Figure size 432x288 with 1 Axes>"
            ]
          },
          "metadata": {
            "tags": []
          }
        }
      ]
    },
    {
      "cell_type": "code",
      "metadata": {
        "id": "TUH8aS9mqLa5",
        "colab_type": "code",
        "outputId": "7e7f74cc-36ca-4060-f8b2-0f031f048fd3",
        "colab": {
          "base_uri": "https://localhost:8080/",
          "height": 72
        }
      },
      "source": [
        "#Regressao logistica\n",
        "lgre = sklearn.linear_model.LogisticRegression()\n",
        "lgre.fit(X_train,X_train_labels)\n",
        "LG_y_test_pred = lgre.predict(X_test)"
      ],
      "execution_count": 0,
      "outputs": [
        {
          "output_type": "stream",
          "text": [
            "/usr/local/lib/python3.6/dist-packages/sklearn/linear_model/logistic.py:432: FutureWarning: Default solver will be changed to 'lbfgs' in 0.22. Specify a solver to silence this warning.\n",
            "  FutureWarning)\n"
          ],
          "name": "stderr"
        }
      ]
    },
    {
      "cell_type": "code",
      "metadata": {
        "id": "JaLtzT0sniTd",
        "colab_type": "code",
        "outputId": "d51c0c60-00f8-454e-953c-3edb06645299",
        "colab": {
          "base_uri": "https://localhost:8080/",
          "height": 351
        }
      },
      "source": [
        "print(\"Score da Regressão Logística %1.3f = \" %lgre.score(X_test,X_test_labels))\n",
        "metricas(X_test_labels,LG_y_test_pred)\n",
        "plot_decision_boundaries(lgre, 10, 10, \"Regressão Logística\")"
      ],
      "execution_count": 0,
      "outputs": [
        {
          "output_type": "stream",
          "text": [
            "Score da Regressão Logística 0.960 = \n",
            "A especifidade encontrada foi de 0.960\n",
            "A sensibilidade encontrada foi de 0.960\n",
            "A precisão encontrada foi de 0.960\n"
          ],
          "name": "stdout"
        },
        {
          "output_type": "display_data",
          "data": {
            "image/png": "[encoded data removed]",
            "text/plain": [
              "<Figure size 432x288 with 1 Axes>"
            ]
          },
          "metadata": {
            "tags": []
          }
        }
      ]
    },
    {
      "cell_type": "markdown",
      "metadata": {
        "id": "avpzrtHXHd_6",
        "colab_type": "text"
      },
      "source": [
        "Dentre os quatro modelos treinados, o QDA obteve os maiores valores em todas as métricas consideradas, que foram score, especificidade, sensibilidade e precisão. É importante ressaltar, porém, que os quatro modelos apresentaram valores muito bons em todas as métricas e, com efeito, ficaram muito próximos dos resultados obtidos para o QDA. Por outro lado, uma vantagem que o QDA apresentou em relação ao LDA e à regressão logística foi a fronteira de decisão não linear. Considerando os plots abaixo para as fronteiras de decisão para o Bayes Ingênuo e para o QDA, vemos que estes métodos obtiveram fronteiras de decisão não lineares. No Bayes Ingênuo esta fronteira parece tomar a forma de uma elipse, enquanto para o QDA temos a forma de uma hipérbole. Note que no caso da fronteira elíptica, isto siginifica que para uma das classes, o modelo só atribui uma observação a esta classe em uma região limitada do plano. Isto pode significar um problema de generalização do modelo para observações distantes do conjunto de treino. O mesmo não ocorre para a fronteira hiperbólica. Ambas as regiões associadas a cada uma das classes é ilimitada. Por isso, vemos uma certa vantagem do QDA também sobre o Bayes Ingênuo.\n",
        "\n",
        "Levando em considerações estes pontos, adotaríamos, neste caso, o QDA como nosso classificador."
      ]
    },
    {
      "cell_type": "code",
      "metadata": {
        "id": "m1t6hjuFK8fF",
        "colab_type": "code",
        "outputId": "09514c74-0626-4125-d633-3133ef638f1a",
        "colab": {
          "base_uri": "https://localhost:8080/",
          "height": 281
        }
      },
      "source": [
        "plot_decision_boundaries(clf, 150, 150, \"Bayes Ingênuo\")"
      ],
      "execution_count": 0,
      "outputs": [
        {
          "output_type": "display_data",
          "data": {
            "image/png": "[encoded data removed]",
            "text/plain": [
              "<Figure size 432x288 with 1 Axes>"
            ]
          },
          "metadata": {
            "tags": []
          }
        }
      ]
    },
    {
      "cell_type": "code",
      "metadata": {
        "id": "LqQBa4LdLgAd",
        "colab_type": "code",
        "outputId": "cfe236d5-e0e4-4431-9b86-42a990283e82",
        "colab": {
          "base_uri": "https://localhost:8080/",
          "height": 281
        }
      },
      "source": [
        "plot_decision_boundaries(qda, 150, 150, \"QDA\")"
      ],
      "execution_count": 0,
      "outputs": [
        {
          "output_type": "display_data",
          "data": {
            "image/png": "[encoded data removed]",
            "text/plain": [
              "<Figure size 432x288 with 1 Axes>"
            ]
          },
          "metadata": {
            "tags": []
          }
        }
      ]
    },
    {
      "cell_type": "markdown",
      "metadata": {
        "colab_type": "text",
        "id": "isdNTMbCt2Kf"
      },
      "source": [
        "d) Agora permita que o valor de corte de cada classificador varie e compare o desempenho deles. Lembre-se que isso pode ser feito através da curva ROC e/ou da métrica AUC.\n",
        "\n",
        "Após essa análise, você manteria a sua escolha de classificador feita no item c)? Disserte sobre o resultado obtido."
      ]
    },
    {
      "cell_type": "code",
      "metadata": {
        "id": "f2-lIfvOvbfc",
        "colab_type": "code",
        "colab": {}
      },
      "source": [
        "#função que calcula e plota a curva ROC dada em sala com pequenas modificações\n",
        "def plot_roc_curve(y_test, y_test_pred_proba, ax, name):\n",
        "  fpr , tpr , _ = metrics.roc_curve(y_test, y_test_pred_proba[:,1])\n",
        "  roc_auc = metrics.roc_auc_score(y_test,  y_test_pred_proba[:,1])\n",
        "  ax.set_title('ROC Curve' + name)\n",
        "  ax.plot(fpr, tpr, 'b', label = 'AUC = %0.2f' % roc_auc)\n",
        "  ax.legend(loc = 'lower right')\n",
        "  ax.plot([0, 1], [0, 1],'r--')\n",
        "  ax.set_xlim([-0.01, 1.01])\n",
        "  ax.set_ylim([-0.01, 1.01])\n",
        "  ax.set_ylabel('True Positive Rate = Sensitivity')\n",
        "  ax.set_xlabel('False Positive Rate = 1 - Specificity')"
      ],
      "execution_count": 0,
      "outputs": []
    },
    {
      "cell_type": "code",
      "metadata": {
        "id": "wpS2EieIvu_3",
        "colab_type": "code",
        "outputId": "8af5318a-c7ed-4e92-c87e-ca5af7d432d3",
        "colab": {
          "base_uri": "https://localhost:8080/",
          "height": 441
        }
      },
      "source": [
        "fig, ax = plt.subplots(2,2, figsize=(15, 6))\n",
        "models = [clf, lda, qda,lgre]\n",
        "names = ['Bayes Ingênuo', 'LDA', 'QDA', 'Regressão Logística']\n",
        "for i in range(2):\n",
        "  for j in range(2):\n",
        "    index = i+j\n",
        "    if(i > 0):\n",
        "      index += 1\n",
        "    model = models[index]\n",
        "    y_proba =  model.predict_proba(X_test)\n",
        "    plot_roc_curve(X_test_labels,  y_proba, ax[i][j], ' para o ' + names[index])\n",
        "plt.tight_layout()\n"
      ],
      "execution_count": 0,
      "outputs": [
        {
          "output_type": "display_data",
          "data": {
            "image/png": "[encoded data removed]",
            "text/plain": [
              "<Figure size 1080x432 with 4 Axes>"
            ]
          },
          "metadata": {
            "tags": []
          }
        }
      ]
    },
    {
      "cell_type": "markdown",
      "metadata": {
        "id": "aJ4S2zNJiZW0",
        "colab_type": "text"
      },
      "source": [
        "No item anterior, fizemos a escolha, ultimamente, entre o QDA e o Bayes Ingênuo. Vemos agora que as curvas ROC para estes dois modelos são bem parecidas. Com efeito, ambos os modelos apresentaram excelentes curvas ROC. Uma informação importante em uma curva ROC é o valor $\\mathrm{AUC}$ da área embaixo da curva. O maior valor possível de $\\mathrm{AUC}$ é $1$ e quanto mais próximo deste valor melhor. Aqui podemos ver que a diferença entre o $\\mathrm{AUC}$ para o Bayes Ingênuo é maior que o $\\mathrm{AUC}$ para o QDA, mas a diferença é praticamente zero. Sendo assim, levando em consideração a argumentação do item anterior e que as curvas ROC para o Bayes Ingênuo e o QDA foram muito similares e indicaram ótima performânce de ambos os classificadores, manteremos nossa escolha do QDA."
      ]
    },
    {
      "cell_type": "markdown",
      "metadata": {
        "colab_type": "text",
        "id": "TvAo7iC1t12m"
      },
      "source": [
        "e) Compare, especialmente, o resultado obtido através do LDA e da regressão logística. Mostre que ambos os modelos levam a fronteiras de decisão lineares, e descreva a diferença entre elas, do ponto de vista teórico. Isso é compatível com o que você observa na prática?"
      ]
    },
    {
      "cell_type": "markdown",
      "metadata": {
        "id": "a9knH7-l90de",
        "colab_type": "text"
      },
      "source": [
        "No caso do LDA com $\\mathbf{X}$ multivariado o critério de decisão é\n",
        "\n",
        "$$ \\mathrm{arg}\\max_k p_k(x) = \\mathrm{arg}\\max_k \\frac{\\pi_k \\frac{1}{\\sqrt{ (2\\pi)^p \\vert\\Sigma\\vert}} \\exp\\{ \\frac{-1}{2} (x-\\mu_k)^T \\Sigma^{-1} (x-\\mu_k) \\}}{\\sum_{i \\in K} \\pi_i \\frac{1}{\\sqrt{ (2\\pi)^p \\vert\\Sigma\\vert}} \\exp\\{ \\frac{-1}{2} (x-\\mu_i)^T \\Sigma^{-1} (x-\\mu_i) \\} } $$\n",
        "\n",
        "Para maximizar em $k$ basta considerar o numerador. Além disso, sabendo que estes são números positivos, podemos considerar seu logaritmo. Daí,\n",
        "\n",
        "$$ \\log\\Big( \\pi_k \\frac{1}{\\sqrt{ (2\\pi)^p \\vert\\Sigma\\vert}} \\exp\\big\\{ \\frac{-1}{2} (x-\\mu_k)^T \\Sigma^{-1} (x-\\mu_k) \\big\\} \\Big) = \n",
        "\\log(\\pi_k) + \\log\\Bigg( \\frac{1}{\\sqrt{ (2\\pi)^p \\vert\\Sigma\\vert}} \\Bigg) - \\frac{1}{2} (x-\\mu_k)^T \\Sigma^{-1} (x-\\mu_k) =\n",
        "\\log(\\pi_k) + \\log\\Bigg( \\frac{1}{\\sqrt{ (2\\pi)^p \\vert\\Sigma\\vert}} \\Bigg) - \\frac{1}{2} \\Big\\{ x^T \\big[ \\Sigma^{-1}(x-\\mu_k) \\big] - \\mu_k^T\\big[ \\Sigma^{-1} (x-\\mu_k) \\big]  \\Big\\} =\n",
        "\\log(\\pi_k) + \\log\\Bigg( \\frac{1}{\\sqrt{ (2\\pi)^p \\vert\\Sigma\\vert}} \\Bigg) - \\frac{1}{2} \\Big\\{ \\big[ x^T \\Sigma^{-1} x - x^T \\Sigma^{-1} \\mu_k \\big] - \\big[ \\mu_k^T \\Sigma^{-1} x - \\mu_k^T \\Sigma^{-1} \\mu_k   \\big] \\Big\\} =\n",
        "\\log(\\pi_k) + \\log\\Bigg( \\frac{1}{\\sqrt{ (2\\pi)^p \\vert\\Sigma\\vert}} \\Bigg) - \\frac{1}{2} \\Big\\{ x^T \\Sigma^{-1} x - 2 x^T \\Sigma^{-1} \\mu_k + \\mu_k^T \\Sigma^{-1} \\mu_k \\Big\\} \n",
        "$$\n",
        "\n",
        "Agora repare que $\\log\\Bigg( \\frac{1}{\\sqrt{ (2\\pi)^p \\vert\\Sigma\\vert}} \\Bigg)$ e $x^T \\Sigma^{-1} x$ não dependem de $k$. Portanto, podemos definir \n",
        "\n",
        "$$ \\delta_k  = \\log(\\pi_k) - \\frac{1}{2} \\mu_k^T \\Sigma^{-1} \\mu_k + x^T \\Sigma^{-1} \\mu_k  $$\n",
        "\n",
        "de forma que $\\mathrm{arg}\\max_k p_k(x) = \\mathrm{arg}\\max_k \\delta_k(x)$\n",
        "\n",
        "Repare que o termo $\\delta_k$ é linear em $x$.\n",
        "\n",
        "Para um variável de resposta binária, a fronteria de decisão é o conjunto $\\{ x \\in \\mathbb{R}^2 \\mid \\delta_0(x) = \\delta_1(x) \\}$, que devido à linearidade dos $\\delta_k$ em $x$, será uma reta caso $\\mu_0 \\neq \\mu_1$.\n",
        "\n",
        "Agora considere um modelo de regressão logística com variável resposta $Y$ binária e variável regressora $\\mathbf{X}$ multivariada. Segundo o modelo,\n",
        "$$ \\mathbb{P}(Y = 1 \\mid \\mathbf{X} = x) = \\frac{\\exp\\{b_0 + \\beta^T x \\}}{1+\\exp\\{b_0 + \\beta^T x \\}} $$\n",
        "\n",
        "Suponha que adotamos um 'threshold' $\\frac{1}{2}$. Com isso, a fronteira de decisão é o conjunto $\\{ x \\in \\mathbb{R}^2 \\mid \\frac{\\exp\\{b_0 + \\beta^T x \\}}{1+\\exp\\{b_0 + \\beta^T x \\}} = \\frac{1}{2}\\}$. \n",
        "\n",
        "Note que \n",
        "$$ \\frac{\\exp\\{b_0 + \\beta^T x \\}}{1+\\exp\\{b_0 + \\beta^T x \\}} = \\frac{1}{2} \\iff \\exp\\{b_0 + \\beta^T x \\} = 1 \\iff b_0 + \\beta^T x = 0$$\n",
        "\n",
        "Assim, podemos ver que se $\\beta \\neq 0$ a fronteira de decisão é uma reta. \n",
        "\n",
        "Comentário: para as duas fronteiras encontradas acima consideramos uma 'threshold' de $\\frac{1}{2}$, porém esta argumentação é facilmente generalizada para qualquer outra 'threshold' $\\alpha \\in (0,1)$.\n",
        "\n",
        "De maneira informal, podemos ver que, em geral, as fronteiras de decisão do LDA e da Regressão Logística são diferentes. \n",
        "\n",
        "Este é, de fato, o caso para o conjunto considerado nesta questão. Os plots acima das respectivas fronterias de decisão do LDA e da Regressão Logística são mesmo retas, e que, neste caso, elas são distintas. "
      ]
    },
    {
      "cell_type": "markdown",
      "metadata": {
        "colab_type": "text",
        "id": "4HM9vCW25yg5"
      },
      "source": [
        "## P2) Titanic\n",
        "\n",
        "Um dos conjutos de dados mais populares para quem está iniciando no mundo de Machine Learning é o [Titanic](https://www.kaggle.com/c/titanic/data). Tal conjunto contém informações sobre os passageiros do navio, bem como se tais indivíduos sobreviveram ou não ao desastre. O objetivo dessa tarefa é tentar prever se um passageiro é ou não sobrevivente com base em suas informações disponíveis. Vamos tentar fazer isso? :-) Basta baixar o conjunto de dados no link acima e começar! Porém, vamos nos ater aos quatro modelos de classificadores que lidamos na questão P1 somente. \n",
        "\n",
        "Aqui, vamos usar somente o arquivo \"train.csv\", pois ele contém também a variável de resposta, enquanto que o \"test.csv\" não contém, e provavelmente foi utilizado em alguma competição do Kaggle. Basta baixar o arquivo \"train.csv\", dividir em um conjunto de treinamento e de teste, e mãos à obra!\n",
        "\n",
        "Mas espera... não está faltando nada?! Não! Ao contrário da questão acima, não vou dar nenhuma instrução do que vocês devem fazer. Todo o processo será por conta de vocês. Algumas coisas que espero ver aqui:\n",
        "* Análise exploratória da base de dados, tentando compreendê-los adequadamente\n",
        "* Justificativa acerca dos classificadores usados\n",
        "* Análise detalhada dos resultados\n",
        "* Potenciais espaços para melhorias, identificando caminhos e escolhas que levaram ao desempenho observado\n",
        "\n",
        "Note que esse conjunto de dados é bastante trabalhado na Internet, de modo que vocês terão bastante insumo para pesquisar, se julgarem necessário. Podem recorrer a isso à vontade, PORÉM LEMBREM-SE DO QUE ESTÁ ESCRITO NAS INSTRUÇÕES DO TRABALHO! Sejam HONESTOS quanto a isso, caso utilizem algum trecho de código ou ideia muito esperta que encontrarem por aí, e tentem justificar o que está sendo feito, e não usar às cegas!"
      ]
    },
    {
      "cell_type": "code",
      "metadata": {
        "id": "BVkkI5bu5Rn_",
        "colab_type": "code",
        "outputId": "f11e47ff-0b2a-48ff-91b1-4e92857e096c",
        "colab": {
          "resources": {
            "http://localhost:8080/nbextensions/google.colab/files.js": {
              "data": "Ly8gQ29weXJpZ2h0IDIwMTcgR29vZ2xlIExMQwovLwovLyBMaWNlbnNlZCB1bmRlciB0aGUgQXBhY2hlIExpY2Vuc2UsIFZlcnNpb24gMi4wICh0aGUgIkxpY2Vuc2UiKTsKLy8geW91IG1heSBub3QgdXNlIHRoaXMgZmlsZSBleGNlcHQgaW4gY29tcGxpYW5jZSB3aXRoIHRoZSBMaWNlbnNlLgovLyBZb3UgbWF5IG9idGFpbiBhIGNvcHkgb2YgdGhlIExpY2Vuc2UgYXQKLy8KLy8gICAgICBodHRwOi8vd3d3LmFwYWNoZS5vcmcvbGljZW5zZXMvTElDRU5TRS0yLjAKLy8KLy8gVW5sZXNzIHJlcXVpcmVkIGJ5IGFwcGxpY2FibGUgbGF3IG9yIGFncmVlZCB0byBpbiB3cml0aW5nLCBzb2Z0d2FyZQovLyBkaXN0cmlidXRlZCB1bmRlciB0aGUgTGljZW5zZSBpcyBkaXN0cmlidXRlZCBvbiBhbiAiQVMgSVMiIEJBU0lTLAovLyBXSVRIT1VUIFdBUlJBTlRJRVMgT1IgQ09ORElUSU9OUyBPRiBBTlkgS0lORCwgZWl0aGVyIGV4cHJlc3Mgb3IgaW1wbGllZC4KLy8gU2VlIHRoZSBMaWNlbnNlIGZvciB0aGUgc3BlY2lmaWMgbGFuZ3VhZ2UgZ292ZXJuaW5nIHBlcm1pc3Npb25zIGFuZAovLyBsaW1pdGF0aW9ucyB1bmRlciB0aGUgTGljZW5zZS4KCi8qKgogKiBAZmlsZW92ZXJ2aWV3IEhlbHBlcnMgZm9yIGdvb2dsZS5jb2xhYiBQeXRob24gbW9kdWxlLgogKi8KKGZ1bmN0aW9uKHNjb3BlKSB7CmZ1bmN0aW9uIHNwYW4odGV4dCwgc3R5bGVBdHRyaWJ1dGVzID0ge30pIHsKICBjb25zdCBlbGVtZW50ID0gZG9jdW1lbnQuY3JlYXRlRWxlbWVudCgnc3BhbicpOwogIGVsZW1lbnQudGV4dENvbnRlbnQgPSB0ZXh0OwogIGZvciAoY29uc3Qga2V5IG9mIE9iamVjdC5rZXlzKHN0eWxlQXR0cmlidXRlcykpIHsKICAgIGVsZW1lbnQuc3R5bGVba2V5XSA9IHN0eWxlQXR0cmlidXRlc1trZXldOwogIH0KICByZXR1cm4gZWxlbWVudDsKfQoKLy8gTWF4IG51bWJlciBvZiBieXRlcyB3aGljaCB3aWxsIGJlIHVwbG9hZGVkIGF0IGEgdGltZS4KY29uc3QgTUFYX1BBWUxPQURfU0laRSA9IDEwMCAqIDEwMjQ7Ci8vIE1heCBhbW91bnQgb2YgdGltZSB0byBibG9jayB3YWl0aW5nIGZvciB0aGUgdXNlci4KY29uc3QgRklMRV9DSEFOR0VfVElNRU9VVF9NUyA9IDMwICogMTAwMDsKCmZ1bmN0aW9uIF91cGxvYWRGaWxlcyhpbnB1dElkLCBvdXRwdXRJZCkgewogIGNvbnN0IHN0ZXBzID0gdXBsb2FkRmlsZXNTdGVwKGlucHV0SWQsIG91dHB1dElkKTsKICBjb25zdCBvdXRwdXRFbGVtZW50ID0gZG9jdW1lbnQuZ2V0RWxlbWVudEJ5SWQob3V0cHV0SWQpOwogIC8vIENhY2hlIHN0ZXBzIG9uIHRoZSBvdXRwdXRFbGVtZW50IHRvIG1ha2UgaXQgYXZhaWxhYmxlIGZvciB0aGUgbmV4dCBjYWxsCiAgLy8gdG8gdXBsb2FkRmlsZXNDb250aW51ZSBmcm9tIFB5dGhvbi4KICBvdXRwdXRFbGVtZW50LnN0ZXBzID0gc3RlcHM7CgogIHJldHVybiBfdXBsb2FkRmlsZXNDb250aW51ZShvdXRwdXRJZCk7Cn0KCi8vIFRoaXMgaXMgcm91Z2hseSBhbiBhc3luYyBnZW5lcmF0b3IgKG5vdCBzdXBwb3J0ZWQgaW4gdGhlIGJyb3dzZXIgeWV0KSwKLy8gd2hlcmUgdGhlcmUgYXJlIG11bHRpcGxlIGFzeW5jaHJvbm91cyBzdGVwcyBhbmQgdGhlIFB5dGhvbiBzaWRlIGlzIGdvaW5nCi8vIHRvIHBvbGwgZm9yIGNvbXBsZXRpb24gb2YgZWFjaCBzdGVwLgovLyBUaGlzIHVzZXMgYSBQcm9taXNlIHRvIGJsb2NrIHRoZSBweXRob24gc2lkZSBvbiBjb21wbGV0aW9uIG9mIGVhY2ggc3RlcCwKLy8gdGhlbiBwYXNzZXMgdGhlIHJlc3VsdCBvZiB0aGUgcHJldmlvdXMgc3RlcCBhcyB0aGUgaW5wdXQgdG8gdGhlIG5leHQgc3RlcC4KZnVuY3Rpb24gX3VwbG9hZEZpbGVzQ29udGludWUob3V0cHV0SWQpIHsKICBjb25zdCBvdXRwdXRFbGVtZW50ID0gZG9jdW1lbnQuZ2V0RWxlbWVudEJ5SWQob3V0cHV0SWQpOwogIGNvbnN0IHN0ZXBzID0gb3V0cHV0RWxlbWVudC5zdGVwczsKCiAgY29uc3QgbmV4dCA9IHN0ZXBzLm5leHQob3V0cHV0RWxlbWVudC5sYXN0UHJvbWlzZVZhbHVlKTsKICByZXR1cm4gUHJvbWlzZS5yZXNvbHZlKG5leHQudmFsdWUucHJvbWlzZSkudGhlbigodmFsdWUpID0+IHsKICAgIC8vIENhY2hlIHRoZSBsYXN0IHByb21pc2UgdmFsdWUgdG8gbWFrZSBpdCBhdmFpbGFibGUgdG8gdGhlIG5leHQKICAgIC8vIHN0ZXAgb2YgdGhlIGdlbmVyYXRvci4KICAgIG91dHB1dEVsZW1lbnQubGFzdFByb21pc2VWYWx1ZSA9IHZhbHVlOwogICAgcmV0dXJuIG5leHQudmFsdWUucmVzcG9uc2U7CiAgfSk7Cn0KCi8qKgogKiBHZW5lcmF0b3IgZnVuY3Rpb24gd2hpY2ggaXMgY2FsbGVkIGJldHdlZW4gZWFjaCBhc3luYyBzdGVwIG9mIHRoZSB1cGxvYWQKICogcHJvY2Vzcy4KICogQHBhcmFtIHtzdHJpbmd9IGlucHV0SWQgRWxlbWVudCBJRCBvZiB0aGUgaW5wdXQgZmlsZSBwaWNrZXIgZWxlbWVudC4KICogQHBhcmFtIHtzdHJpbmd9IG91dHB1dElkIEVsZW1lbnQgSUQgb2YgdGhlIG91dHB1dCBkaXNwbGF5LgogKiBAcmV0dXJuIHshSXRlcmFibGU8IU9iamVjdD59IEl0ZXJhYmxlIG9mIG5leHQgc3RlcHMuCiAqLwpmdW5jdGlvbiogdXBsb2FkRmlsZXNTdGVwKGlucHV0SWQsIG91dHB1dElkKSB7CiAgY29uc3QgaW5wdXRFbGVtZW50ID0gZG9jdW1lbnQuZ2V0RWxlbWVudEJ5SWQoaW5wdXRJZCk7CiAgaW5wdXRFbGVtZW50LmRpc2FibGVkID0gZmFsc2U7CgogIGNvbnN0IG91dHB1dEVsZW1lbnQgPSBkb2N1bWVudC5nZXRFbGVtZW50QnlJZChvdXRwdXRJZCk7CiAgb3V0cHV0RWxlbWVudC5pbm5lckhUTUwgPSAnJzsKCiAgY29uc3QgcGlja2VkUHJvbWlzZSA9IG5ldyBQcm9taXNlKChyZXNvbHZlKSA9PiB7CiAgICBpbnB1dEVsZW1lbnQuYWRkRXZlbnRMaXN0ZW5lcignY2hhbmdlJywgKGUpID0+IHsKICAgICAgcmVzb2x2ZShlLnRhcmdldC5maWxlcyk7CiAgICB9KTsKICB9KTsKCiAgY29uc3QgY2FuY2VsID0gZG9jdW1lbnQuY3JlYXRlRWxlbWVudCgnYnV0dG9uJyk7CiAgaW5wdXRFbGVtZW50LnBhcmVudEVsZW1lbnQuYXBwZW5kQ2hpbGQoY2FuY2VsKTsKICBjYW5jZWwudGV4dENvbnRlbnQgPSAnQ2FuY2VsIHVwbG9hZCc7CiAgY29uc3QgY2FuY2VsUHJvbWlzZSA9IG5ldyBQcm9taXNlKChyZXNvbHZlKSA9PiB7CiAgICBjYW5jZWwub25jbGljayA9ICgpID0+IHsKICAgICAgcmVzb2x2ZShudWxsKTsKICAgIH07CiAgfSk7CgogIC8vIENhbmNlbCB1cGxvYWQgaWYgdXNlciBoYXNuJ3QgcGlja2VkIGFueXRoaW5nIGluIHRpbWVvdXQuCiAgY29uc3QgdGltZW91dFByb21pc2UgPSBuZXcgUHJvbWlzZSgocmVzb2x2ZSkgPT4gewogICAgc2V0VGltZW91dCgoKSA9PiB7CiAgICAgIHJlc29sdmUobnVsbCk7CiAgICB9LCBGSUxFX0NIQU5HRV9USU1FT1VUX01TKTsKICB9KTsKCiAgLy8gV2FpdCBmb3IgdGhlIHVzZXIgdG8gcGljayB0aGUgZmlsZXMuCiAgY29uc3QgZmlsZXMgPSB5aWVsZCB7CiAgICBwcm9taXNlOiBQcm9taXNlLnJhY2UoW3BpY2tlZFByb21pc2UsIHRpbWVvdXRQcm9taXNlLCBjYW5jZWxQcm9taXNlXSksCiAgICByZXNwb25zZTogewogICAgICBhY3Rpb246ICdzdGFydGluZycsCiAgICB9CiAgfTsKCiAgaWYgKCFmaWxlcykgewogICAgcmV0dXJuIHsKICAgICAgcmVzcG9uc2U6IHsKICAgICAgICBhY3Rpb246ICdjb21wbGV0ZScsCiAgICAgIH0KICAgIH07CiAgfQoKICBjYW5jZWwucmVtb3ZlKCk7CgogIC8vIERpc2FibGUgdGhlIGlucHV0IGVsZW1lbnQgc2luY2UgZnVydGhlciBwaWNrcyBhcmUgbm90IGFsbG93ZWQuCiAgaW5wdXRFbGVtZW50LmRpc2FibGVkID0gdHJ1ZTsKCiAgZm9yIChjb25zdCBmaWxlIG9mIGZpbGVzKSB7CiAgICBjb25zdCBsaSA9IGRvY3VtZW50LmNyZWF0ZUVsZW1lbnQoJ2xpJyk7CiAgICBsaS5hcHBlbmQoc3BhbihmaWxlLm5hbWUsIHtmb250V2VpZ2h0OiAnYm9sZCd9KSk7CiAgICBsaS5hcHBlbmQoc3BhbigKICAgICAgICBgKCR7ZmlsZS50eXBlIHx8ICduL2EnfSkgLSAke2ZpbGUuc2l6ZX0gYnl0ZXMsIGAgKwogICAgICAgIGBsYXN0IG1vZGlmaWVkOiAkewogICAgICAgICAgICBmaWxlLmxhc3RNb2RpZmllZERhdGUgPyBmaWxlLmxhc3RNb2RpZmllZERhdGUudG9Mb2NhbGVEYXRlU3RyaW5nKCkgOgogICAgICAgICAgICAgICAgICAgICAgICAgICAgICAgICAgICAnbi9hJ30gLSBgKSk7CiAgICBjb25zdCBwZXJjZW50ID0gc3BhbignMCUgZG9uZScpOwogICAgbGkuYXBwZW5kQ2hpbGQocGVyY2VudCk7CgogICAgb3V0cHV0RWxlbWVudC5hcHBlbmRDaGlsZChsaSk7CgogICAgY29uc3QgZmlsZURhdGFQcm9taXNlID0gbmV3IFByb21pc2UoKHJlc29sdmUpID0+IHsKICAgICAgY29uc3QgcmVhZGVyID0gbmV3IEZpbGVSZWFkZXIoKTsKICAgICAgcmVhZGVyLm9ubG9hZCA9IChlKSA9PiB7CiAgICAgICAgcmVzb2x2ZShlLnRhcmdldC5yZXN1bHQpOwogICAgICB9OwogICAgICByZWFkZXIucmVhZEFzQXJyYXlCdWZmZXIoZmlsZSk7CiAgICB9KTsKICAgIC8vIFdhaXQgZm9yIHRoZSBkYXRhIHRvIGJlIHJlYWR5LgogICAgbGV0IGZpbGVEYXRhID0geWllbGQgewogICAgICBwcm9taXNlOiBmaWxlRGF0YVByb21pc2UsCiAgICAgIHJlc3BvbnNlOiB7CiAgICAgICAgYWN0aW9uOiAnY29udGludWUnLAogICAgICB9CiAgICB9OwoKICAgIC8vIFVzZSBhIGNodW5rZWQgc2VuZGluZyB0byBhdm9pZCBtZXNzYWdlIHNpemUgbGltaXRzLiBTZWUgYi82MjExNTY2MC4KICAgIGxldCBwb3NpdGlvbiA9IDA7CiAgICB3aGlsZSAocG9zaXRpb24gPCBmaWxlRGF0YS5ieXRlTGVuZ3RoKSB7CiAgICAgIGNvbnN0IGxlbmd0aCA9IE1hdGgubWluKGZpbGVEYXRhLmJ5dGVMZW5ndGggLSBwb3NpdGlvbiwgTUFYX1BBWUxPQURfU0laRSk7CiAgICAgIGNvbnN0IGNodW5rID0gbmV3IFVpbnQ4QXJyYXkoZmlsZURhdGEsIHBvc2l0aW9uLCBsZW5ndGgpOwogICAgICBwb3NpdGlvbiArPSBsZW5ndGg7CgogICAgICBjb25zdCBiYXNlNjQgPSBidG9hKFN0cmluZy5mcm9tQ2hhckNvZGUuYXBwbHkobnVsbCwgY2h1bmspKTsKICAgICAgeWllbGQgewogICAgICAgIHJlc3BvbnNlOiB7CiAgICAgICAgICBhY3Rpb246ICdhcHBlbmQnLAogICAgICAgICAgZmlsZTogZmlsZS5uYW1lLAogICAgICAgICAgZGF0YTogYmFzZTY0LAogICAgICAgIH0sCiAgICAgIH07CiAgICAgIHBlcmNlbnQudGV4dENvbnRlbnQgPQogICAgICAgICAgYCR7TWF0aC5yb3VuZCgocG9zaXRpb24gLyBmaWxlRGF0YS5ieXRlTGVuZ3RoKSAqIDEwMCl9JSBkb25lYDsKICAgIH0KICB9CgogIC8vIEFsbCBkb25lLgogIHlpZWxkIHsKICAgIHJlc3BvbnNlOiB7CiAgICAgIGFjdGlvbjogJ2NvbXBsZXRlJywKICAgIH0KICB9Owp9CgpzY29wZS5nb29nbGUgPSBzY29wZS5nb29nbGUgfHwge307CnNjb3BlLmdvb2dsZS5jb2xhYiA9IHNjb3BlLmdvb2dsZS5jb2xhYiB8fCB7fTsKc2NvcGUuZ29vZ2xlLmNvbGFiLl9maWxlcyA9IHsKICBfdXBsb2FkRmlsZXMsCiAgX3VwbG9hZEZpbGVzQ29udGludWUsCn07Cn0pKHNlbGYpOwo=",
              "ok": true,
              "headers": [
                [
                  "content-type",
                  "application/javascript"
                ]
              ],
              "status": 200,
              "status_text": ""
            }
          },
          "base_uri": "https://localhost:8080/",
          "height": 75
        }
      },
      "source": [
        "uploaded = files.upload()"
      ],
      "execution_count": 0,
      "outputs": [
        {
          "output_type": "display_data",
          "data": {
            "text/html": [
              "\n",
              "     <input type=\"file\" id=\"files-f48b7c75-664c-47a8-8949-e7f2c34cc102\" name=\"files[]\" multiple disabled />\n",
              "     <output id=\"result-f48b7c75-664c-47a8-8949-e7f2c34cc102\">\n",
              "      Upload widget is only available when the cell has been executed in the\n",
              "      current browser session. Please rerun this cell to enable.\n",
              "      </output>\n",
              "      <script src=\"/nbextensions/google.colab/files.js\"></script> "
            ],
            "text/plain": [
              "<IPython.core.display.HTML object>"
            ]
          },
          "metadata": {
            "tags": []
          }
        },
        {
          "output_type": "stream",
          "text": [
            "Saving train.csv to train (1).csv\n"
          ],
          "name": "stdout"
        }
      ]
    },
    {
      "cell_type": "code",
      "metadata": {
        "colab_type": "code",
        "id": "HjjUZXs25yP3",
        "colab": {}
      },
      "source": [
        "titanic = pd.read_csv(io.BytesIO(uploaded['train.csv']),encoding='latin-1')"
      ],
      "execution_count": 0,
      "outputs": []
    },
    {
      "cell_type": "code",
      "metadata": {
        "id": "7xvGWnMj_5yq",
        "colab_type": "code",
        "outputId": "66d850b7-5a0b-480b-dd53-2a9e6a9fdb7c",
        "colab": {
          "base_uri": "https://localhost:8080/",
          "height": 202
        }
      },
      "source": [
        "titanic.head()"
      ],
      "execution_count": 0,
      "outputs": [
        {
          "output_type": "execute_result",
          "data": {
            "text/html": [
              "<div>\n",
              "<style scoped>\n",
              "    .dataframe tbody tr th:only-of-type {\n",
              "        vertical-align: middle;\n",
              "    }\n",
              "\n",
              "    .dataframe tbody tr th {\n",
              "        vertical-align: top;\n",
              "    }\n",
              "\n",
              "    .dataframe thead th {\n",
              "        text-align: right;\n",
              "    }\n",
              "</style>\n",
              "<table border=\"1\" class=\"dataframe\">\n",
              "  <thead>\n",
              "    <tr style=\"text-align: right;\">\n",
              "      <th></th>\n",
              "      <th>PassengerId</th>\n",
              "      <th>Survived</th>\n",
              "      <th>Pclass</th>\n",
              "      <th>Name</th>\n",
              "      <th>Sex</th>\n",
              "      <th>Age</th>\n",
              "      <th>SibSp</th>\n",
              "      <th>Parch</th>\n",
              "      <th>Ticket</th>\n",
              "      <th>Fare</th>\n",
              "      <th>Cabin</th>\n",
              "      <th>Embarked</th>\n",
              "    </tr>\n",
              "  </thead>\n",
              "  <tbody>\n",
              "    <tr>\n",
              "      <th>0</th>\n",
              "      <td>1</td>\n",
              "      <td>0</td>\n",
              "      <td>3</td>\n",
              "      <td>Braund, Mr. Owen Harris</td>\n",
              "      <td>male</td>\n",
              "      <td>22.0</td>\n",
              "      <td>1</td>\n",
              "      <td>0</td>\n",
              "      <td>A/5 21171</td>\n",
              "      <td>7.2500</td>\n",
              "      <td>NaN</td>\n",
              "      <td>S</td>\n",
              "    </tr>\n",
              "    <tr>\n",
              "      <th>1</th>\n",
              "      <td>2</td>\n",
              "      <td>1</td>\n",
              "      <td>1</td>\n",
              "      <td>Cumings, Mrs. John Bradley (Florence Briggs Th...</td>\n",
              "      <td>female</td>\n",
              "      <td>38.0</td>\n",
              "      <td>1</td>\n",
              "      <td>0</td>\n",
              "      <td>PC 17599</td>\n",
              "      <td>71.2833</td>\n",
              "      <td>C85</td>\n",
              "      <td>C</td>\n",
              "    </tr>\n",
              "    <tr>\n",
              "      <th>2</th>\n",
              "      <td>3</td>\n",
              "      <td>1</td>\n",
              "      <td>3</td>\n",
              "      <td>Heikkinen, Miss. Laina</td>\n",
              "      <td>female</td>\n",
              "      <td>26.0</td>\n",
              "      <td>0</td>\n",
              "      <td>0</td>\n",
              "      <td>STON/O2. 3101282</td>\n",
              "      <td>7.9250</td>\n",
              "      <td>NaN</td>\n",
              "      <td>S</td>\n",
              "    </tr>\n",
              "    <tr>\n",
              "      <th>3</th>\n",
              "      <td>4</td>\n",
              "      <td>1</td>\n",
              "      <td>1</td>\n",
              "      <td>Futrelle, Mrs. Jacques Heath (Lily May Peel)</td>\n",
              "      <td>female</td>\n",
              "      <td>35.0</td>\n",
              "      <td>1</td>\n",
              "      <td>0</td>\n",
              "      <td>113803</td>\n",
              "      <td>53.1000</td>\n",
              "      <td>C123</td>\n",
              "      <td>S</td>\n",
              "    </tr>\n",
              "    <tr>\n",
              "      <th>4</th>\n",
              "      <td>5</td>\n",
              "      <td>0</td>\n",
              "      <td>3</td>\n",
              "      <td>Allen, Mr. William Henry</td>\n",
              "      <td>male</td>\n",
              "      <td>35.0</td>\n",
              "      <td>0</td>\n",
              "      <td>0</td>\n",
              "      <td>373450</td>\n",
              "      <td>8.0500</td>\n",
              "      <td>NaN</td>\n",
              "      <td>S</td>\n",
              "    </tr>\n",
              "  </tbody>\n",
              "</table>\n",
              "</div>"
            ],
            "text/plain": [
              "   PassengerId  Survived  Pclass  ...     Fare Cabin  Embarked\n",
              "0            1         0       3  ...   7.2500   NaN         S\n",
              "1            2         1       1  ...  71.2833   C85         C\n",
              "2            3         1       3  ...   7.9250   NaN         S\n",
              "3            4         1       1  ...  53.1000  C123         S\n",
              "4            5         0       3  ...   8.0500   NaN         S\n",
              "\n",
              "[5 rows x 12 columns]"
            ]
          },
          "metadata": {
            "tags": []
          },
          "execution_count": 177
        }
      ]
    },
    {
      "cell_type": "markdown",
      "metadata": {
        "id": "FbkyrH6P_QNU",
        "colab_type": "text"
      },
      "source": [
        "Nosso objetivo é modelar a probabilidade de um passageiro sobreviver ou não através dos seus atributos disponíveis. Em primeiro lugar, é bem seguro assumir que o nome do passageiro não tem relação com sua probabilidade de sobrevivência. Além disso, não há um conversão lógica de um nome para uma variável numérica para que possamos considerá-lo no modelo. O mesmo pode ser dito a respeito da variável 'ticket'. Por isso, vamos desconsiderar de antemão estas duas informações. Por último, vamos desconsiderar a informação 'PassengerID' pois ela apenas indexa a posição do passageiro no conjunto.\n",
        "\n",
        "Agora vamos fazer uma análise exploratória das variáveis restantes.\n",
        "\n",
        "Começamos investigando uma possível relação entre a classe do passageiro e sua sobrevivência."
      ]
    },
    {
      "cell_type": "code",
      "metadata": {
        "id": "b5NTkIoQRNxe",
        "colab_type": "code",
        "outputId": "000048b8-1aee-4048-9967-7736eaab31b5",
        "colab": {
          "base_uri": "https://localhost:8080/",
          "height": 139
        }
      },
      "source": [
        "NUM_PASSENGERS = len(titanic)\n",
        "classes_column = titanic[['Pclass']]\n",
        "survived_column = titanic[['Survived']]\n",
        "num_survivors_class_1 = 0\n",
        "num_survivors_class_2 = 0\n",
        "num_survivors_class_3 = 0\n",
        "num_passengers_class_1 = 0\n",
        "num_passengers_class_2 = 0\n",
        "num_passengers_class_3 = 0\n",
        "for i in range(NUM_PASSENGERS):\n",
        "  if(classes_column.iloc[i,0] == 1):\n",
        "    num_passengers_class_1 += 1\n",
        "    if(survived_column.iloc[i, 0] == 1):\n",
        "      num_survivors_class_1 += 1\n",
        "  if(classes_column.iloc[i,0] == 2):\n",
        "    num_passengers_class_2 += 1\n",
        "    if(survived_column.iloc[i, 0] == 1):\n",
        "      num_survivors_class_2 += 1\n",
        "  if(classes_column.iloc[i,0] == 3):\n",
        "    num_passengers_class_3 += 1\n",
        "    if(survived_column.iloc[i, 0] == 1):\n",
        "      num_survivors_class_3 += 1\n",
        "            \n",
        "print(\"Proporção de sobreviventes na classe 1 = %1.3f\" %(num_survivors_class_1/num_passengers_class_1))\n",
        "print(\"Numero de passageiros na classe 1 = %d\" %(num_passengers_class_1))\n",
        "print(\"Proporção de sobreviventes na classe 2 = %1.3f\" %(num_survivors_class_2/num_passengers_class_2))\n",
        "print(\"Numero de passageiros na classe 2 = %d\" %(num_passengers_class_2))\n",
        "print(\"Proporção de sobreviventes na classe 3 = %1.3f\" %(num_survivors_class_3/num_passengers_class_3))\n",
        "print(\"Numero de passageiros na classe 3 = %d\" %(num_passengers_class_3))\n",
        "\n",
        "num_survivors = num_survivors_class_1 + num_survivors_class_2 + num_survivors_class_3\n",
        "total_prop = num_survivors/NUM_PASSENGERS\n",
        "print(\"Proporção de sobreviventes = %1.3f\" %(total_prop,))"
      ],
      "execution_count": 0,
      "outputs": [
        {
          "output_type": "stream",
          "text": [
            "Proporção de sobreviventes na classe 1 = 0.630\n",
            "Numero de passageiros na classe 1 = 216\n",
            "Proporção de sobreviventes na classe 2 = 0.473\n",
            "Numero de passageiros na classe 2 = 184\n",
            "Proporção de sobreviventes na classe 3 = 0.242\n",
            "Numero de passageiros na classe 3 = 491\n",
            "Proporção de sobreviventes = 0.384\n"
          ],
          "name": "stdout"
        }
      ]
    },
    {
      "cell_type": "markdown",
      "metadata": {
        "id": "nVFBXrsCVczL",
        "colab_type": "text"
      },
      "source": [
        "Parece que de fato há uma relação entre a classe do passageiro e sua sobrevivência. Aparentemente, passageiros de classes mais caras tem uma probabilidade maior de sobreviver. Assim, a variável 'Pclass' parece ser, de fato, uma variável relevante para estimar a probabilidade de sobrevivência e podemos considerá-la no nosso modelo. \n",
        "\n",
        "Uma variável que é naturalmente associada com a classe de um passageiro é o preço de seu ticket, que é dado pela variável 'Fare'. Vamos então investigar a relação da 'Fare' de um passageiro e sua sobrevivência."
      ]
    },
    {
      "cell_type": "code",
      "metadata": {
        "id": "cHlNhELaW2sT",
        "colab_type": "code",
        "outputId": "94916c17-10ea-4878-d198-b13f6f361cc9",
        "colab": {
          "base_uri": "https://localhost:8080/",
          "height": 295
        }
      },
      "source": [
        "fare_column = titanic[['Fare']]\n",
        "plt.plot(fare_column.iloc[:, 0], survived_column.iloc[:, 0], 'x')\n",
        "plt.xlabel('fare')\n",
        "plt.ylabel('sobrevivência')\n",
        "plt.title('Sobrevivência em função da fare')\n",
        "plt.show()"
      ],
      "execution_count": 0,
      "outputs": [
        {
          "output_type": "display_data",
          "data": {
            "image/png": "[encoded data removed]",
            "text/plain": [
              "<Figure size 432x288 with 1 Axes>"
            ]
          },
          "metadata": {
            "tags": []
          }
        }
      ]
    },
    {
      "cell_type": "markdown",
      "metadata": {
        "id": "IA5QaescYiqr",
        "colab_type": "text"
      },
      "source": [
        "Aqui podemos ver que não há, aparentemente, uma relação positiva entre a fare de um passageiro com sua probabilidade de sobrevivência. Uma breve pesquisa sobre a origem dos dados indica que no naufrágio do Titanic haviam em torno de 1400 passageiros(sem contar a tripulação), enquanto nosso conjunto tem apenas 891 registrados. De fato, nosso conjuntos de dados tem apenas informações sobre os pagantes e não sobre seus dependentes. Por exemplo, se um homem viajou com seus dois filhos e esposa e foi ele o pagante, temos apenas as informações sobre ele. No código abaixo podemos ver que se considerarmos a soma do número de passageiros registrados com seu número de irmãos, esposas, crianças e pais obtemos um valor próximo de 1400.\n",
        "Lembrando que pode haver um 'overlap' nesta contagem, devido a pessoas que sejam relacionadas mas que pagaram separademente(por exemplo dois adultos que são irmãos).\n",
        "\n",
        "Pelo que foi visto anteriormente, acreditamos que uma relação entre a classe do passageiro e sua sobrevivência. Porém, contrário a nossa intuição, não há uma relação aparente entre o fare pago por um passageiro e sua classe. Isso é explicado pelo valor da fare agregar dependentes. Uma fare alta pode significar um passageiro na classe 3 porém com muitos dependentes.\n",
        "\n",
        "Sendo assim, a variável fare não parece ser muito confiável para modelagem da probabilidade de sobrevivência e não vamos considerá-la no nosso modelo. "
      ]
    },
    {
      "cell_type": "code",
      "metadata": {
        "id": "1mo5qZcuZRIi",
        "colab_type": "code",
        "outputId": "fd1ac2a9-02df-494b-b3f3-df9eca71755f",
        "colab": {
          "base_uri": "https://localhost:8080/",
          "height": 35
        }
      },
      "source": [
        "sibsp_column = titanic[['SibSp']]\n",
        "parch_column = titanic[['Parch']]\n",
        "print(np.sum(parch_column.iloc[:, 0]) + np.sum(sibsp_column.iloc[:, 0]) + NUM_PASSENGERS)"
      ],
      "execution_count": 0,
      "outputs": [
        {
          "output_type": "stream",
          "text": [
            "1697\n"
          ],
          "name": "stdout"
        }
      ]
    },
    {
      "cell_type": "markdown",
      "metadata": {
        "id": "-rSGmtOseZ2c",
        "colab_type": "text"
      },
      "source": [
        "Agora considerámos o local de embarque de cada passageiro. Calcularemos a proporção de sobreviventes para cada local de embarque. "
      ]
    },
    {
      "cell_type": "code",
      "metadata": {
        "id": "SFham2iW_POb",
        "colab_type": "code",
        "outputId": "b9179eda-f49b-429a-fb14-00570d7a1c49",
        "colab": {
          "base_uri": "https://localhost:8080/",
          "height": 87
        }
      },
      "source": [
        "embarked_column = titanic[['Embarked']]\n",
        "C_prop = 0.0\n",
        "C_num = 0\n",
        "S_prop = 0.0\n",
        "S_num = 0\n",
        "Q_prop = 0.0\n",
        "Q_num = 0\n",
        "for i in range(NUM_PASSENGERS):\n",
        "  if(embarked_column.iloc[i, 0] == 'C'):\n",
        "    C_num += 1\n",
        "    if(survived_column.iloc[i, 0] == 1):\n",
        "      C_prop += 1\n",
        "  if(embarked_column.iloc[i, 0] == 'S'):\n",
        "    S_num += 1\n",
        "    if(survived_column.iloc[i, 0] == 1):\n",
        "      S_prop += 1\n",
        "  if(embarked_column.iloc[i, 0] == 'Q'):\n",
        "    Q_num += 1\n",
        "    if(survived_column.iloc[i, 0] == 1):\n",
        "      Q_prop += 1\n",
        "print(\"Proporção de sobreviventes entre os que embarcaram em C = %1.3f\" %(C_prop/C_num, ))\n",
        "print(\"Proporção de sobreviventes entre os que embarcaram em S = %1.3f\" %(S_prop/S_num, ))\n",
        "print(\"Proporção de sobreviventes entre os que embarcaram em Q = %1.3f\" %(Q_prop/Q_num, ))\n",
        "print(\"Proporção de sobreviventes em todo o navio = %1.3f\" %(total_prop,))"
      ],
      "execution_count": 0,
      "outputs": [
        {
          "output_type": "stream",
          "text": [
            "Proporção de sobreviventes entre os que embarcaram em C = 0.554\n",
            "Proporção de sobreviventes entre os que embarcaram em S = 0.337\n",
            "Proporção de sobreviventes entre os que embarcaram em Q = 0.390\n",
            "Proporção de sobreviventes em todo o navio = 0.384\n"
          ],
          "name": "stdout"
        }
      ]
    },
    {
      "cell_type": "markdown",
      "metadata": {
        "id": "VJ23w7ljepDB",
        "colab_type": "text"
      },
      "source": [
        "Cherbourg foi o único local de embarque que apresentou uma proporção consideravelmente diferente da proporção de sobreviventes dentre todos os passageiros. Isso pode ser causado por uma possível relação entre o local de embarque e a classe do passageiro, uma vez que já vimos que esta parece afetar a probabilidade de sobrevivência. "
      ]
    },
    {
      "cell_type": "code",
      "metadata": {
        "id": "zTsWq6GAf832",
        "colab_type": "code",
        "outputId": "40214728-1601-443f-9b8e-a04d24a0370f",
        "colab": {
          "base_uri": "https://localhost:8080/",
          "height": 121
        }
      },
      "source": [
        "C_num_class_1 = 0.0\n",
        "C_num_class_2 = 0.0\n",
        "C_num_class_3 = 0.0\n",
        "for i in range(NUM_PASSENGERS):\n",
        "  if(embarked_column.iloc[i, 0] == 'C'):\n",
        "    if(classes_column.iloc[i,0] == 1):\n",
        "      C_num_class_1 += 1\n",
        "    if(classes_column.iloc[i,0] == 2):\n",
        "      C_num_class_2 += 1\n",
        "    if(classes_column.iloc[i,0] == 3):\n",
        "      C_num_class_3 += 1\n",
        "print(\"Proporção da classe 1 entre os que embarcaram em C = %1.3f\" %(C_num_class_1/C_num))\n",
        "print(\"Proporção da classe 2 entre os que embarcaram em C = %1.3f\" %(C_num_class_2/C_num))\n",
        "print(\"Proporção da classe 3 entre os que embarcaram em C = %1.3f\" %(C_num_class_3/C_num))\n",
        "print(\"Proporção de passageiros da classe 1 em todo o navio = %1.3f\" %(num_passengers_class_1/NUM_PASSENGERS))\n",
        "print(\"Proporção de passageiros da classe 2 em todo o navio = %1.3f\" %(num_passengers_class_2/NUM_PASSENGERS))\n",
        "print(\"Proporção de passageiros da classe 3 em todo o navio = %1.3f\" %(num_passengers_class_3/NUM_PASSENGERS))"
      ],
      "execution_count": 0,
      "outputs": [
        {
          "output_type": "stream",
          "text": [
            "Proporção da classe 1 entre os que embarcaram em C = 0.506\n",
            "Proporção da classe 2 entre os que embarcaram em C = 0.101\n",
            "Proporção da classe 3 entre os que embarcaram em C = 0.393\n",
            "Proporção de passageiros da classe 1 em todo o navio = 0.242\n",
            "Proporção de passageiros da classe 2 em todo o navio = 0.207\n",
            "Proporção de passageiros da classe 3 em todo o navio = 0.551\n"
          ],
          "name": "stdout"
        }
      ]
    },
    {
      "cell_type": "markdown",
      "metadata": {
        "id": "nQrQmO_qiTS3",
        "colab_type": "text"
      },
      "source": [
        "Podemos ver que dentre aqueles que embarcaram em Cherbourg, a proporção de passageiros na classe 1 é aproximadamente o dobro da proporção da classe 1 no navio todo. Como passageiros da classe 1 estão ligados a maiores taxas de sobrevivência, a maior proporção de sobreviventes para embarcados em Cherbourg está relacionada com sua maior proporção de passageiros da classe 1. Assim, parece que basta considerar apenas a variável classe no modelo. Sendo assim, também não vamos considerar local de embarque no nosso modelo. \n",
        "\n",
        "Vamos agora considerar a variável idade."
      ]
    },
    {
      "cell_type": "code",
      "metadata": {
        "id": "LgvLbpaCkBm8",
        "colab_type": "code",
        "outputId": "5d4ed88a-e129-42e4-ae12-0312ec6f57ba",
        "colab": {
          "base_uri": "https://localhost:8080/",
          "height": 336
        }
      },
      "source": [
        "age_column = titanic[['Age']]\n",
        "survivors_ages = [None]*num_survivors\n",
        "num_deceased = NUM_PASSENGERS - num_survivors\n",
        "deceased_ages = [None]*num_deceased\n",
        "j = 0\n",
        "k = 0\n",
        "for i in range(NUM_PASSENGERS):\n",
        "  if(not np.isnan(age_column.iloc[i, 0])):\n",
        "    if(survived_column.iloc[i, 0] == 1):\n",
        "      survivors_ages[j] = age_column.iloc[i, 0]\n",
        "      j += 1\n",
        "    else:\n",
        "      deceased_ages[k] = age_column.iloc[i, 0]\n",
        "      k += 1\n",
        "      \n",
        "survivors_ages = [age for age in survivors_ages if age != None]\n",
        "deceased_ages = [age for age in deceased_ages if age != None]\n",
        "fig, ax = plt.subplots(1, 2, figsize=(12, 5))\n",
        "ax[0].hist(survivors_ages, label='survivors', color='orange')\n",
        "ax[0].set_title(\"Histograma das idades do grupo dos sobreviventes\")\n",
        "ax[1].hist(deceased_ages, label='deceased', color='blue')\n",
        "ax[1].set_title(\"Histograma das idades do grupo de mortos\")\n",
        "plt.show()"
      ],
      "execution_count": 0,
      "outputs": [
        {
          "output_type": "display_data",
          "data": {
            "image/png": "[encoded data removed]",
            "text/plain": [
              "<Figure size 864x360 with 2 Axes>"
            ]
          },
          "metadata": {
            "tags": []
          }
        }
      ]
    },
    {
      "cell_type": "markdown",
      "metadata": {
        "id": "c_9QCROIT--P",
        "colab_type": "text"
      },
      "source": [
        "Em uma primeira análise, não fica muito evidente se há uma relação entre a idade de um passageiro e sua probabilidade de sobrevivência. Podemos estratificar um pouco mais nossa análise. Desta vez, vamos particionar os conjunto de sobreviventes e vítimas de acordo com o gênero do passegeiro, e considerar a distruição das idades neste quatro conjuntos.  "
      ]
    },
    {
      "cell_type": "code",
      "metadata": {
        "id": "511uvYzB2Vqs",
        "colab_type": "code",
        "outputId": "2c6c4411-10fc-483e-c09d-5b3a2f3a121c",
        "colab": {
          "base_uri": "https://localhost:8080/",
          "height": 513
        }
      },
      "source": [
        "sex_column = titanic[['Sex']]\n",
        "survive_column = titanic[['Survived']]\n",
        "\n",
        "male = pd.DataFrame([titanic.iloc[i] for i in range(len(sex_column)) if (sex_column.iloc[i, 0] == 'male')])\n",
        "female = pd.DataFrame([titanic.iloc[i] for i in range(len(sex_column)) if (sex_column.iloc[i, 0] == 'female')])\n",
        "\n",
        "tot_male = len(male)\n",
        "tot_female = len(female)\n",
        "male_surv_column = male[['Survived']]\n",
        "female_surv_column = female[['Survived']]\n",
        "\n",
        "survived_male = pd.DataFrame([male.iloc[i] for i in range(tot_male) if (male_surv_column.iloc[i, 0] == 1)])\n",
        "deceased_male = pd.DataFrame([male.iloc[i] for i in range(tot_male) if (male_surv_column.iloc[i, 0] == 0)])\n",
        "survived_female = pd.DataFrame([female.iloc[i] for i in range(tot_female) if (female_surv_column.iloc[i, 0] == 1)])\n",
        "deceased_female = pd.DataFrame([female.iloc[i] for i in range(tot_female) if (female_surv_column.iloc[i, 0] == 0)])\n",
        "tot_surv_male = len(survived_male)\n",
        "tot_surv_female  =len(survived_female)\n",
        "\n",
        "female_survivors_ages = np.array(survived_female[['Age']])\n",
        "female_deceased_ages = np.array(deceased_female[['Age']])\n",
        "male_survivors_ages = np.array(survived_male[['Age']])\n",
        "male_deceased_ages = np.array(deceased_male[['Age']])\n",
        "\n",
        "\n",
        "fig, ax = plt.subplots(2, 2, figsize=(12, 7))\n",
        "ax[0][0].hist(female_survivors_ages, label='survivors', color='orange')\n",
        "ax[0][0].set_title(\"Histograma das idades das mulheres sobreviventes\")\n",
        "ax[1][0].hist(female_deceased_ages, label='deceased', color='blue')\n",
        "ax[1][0].set_title(\"Histograma das idades das mulheres mortas\")\n",
        "ax[0][1].hist(male_survivors_ages, label='survivors', color='orange')\n",
        "ax[0][1].set_title(\"Histograma das idades dos homens sobreviventes\")\n",
        "ax[1][1].hist(male_deceased_ages, label='deceased', color='blue')\n",
        "ax[1][1].set_title(\"Histograma das idades dos homens mortos\")\n",
        "plt.show()"
      ],
      "execution_count": 0,
      "outputs": [
        {
          "output_type": "stream",
          "text": [
            "/usr/local/lib/python3.6/dist-packages/numpy/lib/histograms.py:824: RuntimeWarning: invalid value encountered in greater_equal\n",
            "  keep = (tmp_a >= first_edge)\n",
            "/usr/local/lib/python3.6/dist-packages/numpy/lib/histograms.py:825: RuntimeWarning: invalid value encountered in less_equal\n",
            "  keep &= (tmp_a <= last_edge)\n"
          ],
          "name": "stderr"
        },
        {
          "output_type": "display_data",
          "data": {
            "image/png": "[encoded data removed]",
            "text/plain": [
              "<Figure size 864x504 with 4 Axes>"
            ]
          },
          "metadata": {
            "tags": []
          }
        }
      ]
    },
    {
      "cell_type": "markdown",
      "metadata": {
        "id": "7O-uR35LU-OY",
        "colab_type": "text"
      },
      "source": [
        "Assim parece que há uma relação entre a probabilidade de sobrevivência e as variáveis idade e gênero quando tomadas em conjunto. \n",
        "\n",
        "Considere agora as variáveis SibSp e Parch. SibSp denota o número de irmãos e esposa de um passageiro. Parch denota o número de filhos e pais do passageiro. Vamos considerar uma nova variável, que conta o número total de familiares do passageiro, que é dada pela soma de SibSp e Parch. O motivo disso seria uma simplificação do modelo caso, de fato, consideremos esta variável no modelo e baseada na nossa intuição de que ambas SibSp e Parch contam familiares de um passageiro e não é extremamente necessário distinguir qual é o exato parentesco."
      ]
    },
    {
      "cell_type": "code",
      "metadata": {
        "id": "CJXJyI3EAl6i",
        "colab_type": "code",
        "outputId": "5d32041c-6cd8-4bf1-ce55-ac310f2511f5",
        "colab": {
          "base_uri": "https://localhost:8080/",
          "height": 295
        }
      },
      "source": [
        "# \n",
        "familiares_column = np.array(sibsp_column) + np.array(parch_column)\n",
        "\n",
        "#separando por quantidade de familiares\n",
        "fam10 = pd.DataFrame([titanic.iloc[i] for i in range(len(familiares_column)) if (familiares_column[i] == 10)])\n",
        "fam9 = pd.DataFrame([titanic.iloc[i] for i in range(len(familiares_column)) if (familiares_column[i] == 9)])\n",
        "fam8 = pd.DataFrame([titanic.iloc[i] for i in range(len(familiares_column)) if (familiares_column[i] == 8)])\n",
        "fam7 = pd.DataFrame([titanic.iloc[i] for i in range(len(familiares_column)) if (familiares_column[i] == 7)])\n",
        "fam6 = pd.DataFrame([titanic.iloc[i] for i in range(len(familiares_column)) if (familiares_column[i] == 6)])\n",
        "fam5 = pd.DataFrame([titanic.iloc[i] for i in range(len(familiares_column)) if (familiares_column[i] == 5)])\n",
        "fam4 = pd.DataFrame([titanic.iloc[i] for i in range(len(familiares_column)) if (familiares_column[i] == 4)])\n",
        "fam3 = pd.DataFrame([titanic.iloc[i] for i in range(len(familiares_column)) if (familiares_column[i] == 3)])\n",
        "fam2 = pd.DataFrame([titanic.iloc[i] for i in range(len(familiares_column)) if (familiares_column[i] == 2)])\n",
        "fam1 = pd.DataFrame([titanic.iloc[i] for i in range(len(familiares_column)) if (familiares_column[i] == 1)])\n",
        "fam0 = pd.DataFrame([titanic.iloc[i] for i in range(len(familiares_column)) if (familiares_column[i] == 0)])\n",
        "\n",
        "#separando mortos dado fam\n",
        "s_10 = len(pd.DataFrame([fam10.iloc[i] for i in range(len(fam10)) if (fam10[['Survived']].iloc[i,0] == 1)]))\n",
        "p_10 = (len(fam10)-s_10)/len(fam10)\n",
        "s_9 = len(pd.DataFrame([fam9.iloc[i] for i in range(len(fam9)) if (fam9[['Survived']].iloc[i,0] == 1)]))\n",
        "d_9 = 0\n",
        "s_8 = len(pd.DataFrame([fam8.iloc[i] for i in range(len(fam8)) if (fam8[['Survived']].iloc[i,0] == 1)]))\n",
        "d_8 = 0\n",
        "s_7 = len(pd.DataFrame([fam7.iloc[i] for i in range(len(fam7)) if (fam7[['Survived']].iloc[i,0] == 1)]))\n",
        "d_7 = (len(fam7) - s_7)/len(fam7)\n",
        "s_6 = len(pd.DataFrame([fam6.iloc[i] for i in range(len(fam6)) if (fam6[['Survived']].iloc[i,0] == 1)]))\n",
        "d_6 = (len(fam6) - s_6)/len(fam6)\n",
        "s_5 = len(pd.DataFrame([fam5.iloc[i] for i in range(len(fam5)) if (fam5[['Survived']].iloc[i,0] == 1)]))\n",
        "d_5 = (len(fam5) - s_5)/len(fam5)\n",
        "s_4 = len(pd.DataFrame([fam4.iloc[i] for i in range(len(fam4)) if (fam4[['Survived']].iloc[i,0] == 1)]))\n",
        "d_4 = (len(fam4) - s_4)/len(fam4)\n",
        "s_3 = len(pd.DataFrame([fam3.iloc[i] for i in range(len(fam3)) if (fam3[['Survived']].iloc[i,0] == 1)]))\n",
        "d_3 = (len(fam3) - s_3)/len(fam3)\n",
        "s_2 = len(pd.DataFrame([fam2.iloc[i] for i in range(len(fam2)) if (fam2[['Survived']].iloc[i,0] == 1)]))\n",
        "d_2 = (len(fam2) - s_2)/len(fam2)\n",
        "s_1 = len(pd.DataFrame([fam1.iloc[i] for i in range(len(fam1)) if (fam1[['Survived']].iloc[i,0] == 1)]))\n",
        "d_1=  (len(fam1) - s_1)/len(fam1)\n",
        "s_0 = len(pd.DataFrame([fam0.iloc[i] for i in range(len(fam0)) if (fam0[['Survived']].iloc[i,0] == 1)]))\n",
        "d_0 = (len(fam0) - s_0)/len(fam0)\n",
        "\n",
        "#proporções\n",
        "#print(\"Proporção de mortos dado que tem %1.f parentes é de %1.3f\" %(10,p_10))\n",
        "#print(\"Proporção de mortos dado que tem %1.f parentes é de %1.3f\" %(7,d_7))\n",
        "#print(\"Proporção de mortos dado que tem %1.f parentes é de %1.3f\" %(6,d_6))\n",
        "#print(\"Proporção de mortos dado que tem %1.f parentes é de %1.3f\" %(5,d_5))\n",
        "#print(\"Proporção de mortos dado que tem %1.f parentes é de %1.3f\" %(4,d_4))\n",
        "#print(\"Proporção de mortos dado que tem %1.f parentes é de %1.3f\" %(3,d_3))\n",
        "#print(\"Proporção de mortos dado que tem %1.f parentes é de %1.3f\" %(2,d_2))\n",
        "#print(\"Proporção de mortos dado que tem %1.f parentes é de %1.3f\" %(1,d_1))\n",
        "#print(\"Proporção de mortos dado que tem %1.f parentes é de %1.3f\" %(0,d_0))\n",
        "\n",
        "fams = [fam10,fam7,fam6,fam5,fam4,fam3,fam2,fam1,fam0]\n",
        "quantidades = [len(fams[i]) for i in range(9)]\n",
        "prop_falecidos = [p_10,d_7,d_6,d_5,d_4,d_3,d_2,d_1,d_0]\n",
        "labels = ['10','7','6','5','4','3','2','1','0']\n",
        "for i in range(9):\n",
        "  plt.plot(prop_falecidos[i],quantidades[i],'o', label=\"n_familiares=\" + str(labels[i]))\n",
        "plt.legend()\n",
        "plt.xlabel('proporção de morte')\n",
        "plt.ylabel('quantidade de pessoas')\n",
        "plt.title('quantidade de pessoas com n familiares vs proporção de morte' )\n",
        "plt.show()"
      ],
      "execution_count": 0,
      "outputs": [
        {
          "output_type": "display_data",
          "data": {
            "image/png": "[encoded data removed]",
            "text/plain": [
              "<Figure size 432x288 with 1 Axes>"
            ]
          },
          "metadata": {
            "tags": []
          }
        }
      ]
    },
    {
      "cell_type": "markdown",
      "metadata": {
        "id": "WQIQ9JARJuSQ",
        "colab_type": "text"
      },
      "source": [
        "Baseado nesta análise, decidimos que vamos considerar\n",
        " - PClass \n",
        " - Sex\n",
        " - Age\n",
        " - Family\n",
        " \n",
        " Agora também dissetaremos sobre a escolha do classificador.\n",
        " \n",
        "A seguir, vamos nos referir a $Y$ como a variável Survival e a $\\mathbf{X}$ como as demais.\n",
        " \n",
        "Primeiro, considere o LDA e o QDA. Lembre que estes dois classificadores assumem que $\\mathbf{X} \\mid Y = k$ tem distribuição normal. Repare que as variáveis PClasse e Sex, que decidimos levar em consideração, são categóricas. Acreditamos que modelar uma variável categórica com uma distribuição normal não é uma ideias muito boa. Além disso, da nossa análise exploratória parece que há uma forte relação entre a PClasse de um passageiro e sua sobrevivência. Sendo assim, damos uma maior prioridade para que a variável PClass seja bem modelada e, como não acreditamos que uma distribuição normal possa fazer isso, descartamos o LDA e o QDA.\n",
        "\n",
        "Considere agora a regressão logística. Temos duas variáveis categóricas PClass e Sex que, para usá-las na regressão logística, vamos precisar transformar em variáveis numéricas. Em geral, transformar variáveis categóricas em númericas tem dois pontos de vulnerabilidade. A primeira é implicar uma ordem nas classes. A segunda é implicar uma noção de distância entre classes. No caso da variável Sex, podemos transformá-la em uma variável binária que denota se o passageiro é homem ou não. Note que, neste caso, não temos o problema de ordenação, pois teríamos os mesmos resultados se resolvêssemos escolhar denotar se o passageiro é mulher ou não. Já para o caso da variável PClass, a introdução de uma distancia não parece ser um problema. De fato há uma distância entre as diferentes PClasses que é induzida pela capacidade financeira dos passageiros. Além disso, levando em consideração as proporções de sobreviventes para cada classe, temos uma ordenação e uma distância, uma vez que $p_3 < p_2 < p_1$. Assim, podemos dizer que as proporções de sobreviventes para cada classe induzem uma noção de distância no conjunto de possíveis PClasses. Sendo assim, a regressão logística parece promissora e será o primeiro classificador que vamos considerar. \n",
        " \n"
      ]
    },
    {
      "cell_type": "code",
      "metadata": {
        "id": "_cE75HISMmnx",
        "colab_type": "code",
        "colab": {}
      },
      "source": [
        "newtitanic = titanic[['Survived','Pclass','Sex','Age','SibSp','Parch']]\n",
        "newtitanic = pd.DataFrame.dropna(newtitanic)\n",
        "newtitanic['Family'] = np.array(newtitanic[['SibSp']]) + np.array(newtitanic[['Parch']])\n",
        "newtitanic['Male'] = np.array([int(newtitanic[['Sex']].iloc[i, 0] == 'male') for i in range(len(newtitanic))])\n",
        "newtitanic = newtitanic[['Survived','Pclass','Age','Family', 'Male']]"
      ],
      "execution_count": 0,
      "outputs": []
    },
    {
      "cell_type": "code",
      "metadata": {
        "id": "HfmPMDy0P0sK",
        "colab_type": "code",
        "outputId": "80cb8a50-baa3-45aa-d59d-e2140d4d7894",
        "colab": {
          "base_uri": "https://localhost:8080/",
          "height": 202
        }
      },
      "source": [
        "newtitanic.head()"
      ],
      "execution_count": 0,
      "outputs": [
        {
          "output_type": "execute_result",
          "data": {
            "text/html": [
              "<div>\n",
              "<style scoped>\n",
              "    .dataframe tbody tr th:only-of-type {\n",
              "        vertical-align: middle;\n",
              "    }\n",
              "\n",
              "    .dataframe tbody tr th {\n",
              "        vertical-align: top;\n",
              "    }\n",
              "\n",
              "    .dataframe thead th {\n",
              "        text-align: right;\n",
              "    }\n",
              "</style>\n",
              "<table border=\"1\" class=\"dataframe\">\n",
              "  <thead>\n",
              "    <tr style=\"text-align: right;\">\n",
              "      <th></th>\n",
              "      <th>Survived</th>\n",
              "      <th>Pclass</th>\n",
              "      <th>Age</th>\n",
              "      <th>Family</th>\n",
              "      <th>Male</th>\n",
              "    </tr>\n",
              "  </thead>\n",
              "  <tbody>\n",
              "    <tr>\n",
              "      <th>0</th>\n",
              "      <td>0</td>\n",
              "      <td>3</td>\n",
              "      <td>22.0</td>\n",
              "      <td>1</td>\n",
              "      <td>1</td>\n",
              "    </tr>\n",
              "    <tr>\n",
              "      <th>1</th>\n",
              "      <td>1</td>\n",
              "      <td>1</td>\n",
              "      <td>38.0</td>\n",
              "      <td>1</td>\n",
              "      <td>0</td>\n",
              "    </tr>\n",
              "    <tr>\n",
              "      <th>2</th>\n",
              "      <td>1</td>\n",
              "      <td>3</td>\n",
              "      <td>26.0</td>\n",
              "      <td>0</td>\n",
              "      <td>0</td>\n",
              "    </tr>\n",
              "    <tr>\n",
              "      <th>3</th>\n",
              "      <td>1</td>\n",
              "      <td>1</td>\n",
              "      <td>35.0</td>\n",
              "      <td>1</td>\n",
              "      <td>0</td>\n",
              "    </tr>\n",
              "    <tr>\n",
              "      <th>4</th>\n",
              "      <td>0</td>\n",
              "      <td>3</td>\n",
              "      <td>35.0</td>\n",
              "      <td>0</td>\n",
              "      <td>1</td>\n",
              "    </tr>\n",
              "  </tbody>\n",
              "</table>\n",
              "</div>"
            ],
            "text/plain": [
              "   Survived  Pclass   Age  Family  Male\n",
              "0         0       3  22.0       1     1\n",
              "1         1       1  38.0       1     0\n",
              "2         1       3  26.0       0     0\n",
              "3         1       1  35.0       1     0\n",
              "4         0       3  35.0       0     1"
            ]
          },
          "metadata": {
            "tags": []
          },
          "execution_count": 187
        }
      ]
    },
    {
      "cell_type": "code",
      "metadata": {
        "id": "JEDlN7JWN0rl",
        "colab_type": "code",
        "colab": {}
      },
      "source": [
        "# Particionando em conjunto de treino e conjunto de teste\n",
        "Titanic_train, Titanic_test = sklearn.model_selection.train_test_split(newtitanic, test_size=0.2, random_state=3902)\n",
        "TRAIN_SIZE = len(Titanic_train)\n",
        "TEST_SIZE = len(Titanic_test)\n",
        "Titanic_train_row_values = [ Titanic_train.iloc[i].values[1:] for i in range(TRAIN_SIZE)]\n",
        "Titanic_test_row_values = [ Titanic_test.iloc[i].values[1:] for i in range(TEST_SIZE)]\n",
        "Titanic_train_labels = np.array(Titanic_train['Survived'])\n",
        "Titanic_test_labels = np.array(Titanic_test['Survived'])"
      ],
      "execution_count": 0,
      "outputs": []
    },
    {
      "cell_type": "code",
      "metadata": {
        "id": "uYTPG_c8q-NV",
        "colab_type": "code",
        "outputId": "dc41cc32-e3fe-4cbf-e392-a0c0f80222c8",
        "colab": {
          "base_uri": "https://localhost:8080/",
          "height": 159
        }
      },
      "source": [
        "# Treinando a Regressão Logística\n",
        "titanic_lgre = sklearn.linear_model.LogisticRegression()\n",
        "titanic_lgre.fit(Titanic_train[['Pclass','Age','Family', 'Male']], Titanic_train['Survived'])"
      ],
      "execution_count": 0,
      "outputs": [
        {
          "output_type": "stream",
          "text": [
            "/usr/local/lib/python3.6/dist-packages/sklearn/linear_model/logistic.py:432: FutureWarning: Default solver will be changed to 'lbfgs' in 0.22. Specify a solver to silence this warning.\n",
            "  FutureWarning)\n"
          ],
          "name": "stderr"
        },
        {
          "output_type": "execute_result",
          "data": {
            "text/plain": [
              "LogisticRegression(C=1.0, class_weight=None, dual=False, fit_intercept=True,\n",
              "                   intercept_scaling=1, l1_ratio=None, max_iter=100,\n",
              "                   multi_class='warn', n_jobs=None, penalty='l2',\n",
              "                   random_state=None, solver='warn', tol=0.0001, verbose=0,\n",
              "                   warm_start=False)"
            ]
          },
          "metadata": {
            "tags": []
          },
          "execution_count": 295
        }
      ]
    },
    {
      "cell_type": "code",
      "metadata": {
        "id": "xs9VaUNxoCON",
        "colab_type": "code",
        "outputId": "3f507e95-8df1-4a6d-dd9c-04fc4ef17d58",
        "colab": {
          "base_uri": "https://localhost:8080/",
          "height": 191
        }
      },
      "source": [
        "#Para análise da regressão logística\n",
        "Titanic_test_pred = titanic_lgre.predict(Titanic_test[['Pclass','Age','Family', 'Male']])\n",
        "print(\"Score da Regressão Logística %1.3f = \" %titanic_lgre.score(Titanic_test[['Pclass','Age','Family', 'Male']],Titanic_test['Survived']))\n",
        "metricas(Titanic_test_labels, Titanic_test_pred)\n",
        "print(\"Os coeficientes estimados pela Regressão Logística foram:  \\n\")\n",
        "coefs = titanic_lgre.coef_[0]\n",
        "print(\"Para Pclass = %1.3f \" %(coefs[0]))\n",
        "print(\"Para Age = %1.3f \" %(coefs[1]))\n",
        "print(\"Para Family = %1.3f \" %(coefs[2]))\n",
        "print(\"Para Male = %1.3f \" %(coefs[3]))"
      ],
      "execution_count": 0,
      "outputs": [
        {
          "output_type": "stream",
          "text": [
            "Score da Regressão Logística 0.769 = \n",
            "A especifidade encontrada foi de 0.841\n",
            "A sensibilidade encontrada foi de 0.672\n",
            "A precisão encontrada foi de 0.759\n",
            "Os coeficientes estimados pela Regressão Logística foram:  \n",
            "\n",
            "Para Pclass = -0.996 \n",
            "Para Age = -0.021 \n",
            "Para Family = -0.090 \n",
            "Para Male = -2.337 \n"
          ],
          "name": "stdout"
        }
      ]
    },
    {
      "cell_type": "markdown",
      "metadata": {
        "id": "POlqj5FtqpNf",
        "colab_type": "text"
      },
      "source": [
        "Os resultados das metricas obtidos utilizando o classificador de Regressão logistica não parecem os melhores possiveis por enquanto. \n",
        "O score de 0.769 mostra que apenas 76.9% de todas as previsões estão corretas. \n",
        "A especificidade e a sensibilidade apontam a proporção de verdadeiros positivos e veradeiros negativos respectivamente. Percebe-se que o modelo acerta mais facilmente se os positivos são positivos do que os negativos serem negativos. \n",
        "Quanto a pecisão, aponta o quão bom o modelo é em atribuir um positivo á classe certa. \n",
        "Estamos nos referindo a classe 1 de sobreviventes como positivos e a classe 0 de não sobreviventes como negativos.\n",
        "\n",
        "Ao analisarmos os coeficientes estimados, vemos que todas as variaveis tem relações negativas com o modelo. Em outras palavras, quanto maior a classe, isto é, menos rico o passageiro, menor são as chances dele sobreviver. Já para a variavel idade, tambem com relação negativa,  quanto maior a idade menos chances de sobrevivencia. Ora essa variavel tem coeficiente associado mais baixo e não influenciara tanto no sobrevivencia ou nao o passageiro. Da mesma forma a variavel Family não será uma grande influencia na sobrevivencia ou não do passageiro. Por fim, a variavel Male indica que caso o passageiro seja homem a chance de sobrevivencia diminui bastante. "
      ]
    },
    {
      "cell_type": "markdown",
      "metadata": {
        "id": "NfEw8J0_xYiN",
        "colab_type": "text"
      },
      "source": [
        "Agora vamos treinar um Bayes Ingênuo.\n",
        "\n",
        "Seja $\\mathbf{X} = (X_1, X_2, X_3, X_4) = (\\mathrm{PClass}, \\mathrm{Age}, \\mathrm{Family}, \\mathrm{Male})$, queremos estimar $\\mathbb{P}(Y = k \\mid \\mathbf{X} = \\mathbf{x})$ onde $Y = 1$ se o passageiro sobreviveu e $Y = 0$ caso contrário.\n",
        "\n",
        "Pelo Teorema de Bayes, temos \n",
        "\n",
        "$$ \\mathbb{P}(Y = k \\mid \\mathbf{X} = \\mathbf{x}) = \\frac{\\mathbb{P}(\\mathbf{X} = \\mathbf{x} \\mid Y = k) \\mathbb{P}(Y=k)}{\\mathbb{P}(\\mathbf{X} = \\mathbf{x})} $$\n",
        "\n",
        "Considerando o critério de decisão $ \\mathrm{arg}\\max_k \\mathbb{P}(Y = k \\mid \\mathbf{X} = \\mathbf{x}) $ basta então maximizar o numerador.\n",
        "\n",
        "Agora precisamos estimar $\\mathbb{P}(\\mathbf{X} = \\mathbf{x} \\mid Y = k)$ e $\\mathbb{P}(Y=k)$. Vamos supor que dado $Y = k$, $X_1, X_2, X_3, X_4$ são independentes. Daí, \n",
        "\n",
        "$$ \\mathbb{P}(\\mathbf{X} = \\mathbf{x} \\mid Y = k) = \\mathbb{P}(X_1 = x_1 \\mid Y= k) \\mathbb{P}(X_2 = x_2 \\mid Y= k) \\mathbb{P}(X_3 = x_3 \\mid Y= k) \\mathbb{P}(X_4 = x_4 \\mid Y= k) $$\n",
        "\n",
        "Para estimar $\\mathbb{P}(Y=k)$ vamos considerar $s_0$ e $s_1$ as proporções de vítimas e de sobreviventes em todo o conjunto de treino. \n",
        "\n",
        "Note que $X_1$, que denota a Pclass, é uma variável aleatória discreta e assume valores no conjunto $\\{1,2,3\\}$. Por isso, vamos considerar uma distribuição multinomial para $X_1 \\mid Y =k$ com três classes. A estimativa de $\\mathbb{P}(X_1 = x_1 \\mid Y= k)$ será a proporção de passageiros na Pclass $x_1$ e tais que $Y = k$ no conjunto de treino. \n",
        "\n",
        "Já $X_2$ é uma variável aleatória contínua e denota a idade do paciente. Note que $X_2$ é limitada. É evidente também que deve ser não negativa. Mas idade também é, efetivamente, limitada superiormente. Queremos então uma distribuição contínua para $X_2 \\mid Y = k$ e que seja limitada. Uma possível forma de fazer isso é estimar uma densidade a partir dos dados através do método de 'Kernel Density Estimator'(admitimos não saber muito sobre o método, mas implementá-lo com o Scikitlearn não é tão difícil). \n",
        "\n",
        "Note que $X_3$, que denota Family, é uma variável aleatória discreta e não negativa. Como na amostra $X_3$ é limitada inferiormente por $0$ e superiormente por $10$, vamos considerar que $X_3 \\mid Y = k$ tem distribuição multinomial com onze classes dos inteiros de 0 a 10. Com isso, a estimativa de $\\mathbb{P}(X_3 = x_3 \\mid Y= k)$ será a proporção de passageiros com este número de familiares e tais que $Y=k$.\n",
        "\n",
        "Por último, note que $X_4$, que denota Male, é uma variável aleatória binária. Sendo assim, vamos considerar que $X_4 \\mid Y = k$ é uma variável aleatória de Bernoulli e a estimativa de $\\mathbb{P}(X_4 = 1 \\mid Y= k)$ será a proporção de homens tais que $Y = k$."
      ]
    },
    {
      "cell_type": "code",
      "metadata": {
        "id": "PC9lzNafMnYI",
        "colab_type": "code",
        "colab": {}
      },
      "source": [
        "#Particionando em conjunto de sobreviventes e mortos\n",
        "train_survived_column = Titanic_train['Survived']\n",
        "train_survivors = pd.DataFrame([Titanic_train.iloc[i] for i in range(TRAIN_SIZE) if (train_survived_column.iloc[i] == 1)])\n",
        "train_deceased = pd.DataFrame([Titanic_train.iloc[i] for i in range(TRAIN_SIZE) if (train_survived_column.iloc[i] == 0)])\n",
        "SIZE_SURVIVORS = len(train_survivors)\n",
        "SIZE_DECEASED = len(train_deceased)"
      ],
      "execution_count": 0,
      "outputs": []
    },
    {
      "cell_type": "code",
      "metadata": {
        "id": "m7NHmHTXPq9i",
        "colab_type": "code",
        "outputId": "fcb46508-08d1-4633-facd-e770ffb31060",
        "colab": {
          "base_uri": "https://localhost:8080/",
          "height": 52
        }
      },
      "source": [
        "# Calculando a proporções de cada Pclass para os sobreviventes e mortos\n",
        "classes_prop = np.zeros((2, 3), float)\n",
        "# na entrada (i, j) onde i = y e  j = Pclass - 1 armazenamos a respectiva proporção\n",
        "for j in range(3):\n",
        "  for n in range(SIZE_SURVIVORS):\n",
        "    if(train_survivors['Pclass'].iloc[n] == j+1):\n",
        "      classes_prop[1][j] += 1.0/SIZE_SURVIVORS\n",
        "for j in range(3):\n",
        "  for n in range(SIZE_DECEASED):\n",
        "    if(train_deceased['Pclass'].iloc[n] == j+1):\n",
        "      classes_prop[0][j] += 1.0/SIZE_DECEASED\n",
        "print(classes_prop)"
      ],
      "execution_count": 0,
      "outputs": [
        {
          "output_type": "stream",
          "text": [
            "[[0.14035088 0.23099415 0.62865497]\n",
            " [0.44978166 0.26637555 0.28384279]]\n"
          ],
          "name": "stdout"
        }
      ]
    },
    {
      "cell_type": "code",
      "metadata": {
        "id": "dVvhcLpbSLVs",
        "colab_type": "code",
        "outputId": "8b425b93-6f32-4158-af03-334fd8a3d40e",
        "colab": {
          "base_uri": "https://localhost:8080/",
          "height": 69
        }
      },
      "source": [
        "survivors_ages = train_survivors['Age'].values\n",
        "deceased_ages = train_deceased['Age'].values\n",
        "age_densities = [None]*2\n",
        "age_densities[0] = KernelDensity(bandwidth=1.0, kernel='gaussian')\n",
        "age_densities[1] = KernelDensity(bandwidth=1.0, kernel='gaussian')\n",
        "age_densities[0].fit(np.reshape(deceased_ages, (SIZE_DECEASED, 1)))\n",
        "age_densities[1].fit(np.reshape(survivors_ages, (SIZE_SURVIVORS, 1)))"
      ],
      "execution_count": 0,
      "outputs": [
        {
          "output_type": "execute_result",
          "data": {
            "text/plain": [
              "KernelDensity(algorithm='auto', atol=0, bandwidth=1.0, breadth_first=True,\n",
              "              kernel='gaussian', leaf_size=40, metric='euclidean',\n",
              "              metric_params=None, rtol=0)"
            ]
          },
          "metadata": {
            "tags": []
          },
          "execution_count": 256
        }
      ]
    },
    {
      "cell_type": "code",
      "metadata": {
        "id": "_TUfROiiT95H",
        "colab_type": "code",
        "outputId": "5e6a32d6-8730-47f4-dd25-9c28abda32c7",
        "colab": {
          "base_uri": "https://localhost:8080/",
          "height": 281
        }
      },
      "source": [
        "survivors_density_plot = np.array([np.exp(survivors_age_density.score(np.array([i]).reshape(-1, 1))) for i in range(-5, 100)])\n",
        "plt.plot(survivors_density_plot)\n",
        "plt.title(\"Densidade estimada para distribuição da idade dos sobreviventes\")\n",
        "plt.show()"
      ],
      "execution_count": 0,
      "outputs": [
        {
          "output_type": "display_data",
          "data": {
            "image/png": "[encoded data removed]",
            "text/plain": [
              "<Figure size 432x288 with 1 Axes>"
            ]
          },
          "metadata": {
            "tags": []
          }
        }
      ]
    },
    {
      "cell_type": "code",
      "metadata": {
        "id": "AdM2u5q3Wmhk",
        "colab_type": "code",
        "outputId": "b5b32235-8657-4196-e83d-98cdf1c0e1af",
        "colab": {
          "base_uri": "https://localhost:8080/",
          "height": 87
        }
      },
      "source": [
        "# Calculando a proporções de cada valor de Family para os sobreviventes e mortos\n",
        "family_prop = np.zeros((2, 11), float)\n",
        "# na entrada (i, j) onde  i = y e  j = Family armazenamos a respectiva proporção\n",
        "for j in range(11):\n",
        "  for n in range(SIZE_SURVIVORS):\n",
        "    if(train_survivors['Family'].iloc[n] == j):\n",
        "      family_prop[1][j] += 1.0/SIZE_SURVIVORS\n",
        "for j in range(11):\n",
        "  for n in range(SIZE_DECEASED):\n",
        "    if(train_deceased['Family'].iloc[n] == j):\n",
        "      family_prop[0][j] += 1.0/SIZE_DECEASED\n",
        "print(family_prop)"
      ],
      "execution_count": 0,
      "outputs": [
        {
          "output_type": "stream",
          "text": [
            "[[0.65204678 0.16374269 0.08479532 0.01169591 0.01169591 0.04385965\n",
            "  0.01754386 0.01461988 0.         0.         0.        ]\n",
            " [0.4628821  0.25764192 0.18340611 0.06113537 0.00873362 0.00873362\n",
            "  0.01746725 0.         0.         0.         0.        ]]\n"
          ],
          "name": "stdout"
        }
      ]
    },
    {
      "cell_type": "code",
      "metadata": {
        "id": "SQCMSUcuX87c",
        "colab_type": "code",
        "outputId": "3763a8fb-bae2-450f-da80-005ab17c204e",
        "colab": {
          "base_uri": "https://localhost:8080/",
          "height": 52
        }
      },
      "source": [
        "# Calculando a proporções de homens para os sobreviventes e mortos\n",
        "sex_prop = np.zeros((2, 2), float)\n",
        "# na entrada (i, j) onde i = y e  j = Male armazenamos a respectiva proporção\n",
        "for j in range(2):\n",
        "  for n in range(SIZE_SURVIVORS):\n",
        "    if(train_survivors['Male'].iloc[n] == j):\n",
        "      sex_prop[1][j] += 1.0/SIZE_SURVIVORS\n",
        "for j in range(2):\n",
        "  for n in range(SIZE_DECEASED):\n",
        "    if(train_deceased['Male'].iloc[n] == j):\n",
        "      sex_prop[0][j] += 1.0/SIZE_DECEASED\n",
        "print(sex_prop)"
      ],
      "execution_count": 0,
      "outputs": [
        {
          "output_type": "stream",
          "text": [
            "[[0.14327485 0.85672515]\n",
            " [0.68122271 0.31877729]]\n"
          ],
          "name": "stdout"
        }
      ]
    },
    {
      "cell_type": "code",
      "metadata": {
        "id": "YVl0D98ZZqt-",
        "colab_type": "code",
        "outputId": "d1c726e3-d9e8-48b7-febf-15a03212e3aa",
        "colab": {
          "base_uri": "https://localhost:8080/",
          "height": 52
        }
      },
      "source": [
        "# Calculando probabilidade de sobreviver ou não\n",
        "y_prop = np.zeros((2), float)\n",
        "# na entrada (i) temos i = y armazenamos a respectiva proporção\n",
        "y_prop[0] = SIZE_DECEASED/TRAIN_SIZE\n",
        "y_prop[1] = SIZE_SURVIVORS/TRAIN_SIZE\n",
        "print(y_prop)"
      ],
      "execution_count": 0,
      "outputs": [
        {
          "output_type": "stream",
          "text": [
            "[[0.59894921]\n",
            " [0.40105079]]\n"
          ],
          "name": "stdout"
        }
      ]
    },
    {
      "cell_type": "code",
      "metadata": {
        "id": "FkPbG6JwZz5h",
        "colab_type": "code",
        "colab": {}
      },
      "source": [
        "def titanic_naive_bayes(passenger_data):\n",
        "  posteriors = np.zeros((2), float)\n",
        "  for j in range(2):\n",
        "    p_class = classes_prop[j][int(passenger_data[0]-1)]\n",
        "    p_age = np.exp(age_densities[j].score(np.array([passenger_data[1]]).reshape(-1, 1)))\n",
        "    p_family = family_prop[j][int(passenger_data[2])]\n",
        "    p_sex = sex_prop[j][int(passenger_data[3])]\n",
        "    p_y = y_prop[j]\n",
        "    posteriors[j] = p_class*p_age*p_family*p_sex*p_y\n",
        "  if(posteriors[0] > posteriors[1]):\n",
        "    return 0\n",
        "  else:\n",
        "    return 1"
      ],
      "execution_count": 0,
      "outputs": []
    },
    {
      "cell_type": "markdown",
      "metadata": {
        "id": "T5Pk-VkncSQ5",
        "colab_type": "text"
      },
      "source": [
        "Agora já temos nosso Bayes Ingênuo treinado. Podemos então verificar sua performance no conjunto de teste."
      ]
    },
    {
      "cell_type": "code",
      "metadata": {
        "id": "PrLa80TccAO6",
        "colab_type": "code",
        "outputId": "be5144c8-789f-4c31-f003-ad9144de95ad",
        "colab": {
          "base_uri": "https://localhost:8080/",
          "height": 87
        }
      },
      "source": [
        "nb_predictions = np.array([titanic_naive_bayes(data) for data in Titanic_test_row_values])\n",
        "score = (TEST_SIZE - np.sum(np.abs(nb_predictions - Titanic_test_labels)))/TEST_SIZE\n",
        "print(\"Score do Bayes Ingênuo  = %1.3f\" %(score))\n",
        "metricas(Titanic_test_labels, nb_predictions)"
      ],
      "execution_count": 0,
      "outputs": [
        {
          "output_type": "stream",
          "text": [
            "Score do Bayes Ingênuo  = 0.776\n",
            "A especifidade encontrada foi de 0.817\n",
            "A sensibilidade encontrada foi de 0.721\n",
            "A precisão encontrada foi de 0.746\n"
          ],
          "name": "stdout"
        }
      ]
    },
    {
      "cell_type": "markdown",
      "metadata": {
        "id": "VLTDpDLRox_6",
        "colab_type": "text"
      },
      "source": [
        "Podemos ver que a performânce do Bayes Ingênuo no conjunto de teste foi bem próxima da performânce da Regressão Logística.\n",
        "\n",
        "Analisando algumas das estimativas que cada método fez podemos sustentar algumas das nossas suspeitas da análise exploratória.\n",
        "\n",
        "Note que o coeficiente da regressão logística para a variável Pclass foi negativo, com valor $-0.996$, indicando uma relação negativa entre classes mais altas(mais baratas) e a probabilidade de sobrevivência. O Bayes Ingênuo também evidência esta relação. Note que a proporção da Pclass 3 entre os mortos é alta, com valor $0.62$, e a proporção da Pclass 1 entre os sobreviventes é alta, com valor $0.44$. \n",
        "\n",
        "Outra das nossas suspeitas, por exemplo a de que o sexo está relacionada com a probabilidade de sobrevivência, também foram sustentadas. No caso da variável Male, note que o seu coeficiente na regressão logística foi de $-2.377$, indicando uma relação negativa entre ser homem e sua probabilidade de sobrevivência. Olhando para as estimativas feitas para o Bayes Ingênuo, vemos que a proporção de homens no conjunto de mortos é $0.85$, e de mulheres no conjunto de sobreviventes é $0.68$.\n",
        "\n",
        "\n"
      ]
    },
    {
      "cell_type": "markdown",
      "metadata": {
        "colab_type": "text",
        "id": "YI0nCmIrdBya"
      },
      "source": [
        "# Questões para alunos de Mestrado"
      ]
    },
    {
      "cell_type": "markdown",
      "metadata": {
        "colab_type": "text",
        "id": "R3Jxi1pxwl5q"
      },
      "source": [
        "## M1) O balanço entre viés e variância\n",
        "\n",
        "O objetivo dessa questão é tornar rigorosa e provar a equação do balanço entre viés e variância. Para isso, siga os passos indicados abaixo."
      ]
    },
    {
      "cell_type": "markdown",
      "metadata": {
        "colab_type": "text",
        "id": "A32b4ZhTwl5t"
      },
      "source": [
        "a) Assuma que a relação entre $Y \\in \\mathbb{R}$ e $\\mathbf{X} \\in \\mathbb{R}^p$ é dada por $Y = f(\\mathbf{X}) + \\varepsilon$, onde a função $f: \\mathbb{R}^p \\to \\mathbb{R}$ é desconhecida e $\\varepsilon$ é um erro de média zero, independente de $\\mathbf{X}$. Denote por $\\hat{f}$ uma estimativa de $f$ e assuma que $\\mathbf{X}$ e $Y$ sigam uma distribuição conjunta cuja densidade é dada por $p(\\mathbf{x}, y)$. Mostre que a \"melhor\" possível estimativa (no sentido de minimizar a função custo quadrática) é dada por $\\hat{f}_{\\mathrm{opt}}(\\mathbf{x}) = \\mathbb{E}_Y[Y | \\mathbf{X} = \\mathbf{x}]$. Para isso, mostre que o seguinte valor esperado é mínimo quando $\\hat{f} = \\hat{f}_{\\mathrm{opt}}$: $$\\mathbb{E}_{\\mathbf{X}, Y}[(\\hat{f}(\\mathbf{X}) - Y)^2] = \\int \\int (\\hat{f}(\\mathbf{x}) - y)^2 p(\\mathbf{x}, y)~d\\mathbf{x}dy$$"
      ]
    },
    {
      "cell_type": "markdown",
      "metadata": {
        "colab_type": "text",
        "id": "F444HQIvwl5u"
      },
      "source": [
        "-- Escreva aqui a sua resolução --\n",
        "\n",
        "Usando a Lei da Probabilidade Total, temos que  \n",
        "\n",
        "$$ \\mathbb{E}_{\\mathbf{X}, Y} [(\\hat{f}(\\mathbf{X}) - Y)^2] = \\mathbb{E}_{\\mathbf{X}}\\Big[ \\mathbb{E}_{Y}[(\\hat{f}(\\mathbf{X}) - Y)^2] \\Big] = \\int \\Big( \\int (\\hat{f}(\\mathbf{x}) - y)^2 p(y \\mid \\mathbf{x}) dy \\Big) p(\\mathbf{x}) d\\mathbf{x}$$\n",
        "\n",
        "Portanto, para minimizar $\\mathbb{E}_{\\mathbf{X}, Y} [(\\hat{f}(\\mathbf{X}) - Y)^2]$ em função de $\\hat{f}$ basta minimizar $\\int (\\hat{f}(\\mathbf{x}) - y)^2 p(y \\mid \\mathbf{x}) dy$ para cada $\\mathbf{x} \\in \\mathbb{R}^p$.\n",
        "\n",
        "Note que \n",
        "\n",
        "$$ \\int (\\hat{f}(\\mathbf{x}) - Y)^2 p(y \\mid \\mathbf{x}) dy = \\int \\big( (\\hat{f}(\\mathbf{x}))^2 - 2\\hat{f}(\\mathbf{x}) + y^2 \\big) p(y \\mid \\mathbf{x}) dy = (\\hat{f}(\\mathbf{x}))^2 \\int p(y \\mid \\mathbf{x}) dy - 2\\hat{f}(\\mathbf{x}) \\int p(y \\mid \\mathbf{x}) dy + \\int y^2 p(y \\mid \\mathbf{x}) dy = (\\hat{f}(\\mathbf{x}))^2 - 2\\hat{f}(\\mathbf{x}) \\mathbb{E}_{Y}[Y \\mid \\mathbf{X} = \\mathbf{x}] + \\mathbb{E}_{Y}[Y^2 \\mid \\mathbf{X} = \\mathbf{x}] $$\n",
        "\n",
        "Agora, defina \n",
        "\n",
        "$$g(\\hat{f}(\\mathbf{x})) = (\\hat{f}(\\mathbf{x}))^2 - 2\\hat{f}(\\mathbf{x}) \\mathbb{E}_{Y}[Y \\mid \\mathbf{X} = \\mathbf{x}] + \\mathbb{E}_{Y}[Y^2 \\mid \\mathbf{X} = \\mathbf{x}]$$\n",
        "\n",
        "Então \n",
        "\n",
        "$$ g'(\\hat{f}(\\mathbf{x})) = 2\\hat{f}(\\mathbf{x}) - 2\\mathbb{E}_{Y}[Y \\mid \\mathbf{X} = \\mathbf{x}] $$\n",
        "\n",
        "Daí \n",
        "\n",
        "$$ g'(\\hat{f}(\\mathbf{x})^*) = 0 \\iff \\hat{f}(\\mathbf{x})^* = \\mathbb{E}_{Y}[Y \\mid \\mathbf{X} = \\mathbf{x}] $$\n",
        "\n",
        "Além disso, \n",
        "\n",
        "$$ g''(\\hat{f}(\\mathbf{x})) = 2 > 0$$\n",
        "\n",
        "logo $\\hat{f}(\\mathbf{x})^* = \\mathbb{E}_{Y}[Y \\mid \\mathbf{X} = \\mathbf{x}]$ é, de fato, ponto de mínimo. Sendo o único ponto de mínimo, este é, portanto, o ponto de mínimo global."
      ]
    },
    {
      "cell_type": "markdown",
      "metadata": {
        "colab_type": "text",
        "id": "eacPGH7dwl5v"
      },
      "source": [
        "b) Seja agora $\\hat{f}$ uma estimativa de $f$ obtida a partir de um determinado conjunto de observações $\\mathcal{D}$. Explicitemos tal fato agora escrevendo $\\hat{f}(\\mathbf{x})$ como $\\hat{f}(\\mathbf{x}; \\mathcal{D})$. Fixe $\\mathbf{x}$ e considere a distância quadrática entre $\\hat{y} = \\hat{f}(\\mathbf{x}; \\mathcal{D})$ e sua \"melhor\" previsão possível, ou seja, $(\\hat{f}(\\mathbf{x}; \\mathcal{D}) - \\hat{f}_{\\mathrm{opt}}(\\mathbf{x}))^2$. Mostre que o valor esperado de tal quantidade com respeito a todos os possívels conjuntos de dados é dada por\n",
        "\n",
        "$$\\mathbb{E}_{\\mathcal{D}}[(\\hat{f}(\\mathbf{x}; \\mathcal{D}) - \\hat{f}_{\\mathrm{opt}}(\\mathbf{x}))^2] = (\\mathbb{E}_{\\mathcal{D}}[\\hat{f}(\\mathbf{x}; \\mathcal{D})] - \\hat{f}_{\\mathrm{opt}}(\\mathbf{x}))^2 - \\mathbb{E}_{\\mathcal{D}}[(\\hat{f}(\\mathbf{x}; \\mathcal{D}) - \\mathbb{E}_{\\mathcal{D}}[\\hat{f}(\\mathbf{x}; \\mathcal{D})])^2].$$\n",
        "\n",
        "Dica: $0 = \\mathbb{E}_{\\mathcal{D}}[\\hat{f}(\\mathbf{x}; \\mathcal{D})] - \\mathbb{E}_{\\mathcal{D}}[\\hat{f}(\\mathbf{x}; \\mathcal{D})]$.\n",
        "\n",
        "Finalmente, argumente que o primeiro desses termos é o que chamamos de \"viés\" (ao quadrado) e o segundo de \"variância\"."
      ]
    },
    {
      "cell_type": "markdown",
      "metadata": {
        "colab_type": "text",
        "id": "LtL0R-Yqwl5w"
      },
      "source": [
        "-- Escreva aqui a sua resolução --\n",
        "\n",
        "Note que\n",
        "\n",
        "$$ \\hat{f}(\\mathbf{x}; \\mathcal{D}) - \\hat{f}_{\\mathrm{opt}}(\\mathbf{x}) = \\big( \\hat{f}(\\mathbf{x}; \\mathcal{D}) - \\mathbb{E}_{\\mathcal{D}}[\\hat{f}(\\mathbf{x}; \\mathcal{D})] \\big) - \\big( \\hat{f}_{\\mathrm{opt}}(\\mathbf{x}) -  \\mathbb{E}_{\\mathcal{D}}[\\hat{f}(\\mathbf{x}; \\mathcal{D})]   \\big) $$\n",
        "\n",
        "e, logo, \n",
        "\n",
        "$$ \\big( \\hat{f}(\\mathbf{x}; \\mathcal{D}) - \\hat{f}_{\\mathrm{opt}}(\\mathbf{x}) \\big)^2 = \\big( \\hat{f}(\\mathbf{x}; \\mathcal{D}) - \\mathbb{E}_{\\mathcal{D}}[\\hat{f}(\\mathbf{x}; \\mathcal{D})] \\big)^2 - 2\\big( \\hat{f}(\\mathbf{x}; \\mathcal{D}) - \\mathbb{E}_{\\mathcal{D}}[\\hat{f}(\\mathbf{x}; \\mathcal{D})] \\big)\\big( \\hat{f}_{\\mathrm{opt}}(\\mathbf{x}) -  \\mathbb{E}_{\\mathcal{D}}[\\hat{f}(\\mathbf{x}; \\mathcal{D})]   \\big) + \\big( \\hat{f}_{\\mathrm{opt}}(\\mathbf{x}) -  \\mathbb{E}_{\\mathcal{D}}[\\hat{f}(\\mathbf{x}; \\mathcal{D})]   \\big)^2 $$\n",
        "\n",
        "Daí \n",
        "\n",
        "$$ \\mathbb{E}_{\\mathcal{D}}[(\\hat{f}(\\mathbf{x}; \\mathcal{D}) - \\hat{f}_{\\mathrm{opt}}(\\mathbf{x}))^2] = \\mathbb{E}_{\\mathcal{D}}\\Big[ \\big( \\hat{f}(\\mathbf{x}; \\mathcal{D}) - \\mathbb{E}_{\\mathcal{D}}[\\hat{f}(\\mathbf{x}; \\mathcal{D})] \\big)^2\\Big] - 2\\mathbb{E}_{\\mathcal{D}}\\Big[\\big( \\hat{f}(\\mathbf{x}; \\mathcal{D}) - \\mathbb{E}_{\\mathcal{D}}[\\hat{f}(\\mathbf{x}; \\mathcal{D})] \\big)\\big( \\mathbb{E}_{\\mathcal{D}}[\\hat{f}(\\mathbf{x}; \\mathcal{D})] -  \\hat{f}_{\\mathrm{opt}}(\\mathbf{x}) \\big)\\Big] + \\mathbb{E}_{\\mathcal{D}}\\Big[\\big( \\hat{f}_{\\mathrm{opt}}(\\mathbf{x}) -  \\mathbb{E}_{\\mathcal{D}}[\\hat{f}(\\mathbf{x}; \\mathcal{D})]   \\big)^2 \\Big] = \\mathbb{E}_{\\mathcal{D}}\\Big[ \\big( \\hat{f}(\\mathbf{x}; \\mathcal{D}) - \\mathbb{E}_{\\mathcal{D}}[\\hat{f}(\\mathbf{x}; \\mathcal{D})] \\big)^2 \\Big] - 2\\mathbb{E}_{\\mathcal{D}}\\Big[ \\big( \\hat{f}(\\mathbf{x}; \\mathcal{D}) - \\mathbb{E}_{\\mathcal{D}}[\\hat{f}(\\mathbf{x}; \\mathcal{D})] \\big)\\big( \\hat{f}_{\\mathrm{opt}}(\\mathbf{x}) -  \\mathbb{E}_{\\mathcal{D}}[\\hat{f}(\\mathbf{x}; \\mathcal{D})]   \\big) \\Big] + \\mathbb{E}_{\\mathcal{D}}\\Big[\\big( \\hat{f}_{\\mathrm{opt}}(\\mathbf{x}) -  \\mathbb{E}_{\\mathcal{D}}[\\hat{f}(\\mathbf{x}; \\mathcal{D})]   \\big)^2 \\Big] = (*) $$\n",
        "\n",
        "Note que $\\hat{f}_{\\mathrm{opt}}(\\mathbf{x})$ não depende de $\\mathcal{D}$ e $\\mathbb{E}_{\\mathcal{D}}[\\hat{f}(\\mathbf{x}; \\mathcal{D})]$ é $\\mathcal{D}$-mensurável. Logo \n",
        "\n",
        "$$ \\mathbb{E}_{\\mathcal{D}}\\Big[ \\big( \\hat{f}(\\mathbf{x}; \\mathcal{D}) - \\mathbb{E}_{\\mathcal{D}}[\\hat{f}(\\mathbf{x}; \\mathcal{D})] \\big)\\big( \\hat{f}_{\\mathrm{opt}}(\\mathbf{x}) -  \\mathbb{E}_{\\mathcal{D}}[\\hat{f}(\\mathbf{x}; \\mathcal{D})]   \\big) \\Big] = \\big( \\hat{f}_{\\mathrm{opt}}(\\mathbf{x}) -  \\mathbb{E}_{\\mathcal{D}}[\\hat{f}(\\mathbf{x}; \\mathcal{D})]   \\big) \\mathbb{E}_{\\mathcal{D}}\\Big[\\hat{f}(\\mathbf{x}; \\mathcal{D}) - \\mathbb{E}_{\\mathcal{D}}[\\hat{f}(\\mathbf{x}; \\mathcal{D})] \\Big] =  \\big( \\hat{f}_{\\mathrm{opt}}(\\mathbf{x}) -  \\mathbb{E}_{\\mathcal{D}}[\\hat{f}(\\mathbf{x}; \\mathcal{D})]   \\big) \\big(\\mathbb{E}_{\\mathcal{D}}[\\hat{f}(\\mathbf{x}; \\mathcal{D})] - \\mathbb{E}_{\\mathcal{D}}[\\mathbb{E}_{\\mathcal{D}}[\\hat{f}(\\mathbf{x}; \\mathcal{D})]] \\big) = \\big( \\hat{f}_{\\mathrm{opt}}(\\mathbf{x}) -  \\mathbb{E}_{\\mathcal{D}}[\\hat{f}(\\mathbf{x}; \\mathcal{D})]   \\big) \\big(\\mathbb{E}_{\\mathcal{D}}[\\hat{f}(\\mathbf{x}; \\mathcal{D})] - \\mathbb{E}_{\\mathcal{D}}[\\hat{f}(\\mathbf{x}; \\mathcal{D})] \\big) = 0 $$\n",
        "\n",
        "e\n",
        "\n",
        "$$ \\mathbb{E}_{\\mathcal{D}}\\Big[\\big( \\hat{f}_{\\mathrm{opt}}(\\mathbf{x}) -  \\mathbb{E}_{\\mathcal{D}}[\\hat{f}(\\mathbf{x}; \\mathcal{D})]   \\big)^2 \\Big] = \\big( \\hat{f}_{\\mathrm{opt}}(\\mathbf{x}) -  \\mathbb{E}_{\\mathcal{D}}[\\hat{f}(\\mathbf{x}; \\mathcal{D})]   \\big)^2 $$\n",
        "\n",
        "Assim, substituindo em $(*)$ temos que \n",
        "\n",
        "$$ \\mathbb{E}_{\\mathcal{D}}[(\\hat{f}(\\mathbf{x}; \\mathcal{D}) - \\hat{f}_{\\mathrm{opt}}(\\mathbf{x}))^2] = \\mathbb{E}_{\\mathcal{D}}\\Big[ \\big( \\hat{f}(\\mathbf{x}; \\mathcal{D}) - \\mathbb{E}_{\\mathcal{D}}[\\hat{f}(\\mathbf{x}; \\mathcal{D})] \\big)^2\\Big] + \\big( \\hat{f}_{\\mathrm{opt}}(\\mathbf{x}) -  \\mathbb{E}_{\\mathcal{D}}[\\hat{f}(\\mathbf{x}; \\mathcal{D})]   \\big)^2 $$"
      ]
    },
    {
      "cell_type": "markdown",
      "metadata": {
        "colab_type": "text",
        "id": "I3mgaiDDwl5x"
      },
      "source": [
        "c) Note que o resultado obtido acima é quase o que apresentamos em sala, a menos do termo sobre a variância do erro de observação. De modo a incorporá-lo, retorne ao item a) e mostre que $\\mathbb{E}_{\\mathbf{X}, Y}[(\\hat{f}(\\mathbf{X}) - Y)^2]$ pode ser escrita como $$\\mathbb{E}_{\\mathbf{X}, Y}[(\\hat{f}(\\mathbf{X}) - Y)^2] = \\int (\\hat{f}(\\mathbf{x}) - \\hat{f}_{\\mathrm{opt}}(\\mathbf{x}))^2 p(\\mathbf{x})~d\\mathbf{x} + \\int \\int (\\hat{f}_{\\mathrm{opt}}(\\mathbf{x}) - y)^2 p(\\mathbf{x}, y)~d\\mathbf{x}dy.$$\n",
        "\n",
        "Dica: Novamente, $0 = \\mathrm{alguma~coisa} - \\mathrm{a~mesma~coisa}$. Descubra quem é essa coisa."
      ]
    },
    {
      "cell_type": "markdown",
      "metadata": {
        "colab_type": "text",
        "id": "jNYK_be8wl5y"
      },
      "source": [
        "-- Escreva aqui a sua resolução --\n",
        "\n",
        "Note que \n",
        "\n",
        "$$\\hat{f}(\\mathbf{X}) = \\hat{f}(\\mathbf{X}) + \\hat{f}_{\\mathrm{opt}}(\\mathbf{X}) - \\hat{f}_{\\mathrm{opt}}(\\mathbf{X})$$\n",
        "\n",
        "Logo \n",
        "\n",
        "$$ \\big( \\hat{f}(\\mathbf{X}) - Y \\big) = \\big( \\hat{f}(\\mathbf{X}) - \\hat{f}_{\\mathrm{opt}}(\\mathbf{X}) \\big) - \\big( Y - \\hat{f}_{\\mathrm{opt}}(\\mathbf{X}) \\big)$$\n",
        "\n",
        "e, portanto, \n",
        "\n",
        "$$ \\big( \\hat{f}(\\mathbf{X}) - Y \\big)^2 = \\big( \\hat{f}(\\mathbf{X}) - \\hat{f}_{\\mathrm{opt}}(\\mathbf{X}) \\big)^2 -2\\big( \\hat{f}(\\mathbf{X}) - \\hat{f}_{\\mathrm{opt}}(\\mathbf{X}) \\big)\\big( Y - \\hat{f}_{\\mathrm{opt}}(\\mathbf{X}) \\big) + \\big( Y - \\hat{f}_{\\mathrm{opt}}(\\mathbf{X}) \\big)^2  $$\n",
        "\n",
        "Daí \n",
        "\n",
        "$$ \\mathbb{E}_{\\mathbf{X}, Y} \\Big[ \\big( \\hat{f}(\\mathbf{X}) - Y \\big)^2 \\Big] = \\mathbb{E}_{\\mathbf{X}, Y} \\Big[ \\big( \\hat{f}(\\mathbf{X}) - \\hat{f}_{\\mathrm{opt}}(\\mathbf{X}) \\big)^2 -2\\big( \\hat{f}(\\mathbf{X}) - \\hat{f}_{\\mathrm{opt}}(\\mathbf{X}) \\big)\\big( Y - \\hat{f}_{\\mathrm{opt}}(\\mathbf{X}) \\big) + \\big( Y - \\hat{f}_{\\mathrm{opt}}(\\mathbf{X}) \\big)^2 \\Big] = \\mathbb{E}_{\\mathbf{X}, Y} \\Big[\\big( \\hat{f}(\\mathbf{X}) - \\hat{f}_{\\mathrm{opt}}(\\mathbf{X}) \\big)^2\\Big] - 2\\mathbb{E}_{\\mathbf{X}, Y} \\Big[\\big( \\hat{f}(\\mathbf{X}) - \\hat{f}_{\\mathrm{opt}}(\\mathbf{X}) \\big)\\big( Y - \\hat{f}_{\\mathrm{opt}}(\\mathbf{X}) \\big) \\Big] + \\mathbb{E}_{\\mathbf{X}, Y} \\Big[ \\big( Y - \\hat{f}_{\\mathrm{opt}}(\\mathbf{X}) \\big)^2 \\Big] = (**) $$\n",
        "\n",
        "Agora, note que \n",
        "\n",
        "$$ \\mathbb{E}_{\\mathbf{X}, Y} \\Big[\\big( \\hat{f}(\\mathbf{X}) - \\hat{f}_{\\mathrm{opt}}(\\mathbf{X}) \\big)\\big( Y - \\hat{f}_{\\mathrm{opt}}(\\mathbf{X}) \\big) \\Big] = \\mathbb{E}_{\\mathbf{X}} \\Big[ \\mathbb{E}_{Y} \\big[ \\big( \\hat{f}(\\mathbf{X}) - \\hat{f}_{\\mathrm{opt}}(\\mathbf{X}) \\big)\\big( Y - \\hat{f}_{\\mathrm{opt}}(\\mathbf{X}) \\big) \\mid \\mathbf{X} \\big] \\Big] =  \\mathbb{E}_{\\mathbf{X}} \\Big[ \\big( \\hat{f}(\\mathbf{X}) - \\hat{f}_{\\mathrm{opt}}(\\mathbf{X}) \\big)\\mathbb{E}_{Y} \\big[\\big( Y - \\hat{f}_{\\mathrm{opt}}(\\mathbf{X}) \\big) \\mid \\mathbf{X} \\big] \\Big] = \\int \\big( \\hat{f}(\\mathbf{x}) - \\hat{f}_{\\mathrm{opt}}(\\mathbf{x})\\big) \\Big( \\int \\big(y - \\hat{f}_{\\mathrm{opt}}(\\mathbf{x})\\big) p(y \\mid \\mathbf{x}) dy \\Big) d\\mathbf{x} $$\n",
        "\n",
        "Mas observe que \n",
        "\n",
        "$$ \\int \\big(y - \\hat{f}_{\\mathrm{opt}}(\\mathbf{x})\\big) p(y \\mid \\mathbf{x}) dy = \\int y p(y \\mid \\mathbf{x}) dy - \\hat{f}_{\\mathrm{opt}}(\\mathbf{x}) \\int p(y \\mid \\mathbf{x}) dy = \\mathbb{E}_{Y}[ Y \\mid \\mathbf{X} = \\mathbf{x}] - \\hat{f}_{\\mathrm{opt}}(\\mathbf{x}) = \\mathbb{E}_{Y}[ Y \\mid \\mathbf{X} = \\mathbf{x}] = \\mathbb{E}_{Y}[ Y \\mid \\mathbf{X} = \\mathbf{x}] - \\mathbb{E}_{Y}[ Y \\mid \\mathbf{X} = \\mathbf{x}] = 0 $$\n",
        "\n",
        "Além disso, repare que \n",
        "\n",
        "$$ \\mathbb{E}_{\\mathbf{X}, Y} \\Big[\\big( \\hat{f}(\\mathbf{X}) - \\hat{f}_{\\mathrm{opt}}(\\mathbf{X}) \\big)^2\\Big] = \\int \\int \\big( \\hat{f}(\\mathbf{x}) - \\hat{f}_{\\mathrm{opt}}(\\mathbf{x}) \\big)^2 p(\\mathbf{x}, y) dyd\\mathbf{x} = \\int \\big( \\hat{f}(\\mathbf{x}) - \\hat{f}_{\\mathrm{opt}}(\\mathbf{x}) \\big)^2 \\Big( \\int p(\\mathbf{x}, y) dy \\Big) d\\mathbf{x}  = \\int \\big( \\hat{f}(\\mathbf{x}) - \\hat{f}_{\\mathrm{opt}}(\\mathbf{x}) \\big)^2 p(\\mathbf{x}) d\\mathbf{x}  $$\n",
        "\n",
        "e que \n",
        "\n",
        "$$ \\mathbb{E}_{\\mathbf{X}, Y} \\Big[ \\big( Y - \\hat{f}_{\\mathrm{opt}}(\\mathbf{X}) \\big)^2 \\Big] = \\int \\int \\big( y - \\hat{f}_{\\mathrm{opt}}(\\mathbf{x}) \\big)^2 p(\\mathbf{x}, y) dy d\\mathbf{x}  $$\n",
        "\n",
        "Substituindo estes valores em $(**)$ obtemos \n",
        "\n",
        "$$ \\mathbb{E}_{\\mathbf{X}, Y} \\Big[ \\big( \\hat{f}(\\mathbf{X}) - Y \\big)^2 \\Big] = \\int \\big( \\hat{f}(\\mathbf{x}) - \\hat{f}_{\\mathrm{opt}}(\\mathbf{x}) \\big)^2 p(\\mathbf{x}) d\\mathbf{x} + \\int \\int \\big( y - \\hat{f}_{\\mathrm{opt}}(\\mathbf{x}) \\big)^2 p(\\mathbf{x}, y) dy d\\mathbf{x}  $$\n",
        "\n"
      ]
    },
    {
      "cell_type": "markdown",
      "metadata": {
        "colab_type": "text",
        "id": "fNVAXy8ywl5z"
      },
      "source": [
        "d) Juntando os resultados dos itens b) e c), conclua que\n",
        "\n",
        "$$\\mathbb{E}_{\\mathbf{X}, Y, \\mathcal{D}}[(\\hat{f}(\\mathbf{X}; \\mathcal{D}) - Y)^2] = \\int (\\mathbb{E}_{\\mathcal{D}}[\\hat{f}(\\mathbf{x}; \\mathcal{D})] - \\hat{f}_{\\mathrm{opt}}(\\mathbf{x}))^2 p(\\mathbf{x})~d\\mathbf{x} + \\int \\mathbb{E}_{\\mathcal{D}}[(\\hat{f}(\\mathbf{x}; \\mathcal{D}) - \\mathbb{E}_{\\mathcal{D}}[\\hat{f}(\\mathbf{x}; \\mathcal{D})])^2] p(\\mathbf{x})~d\\mathbf{x} + \\int \\int (\\hat{f}_{\\mathrm{opt}}(\\mathbf{x}) - y)^2 p(\\mathbf{x}, y)~d\\mathbf{x}dy.$$\n",
        "\n",
        "Para concluir, argumente que o primeiro desses termos é o que chamamos de \"viés\" (ao quadrado), segundo é a \"variância\" e o terceiro está relacionado com o ruído inerente das observações."
      ]
    },
    {
      "cell_type": "markdown",
      "metadata": {
        "colab_type": "text",
        "id": "NGx4OD0Pwl50"
      },
      "source": [
        "-- Escreva aqui a sua resolução --\n",
        "\n",
        "Já mostramos que \n",
        "\n",
        "$$ \\mathbb{E}_{\\mathcal{D}}[(\\hat{f}(\\mathbf{x}; \\mathcal{D}) - \\hat{f}_{\\mathrm{opt}}(\\mathbf{x}))^2] = \\mathbb{E}_{\\mathcal{D}}\\Big[ \\big( \\hat{f}(\\mathbf{x}; \\mathcal{D}) - \\mathbb{E}_{\\mathcal{D}}[\\hat{f}(\\mathbf{x}; \\mathcal{D})] \\big)^2\\Big] + \\big( \\hat{f}_{\\mathrm{opt}}(\\mathbf{x}) -  \\mathbb{E}_{\\mathcal{D}}[\\hat{f}(\\mathbf{x}; \\mathcal{D})]   \\big)^2 $$\n",
        "\n",
        "Agora, repare que \n",
        "\n",
        "$$ \\mathbb{E}_{\\mathbf{X}, Y, \\mathcal{D}}[(\\hat{f}(\\mathbf{X}; \\mathcal{D}) - Y)^2] = \\mathbb{E}_{\\mathcal{D}}\\Big[ \\mathbb{E}_{\\mathbf{X}, Y}\\big[ (\\hat{f}(\\mathbf{X}; \\mathcal{D}) - Y)^2 \\mid \\mathcal{D}   \\big] \\Big] = \\mathbb{E}_{\\mathcal{D}}\\Big[ \\int \\big( \\hat{f}(\\mathbf{x}) - \\hat{f}_{\\mathrm{opt}}(\\mathbf{x}) \\big)^2 p(\\mathbf{x}) d\\mathbf{x} + \\int \\int \\big( y - \\hat{f}_{\\mathrm{opt}}(\\mathbf{x}) \\big)^2 p(\\mathbf{x}, y) dy d\\mathbf{x} \\Big] = \\mathbb{E}_{\\mathcal{D}}\\Big[ \\int \\big( \\hat{f}(\\mathbf{x}) - \\hat{f}_{\\mathrm{opt}}(\\mathbf{x}) \\big)^2 p(\\mathbf{x}) d\\mathbf{x} \\Big] + \\mathbb{E}_{\\mathcal{D}}\\Big[ \\int \\int \\big( y - \\hat{f}_{\\mathrm{opt}}(\\mathbf{x}) \\big)^2 p(\\mathbf{x}, y) dy d\\mathbf{x} \\Big]   $$\n",
        "\n",
        "Agora, usando o Teorema de Fubini para o primeiro termo, e o fato de que $\\hat{f}_{\\mathrm{opt}}$ não depende de $\\mathcal{D}$, temos que \n",
        "\n",
        "$$ \\mathbb{E}_{\\mathcal{D}}\\Big[ \\int \\big( \\hat{f}(\\mathbf{x}) - \\hat{f}_{\\mathrm{opt}}(\\mathbf{x}) \\big)^2 p(\\mathbf{x}) d\\mathbf{x} \\Big] + \\mathbb{E}_{\\mathcal{D}}\\Big[ \\int \\int \\big( y - \\hat{f}_{\\mathrm{opt}}(\\mathbf{x}) \\big)^2 p(\\mathbf{x}, y) dy d\\mathbf{x} \\Big] = \\int \\mathbb{E}_{\\mathcal{D}}\\Big[\\big( \\hat{f}(\\mathbf{x}) - \\hat{f}_{\\mathrm{opt}}(\\mathbf{x}) \\big)^2 \\Big] p(\\mathbf{x}) d\\mathbf{x} + \\int \\int \\big( y - \\hat{f}_{\\mathrm{opt}}(\\mathbf{x}) \\big)^2 p(\\mathbf{x}, y) dy d\\mathbf{x} $$\n",
        "\n",
        "E, finalmente, usando o resultado obtido no item (c), obtemos \n",
        "\n",
        "$$ \\int \\mathbb{E}_{\\mathcal{D}}\\Big[\\big( \\hat{f}(\\mathbf{x}) - \\hat{f}_{\\mathrm{opt}}(\\mathbf{x}) \\big)^2 \\Big] p(\\mathbf{x}) d\\mathbf{x} + \\int \\int \\big( y - \\hat{f}_{\\mathrm{opt}}(\\mathbf{x}) \\big)^2 p(\\mathbf{x}, y) dy d\\mathbf{x} = \\int \\Bigg( \\mathbb{E}_{\\mathcal{D}}\\Big[ \\big( \\hat{f}(\\mathbf{x}; \\mathcal{D}) - \\mathbb{E}_{\\mathcal{D}}[\\hat{f}(\\mathbf{x}; \\mathcal{D})] \\big)^2\\Big] + \\big( \\hat{f}_{\\mathrm{opt}}(\\mathbf{x}) -  \\mathbb{E}_{\\mathcal{D}}[\\hat{f}(\\mathbf{x}; \\mathcal{D})]   \\big)^2 \\Bigg) p(\\mathbf{x}) d\\mathbf{x} + \\int \\int \\big( y - \\hat{f}_{\\mathrm{opt}}(\\mathbf{x}) \\big)^2 p(\\mathbf{x}, y) dy d\\mathbf{x} = \\int \\mathbb{E}_{\\mathcal{D}}\\Big[ \\big( \\hat{f}(\\mathbf{x}; \\mathcal{D}) - \\mathbb{E}_{\\mathcal{D}}[\\hat{f}(\\mathbf{x}; \\mathcal{D})] \\big)^2\\Big]  p(\\mathbf{x}) d\\mathbf{x} + \\int \\big( \\hat{f}_{\\mathrm{opt}}(\\mathbf{x}) -  \\mathbb{E}_{\\mathcal{D}}[\\hat{f}(\\mathbf{x}; \\mathcal{D})] \\big)^2 p(\\mathbf{x}) d\\mathbf{x} + \\int \\int \\big( y - \\hat{f}_{\\mathrm{opt}}(\\mathbf{x}) \\big)^2 p(\\mathbf{x}, y) dy d\\mathbf{x}  $$"
      ]
    },
    {
      "cell_type": "markdown",
      "metadata": {
        "colab_type": "text",
        "id": "ELjzDosY4cTT"
      },
      "source": [
        "## M2) Classificador de Bayes ingênuo multinomial\n",
        "\n",
        "Em aula vimos o classificador de Bayes ingênuo Bernoulli e Normal, onde a distribuição de cada componente de $\\mathbf{X} | Y$ era suposta ser Bernoulli ou Normal, respectivamente, todas independentes entre si. Uma hipótese um pouco menos ingênua no cenário discreto é assumir que $\\mathbf{X} | Y$ segue uma distribuição Multinomial. Tal classificador é obviamente chamado classificador de Bayes ingênuo Multinomial. Disserte amplamente sobre ele. Seu texto necessariamente deverá conter:\n",
        "* Hipóteses adequadas sobre o modelo\n",
        "* Formulação matemática precisa\n",
        "* Aspectos teóricos relevantes, em particular relações com o classificador de Bayes ingênuo Bernoulli e regularização\n",
        "* Breve resumo explicativo de tal classificador dentro do scikit-learn\n",
        "\n",
        "Se você quiser fazer um exemplo, isso poderá valer uma nota extra. Recomendo analisar o banco de dados de spam de SMS, trabalhado em sala de aula, à luz desse classificador, em particular, comparando seu desempenho com o classificador de Bayes ingênuo Bernoulli."
      ]
    },
    {
      "cell_type": "markdown",
      "metadata": {
        "colab_type": "text",
        "id": "DRy3Kaxn6GpY"
      },
      "source": [
        "-- Escreva aqui a sua resolução --"
      ]
    }
  ]
}